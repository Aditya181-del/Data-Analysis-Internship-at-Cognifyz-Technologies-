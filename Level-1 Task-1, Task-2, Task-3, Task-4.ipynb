{
 "cells": [
  {
   "cell_type": "markdown",
   "id": "c9b1a92b",
   "metadata": {},
   "source": [
    "# *LEVEL 1*"
   ]
  },
  {
   "cell_type": "markdown",
   "id": "39b159eb",
   "metadata": {},
   "source": [
    "# Task: Top Cuisines\n",
    "# 1. Determine the top three most common cuisines in the dataset.\n",
    "# 2. Calculate the percentage of restaurants that serve each of the top cuisines."
   ]
  },
  {
   "cell_type": "code",
   "execution_count": 1,
   "id": "894add59",
   "metadata": {},
   "outputs": [],
   "source": [
    "import numpy as np \n",
    "import pandas as pd \n",
    "import matplotlib.pyplot as plt \n",
    "import seaborn as sns"
   ]
  },
  {
   "cell_type": "code",
   "execution_count": 2,
   "id": "45f1f504",
   "metadata": {},
   "outputs": [
    {
     "data": {
      "application/vnd.microsoft.datawrangler.viewer.v0+json": {
       "columns": [
        {
         "name": "index",
         "rawType": "int64",
         "type": "integer"
        },
        {
         "name": "Restaurant ID",
         "rawType": "int64",
         "type": "integer"
        },
        {
         "name": "Restaurant Name",
         "rawType": "object",
         "type": "string"
        },
        {
         "name": "Country Code",
         "rawType": "int64",
         "type": "integer"
        },
        {
         "name": "City",
         "rawType": "object",
         "type": "string"
        },
        {
         "name": "Address",
         "rawType": "object",
         "type": "string"
        },
        {
         "name": "Locality",
         "rawType": "object",
         "type": "string"
        },
        {
         "name": "Locality Verbose",
         "rawType": "object",
         "type": "string"
        },
        {
         "name": "Longitude",
         "rawType": "float64",
         "type": "float"
        },
        {
         "name": "Latitude",
         "rawType": "float64",
         "type": "float"
        },
        {
         "name": "Cuisines",
         "rawType": "object",
         "type": "unknown"
        },
        {
         "name": "Average Cost for two",
         "rawType": "int64",
         "type": "integer"
        },
        {
         "name": "Currency",
         "rawType": "object",
         "type": "string"
        },
        {
         "name": "Has Table booking",
         "rawType": "object",
         "type": "string"
        },
        {
         "name": "Has Online delivery",
         "rawType": "object",
         "type": "string"
        },
        {
         "name": "Is delivering now",
         "rawType": "object",
         "type": "string"
        },
        {
         "name": "Switch to order menu",
         "rawType": "object",
         "type": "string"
        },
        {
         "name": "Price range",
         "rawType": "int64",
         "type": "integer"
        },
        {
         "name": "Aggregate rating",
         "rawType": "float64",
         "type": "float"
        },
        {
         "name": "Rating color",
         "rawType": "object",
         "type": "string"
        },
        {
         "name": "Rating text",
         "rawType": "object",
         "type": "string"
        },
        {
         "name": "Votes",
         "rawType": "int64",
         "type": "integer"
        }
       ],
       "conversionMethod": "pd.DataFrame",
       "ref": "7ef8da0d-edaa-40e5-9bd5-de9d7ac58383",
       "rows": [
        [
         "0",
         "6317637",
         "Le Petit Souffle",
         "162",
         "Makati City",
         "Third Floor, Century City Mall, Kalayaan Avenue, Poblacion, Makati City",
         "Century City Mall, Poblacion, Makati City",
         "Century City Mall, Poblacion, Makati City, Makati City",
         "121.027535",
         "14.565443",
         "French, Japanese, Desserts",
         "1100",
         "Botswana Pula(P)",
         "Yes",
         "No",
         "No",
         "No",
         "3",
         "4.8",
         "Dark Green",
         "Excellent",
         "314"
        ],
        [
         "1",
         "6304287",
         "Izakaya Kikufuji",
         "162",
         "Makati City",
         "Little Tokyo, 2277 Chino Roces Avenue, Legaspi Village, Makati City",
         "Little Tokyo, Legaspi Village, Makati City",
         "Little Tokyo, Legaspi Village, Makati City, Makati City",
         "121.014101",
         "14.553708",
         "Japanese",
         "1200",
         "Botswana Pula(P)",
         "Yes",
         "No",
         "No",
         "No",
         "3",
         "4.5",
         "Dark Green",
         "Excellent",
         "591"
        ],
        [
         "2",
         "6300002",
         "Heat - Edsa Shangri-La",
         "162",
         "Mandaluyong City",
         "Edsa Shangri-La, 1 Garden Way, Ortigas, Mandaluyong City",
         "Edsa Shangri-La, Ortigas, Mandaluyong City",
         "Edsa Shangri-La, Ortigas, Mandaluyong City, Mandaluyong City",
         "121.056831",
         "14.581404",
         "Seafood, Asian, Filipino, Indian",
         "4000",
         "Botswana Pula(P)",
         "Yes",
         "No",
         "No",
         "No",
         "4",
         "4.4",
         "Green",
         "Very Good",
         "270"
        ],
        [
         "3",
         "6318506",
         "Ooma",
         "162",
         "Mandaluyong City",
         "Third Floor, Mega Fashion Hall, SM Megamall, Ortigas, Mandaluyong City",
         "SM Megamall, Ortigas, Mandaluyong City",
         "SM Megamall, Ortigas, Mandaluyong City, Mandaluyong City",
         "121.056475",
         "14.585318",
         "Japanese, Sushi",
         "1500",
         "Botswana Pula(P)",
         "No",
         "No",
         "No",
         "No",
         "4",
         "4.9",
         "Dark Green",
         "Excellent",
         "365"
        ],
        [
         "4",
         "6314302",
         "Sambo Kojin",
         "162",
         "Mandaluyong City",
         "Third Floor, Mega Atrium, SM Megamall, Ortigas, Mandaluyong City",
         "SM Megamall, Ortigas, Mandaluyong City",
         "SM Megamall, Ortigas, Mandaluyong City, Mandaluyong City",
         "121.057508",
         "14.58445",
         "Japanese, Korean",
         "1500",
         "Botswana Pula(P)",
         "Yes",
         "No",
         "No",
         "No",
         "4",
         "4.8",
         "Dark Green",
         "Excellent",
         "229"
        ],
        [
         "5",
         "18189371",
         "Din Tai Fung",
         "162",
         "Mandaluyong City",
         "Ground Floor, Mega Fashion Hall, SM Megamall, Ortigas, Mandaluyong City",
         "SM Megamall, Ortigas, Mandaluyong City",
         "SM Megamall, Ortigas, Mandaluyong City, Mandaluyong City",
         "121.056314",
         "14.583764",
         "Chinese",
         "1000",
         "Botswana Pula(P)",
         "No",
         "No",
         "No",
         "No",
         "3",
         "4.4",
         "Green",
         "Very Good",
         "336"
        ],
        [
         "6",
         "6300781",
         "Buffet 101",
         "162",
         "Pasay City",
         "Building K, SM By The Bay, Sunset Boulevard, Mall of Asia Complex (MOA), Pasay City",
         "SM by the Bay, Mall of Asia Complex, Pasay City",
         "SM by the Bay, Mall of Asia Complex, Pasay City, Pasay City",
         "120.9796667",
         "14.53133333",
         "Asian, European",
         "2000",
         "Botswana Pula(P)",
         "Yes",
         "No",
         "No",
         "No",
         "4",
         "4.0",
         "Green",
         "Very Good",
         "520"
        ],
        [
         "7",
         "6301290",
         "Vikings",
         "162",
         "Pasay City",
         "Building B, By The Bay, Seaside Boulevard, Mall of Asia Complex (MOA), Pasay City",
         "SM by the Bay, Mall of Asia Complex, Pasay City",
         "SM by the Bay, Mall of Asia Complex, Pasay City, Pasay City",
         "120.9793333",
         "14.54",
         "Seafood, Filipino, Asian, European",
         "2000",
         "Botswana Pula(P)",
         "Yes",
         "No",
         "No",
         "No",
         "4",
         "4.2",
         "Green",
         "Very Good",
         "677"
        ],
        [
         "8",
         "6300010",
         "Spiral - Sofitel Philippine Plaza Manila",
         "162",
         "Pasay City",
         "Plaza Level, Sofitel Philippine Plaza Manila, CCP Complex, Pasay City",
         "Sofitel Philippine Plaza Manila, Pasay City",
         "Sofitel Philippine Plaza Manila, Pasay City, Pasay City",
         "120.98009",
         "14.55299",
         "European, Asian, Indian",
         "6000",
         "Botswana Pula(P)",
         "Yes",
         "No",
         "No",
         "No",
         "4",
         "4.9",
         "Dark Green",
         "Excellent",
         "621"
        ],
        [
         "9",
         "6314987",
         "Locavore",
         "162",
         "Pasig City",
         "Brixton Technology Center, 10 Brixton Street, Kapitolyo, Pasig City",
         "Kapitolyo",
         "Kapitolyo, Pasig City",
         "121.056532",
         "14.572041",
         "Filipino",
         "1100",
         "Botswana Pula(P)",
         "Yes",
         "No",
         "No",
         "No",
         "3",
         "4.8",
         "Dark Green",
         "Excellent",
         "532"
        ],
        [
         "10",
         "6309903",
         "Silantro Fil-Mex",
         "162",
         "Pasig City",
         "75 East Capitol Drive, Kapitolyo, Pasig City",
         "Kapitolyo",
         "Kapitolyo, Pasig City",
         "121.057916",
         "14.567689",
         "Filipino, Mexican",
         "800",
         "Botswana Pula(P)",
         "No",
         "No",
         "No",
         "No",
         "3",
         "4.9",
         "Dark Green",
         "Excellent",
         "1070"
        ],
        [
         "11",
         "6309455",
         "Mad Mark's Creamery & Good Eats",
         "162",
         "Pasig City",
         "23 East Capitol Drive, Kapitolyo, Pasig City",
         "Kapitolyo",
         "Kapitolyo, Pasig City",
         "121.06082",
         "14.570849",
         "American, Ice Cream, Desserts",
         "900",
         "Botswana Pula(P)",
         "Yes",
         "No",
         "No",
         "No",
         "3",
         "4.2",
         "Green",
         "Very Good",
         "488"
        ],
        [
         "12",
         "6318433",
         "Silantro Fil-Mex",
         "162",
         "Quezon City",
         "Second Floor, UP Town Center, Katipunan Avenue, Diliman, Quezon City",
         "UP Town Center, Diliman, Quezon City",
         "UP Town Center, Diliman, Quezon City, Quezon City",
         "121.075419",
         "14.649503",
         "Filipino, Mexican",
         "800",
         "Botswana Pula(P)",
         "No",
         "No",
         "No",
         "No",
         "3",
         "4.8",
         "Dark Green",
         "Excellent",
         "294"
        ],
        [
         "13",
         "6310470",
         "Guevarra's",
         "162",
         "San Juan City",
         "387 P. Guevarra Corner Argonne Street, Addition Hills, San Juan City",
         "Addition Hills",
         "Addition Hills, San Juan City",
         "121.0335917",
         "14.59345",
         "Filipino",
         "1000",
         "Botswana Pula(P)",
         "Yes",
         "No",
         "No",
         "No",
         "3",
         "4.2",
         "Green",
         "Very Good",
         "458"
        ],
        [
         "14",
         "6314605",
         "Sodam Korean Restaurant",
         "162",
         "San Juan City",
         "17 J. Abad Santos Drive, Little Baguio, San Juan City",
         "Little Baguio",
         "Little Baguio, San Juan City",
         "121.03811",
         "14.59889",
         "Korean",
         "700",
         "Botswana Pula(P)",
         "No",
         "No",
         "No",
         "No",
         "3",
         "4.3",
         "Green",
         "Very Good",
         "223"
        ],
        [
         "15",
         "18185059",
         "Cafe Arabelle",
         "162",
         "Santa Rosa",
         "Ayala Mall, Solenad, Nuvali, Santa Rosa - Tagaytay Road, Don Jose, Santa Rosa",
         "Nuvali, Don Jose, Santa Rosa",
         "Nuvali, Don Jose, Santa Rosa, Santa Rosa",
         "121.05704",
         "14.237082",
         "Cafe, American, Italian, Filipino",
         "800",
         "Botswana Pula(P)",
         "No",
         "No",
         "No",
         "No",
         "3",
         "3.6",
         "Yellow",
         "Good",
         "29"
        ],
        [
         "16",
         "18182702",
         "Nonna's Pasta & Pizzeria",
         "162",
         "Santa Rosa",
         "Ground Floor, Building G, Solenad 3, Nuvali, Don Jose, Santa Rosa",
         "Solenad 3, Don Jose, Santa Rosa",
         "Solenad 3, Don Jose, Santa Rosa, Santa Rosa",
         "121.0565874",
         "14.23767897",
         "Italian, Pizza",
         "850",
         "Botswana Pula(P)",
         "No",
         "No",
         "No",
         "No",
         "3",
         "4.0",
         "Green",
         "Very Good",
         "72"
        ],
        [
         "17",
         "6318213",
         "Balay Dako",
         "162",
         "Tagaytay City",
         "Aguinaldo Highway, Tagaytay City",
         "Tagaytay City",
         "Tagaytay City, Tagaytay City",
         "120.951589",
         "14.101834",
         "Filipino",
         "1200",
         "Botswana Pula(P)",
         "Yes",
         "No",
         "No",
         "No",
         "3",
         "4.5",
         "Dark Green",
         "Excellent",
         "211"
        ],
        [
         "18",
         "18255654",
         "Hobing Korean Dessert Cafe",
         "162",
         "Taguig City",
         "Third Floor, BGC Stopover Pavillion, Rizal Drive Corner 31st Street, Bonifacio Global City, Taguig City",
         "BGC Stopover Pavillion, Bonifacio Global City",
         "BGC Stopover Pavillion, Bonifacio Global City, Taguig City",
         "121.045878",
         "14.55436",
         "Cafe, Korean, Desserts",
         "600",
         "Botswana Pula(P)",
         "No",
         "No",
         "No",
         "No",
         "2",
         "4.5",
         "Dark Green",
         "Excellent",
         "118"
        ],
        [
         "19",
         "6308205",
         "Wildflour Cafe + Bakery",
         "162",
         "Taguig City",
         "Ground Floor, Netlima Building, 4th Avenue Corner 26th Street, Bonifacio Global City, Taguig City",
         "Bonifacio Global City",
         "Bonifacio Global City, Taguig City",
         "121.04622",
         "14.549337",
         "Cafe, Bakery, American, Italian",
         "1500",
         "Botswana Pula(P)",
         "Yes",
         "No",
         "No",
         "No",
         "4",
         "4.4",
         "Green",
         "Very Good",
         "392"
        ],
        [
         "20",
         "6315438",
         "NIU by Vikings",
         "162",
         "Taguig City",
         "Sixth Floor, SM Aura Premier, C5 Road Corner 26th Street, Bonifacio Global City, Taguig City",
         "SM Aura Premier, Bonifacio Global City, Taguig City",
         "SM Aura Premier, Bonifacio Global City, Taguig City, Taguig City",
         "121.053725",
         "14.545858",
         "Seafood, American, Mediterranean, Japanese",
         "3000",
         "Botswana Pula(P)",
         "Yes",
         "No",
         "No",
         "No",
         "4",
         "4.7",
         "Dark Green",
         "Excellent",
         "535"
        ],
        [
         "21",
         "6310406",
         "The Food Hall by Todd English",
         "162",
         "Taguig City",
         "Fifth Floor, SM Aura Premier, C5 Corner 26th Street, Bonifacio Global City, Taguig City",
         "SM Aura Premier, Bonifacio Global City, Taguig City",
         "SM Aura Premier, Bonifacio Global City, Taguig City, Taguig City",
         "121.0534998",
         "14.54565535",
         "American, Asian, Italian, Seafood",
         "1800",
         "Botswana Pula(P)",
         "Yes",
         "No",
         "No",
         "No",
         "4",
         "4.5",
         "Dark Green",
         "Excellent",
         "618"
        ],
        [
         "22",
         "6600681",
         "Chez Michou",
         "30",
         "Bras�_lia",
         "SCLN, 208, Bloco A, Loja 30, Asa Norte, Bras�_lia",
         "Asa Norte",
         "Asa Norte, Bras�_lia",
         "-47.88178889",
         "-15.76414167",
         "Fast Food, French",
         "55",
         "Brazilian Real(R$)",
         "No",
         "No",
         "No",
         "No",
         "2",
         "3.0",
         "Orange",
         "Average",
         "6"
        ],
        [
         "23",
         "6601005",
         "Caf�� Daniel Briand",
         "30",
         "Bras�_lia",
         "SCLN 104, Bloco A, Loja 26, Asa Norte, Bras�_lia",
         "Asa Norte",
         "Asa Norte, Bras�_lia",
         "-47.88266667",
         "-15.7775",
         "Cafe",
         "30",
         "Brazilian Real(R$)",
         "No",
         "No",
         "No",
         "No",
         "1",
         "3.8",
         "Yellow",
         "Good",
         "9"
        ],
        [
         "24",
         "6600292",
         "Casa do Biscoito Mineiro",
         "30",
         "Bras�_lia",
         "SCLN 210, Bloco D, Loja 36/48, Asa Norte, Bras�_lia",
         "Asa Norte",
         "Asa Norte, Bras�_lia",
         "-47.88213611",
         "-15.75747222",
         "Bakery",
         "45",
         "Brazilian Real(R$)",
         "No",
         "No",
         "No",
         "No",
         "2",
         "3.7",
         "Yellow",
         "Good",
         "11"
        ],
        [
         "25",
         "6600441",
         "Maori",
         "30",
         "Bras�_lia",
         "CLN 110, Bloco D, Loja 28, Asa Norte, Bras�_lia",
         "Asa Norte",
         "Asa Norte, Bras�_lia",
         "-47.88816667",
         "-15.75883333",
         "Brazilian",
         "60",
         "Brazilian Real(R$)",
         "No",
         "No",
         "No",
         "No",
         "3",
         "3.8",
         "Yellow",
         "Good",
         "11"
        ],
        [
         "26",
         "6600970",
         "Pizza �� Bessa",
         "30",
         "Bras�_lia",
         "SCS 214, Bloco C, Loja 40, Asa Sul, Bras�_lia",
         "Asa Sul",
         "Asa Sul, Bras�_lia",
         "-47.91566667",
         "-15.83116667",
         "Pizza",
         "50",
         "Brazilian Real(R$)",
         "No",
         "No",
         "No",
         "No",
         "2",
         "3.2",
         "Orange",
         "Average",
         "11"
        ],
        [
         "27",
         "6600379",
         "Sushi Loko",
         "30",
         "Bras�_lia",
         "SCS 213, Bloco C, Loja 35, Asa Sul, Bras�_lia",
         "Asa Sul",
         "Asa Sul, Bras�_lia",
         "-47.91566667",
         "-15.831",
         "Japanese",
         "80",
         "Brazilian Real(R$)",
         "No",
         "No",
         "No",
         "No",
         "3",
         "3.1",
         "Orange",
         "Average",
         "10"
        ],
        [
         "28",
         "6600214",
         "Beirute",
         "30",
         "Bras�_lia",
         "CLS 109, Bloco A, Loja 2/6, Asa Sul, Bras�_lia",
         "Asa Sul",
         "Asa Sul, Bras�_lia",
         "-47.9075",
         "-15.82",
         "Arabian",
         "90",
         "Brazilian Real(R$)",
         "No",
         "No",
         "No",
         "No",
         "3",
         "3.7",
         "Yellow",
         "Good",
         "8"
        ],
        [
         "29",
         "6601218",
         "New Koto",
         "30",
         "Bras�_lia",
         "SCS 212, Bloco B, Loja 26, Asa Sul, Bras�_lia",
         "Asa Sul",
         "Asa Sul, Bras�_lia",
         "-47.91016667",
         "-15.82733333",
         "Japanese",
         "200",
         "Brazilian Real(R$)",
         "No",
         "No",
         "No",
         "No",
         "4",
         "3.7",
         "Yellow",
         "Good",
         "5"
        ],
        [
         "30",
         "6600060",
         "Sandubas Caf��",
         "30",
         "Bras�_lia",
         "Edif�_cio Jos�� Severo, SCS 6, Bloco A, Loja 99, Asa Sul, Bras�_lia",
         "Asa Sul",
         "Asa Sul, Bras�_lia",
         "-47.89016667",
         "-15.797",
         "Brazilian, Cafe",
         "30",
         "Brazilian Real(R$)",
         "No",
         "No",
         "No",
         "No",
         "1",
         "0.0",
         "White",
         "Not rated",
         "2"
        ],
        [
         "31",
         "6600083",
         "Villa Tevere",
         "30",
         "Bras�_lia",
         "CLS 115, Bloco A, Loja 2, Asa Sul, Bras�_lia",
         "Asa Sul",
         "Asa Sul, Bras�_lia",
         "-47.92366667",
         "-15.83133333",
         "Italian",
         "150",
         "Brazilian Real(R$)",
         "No",
         "No",
         "No",
         "No",
         "4",
         "4.1",
         "Green",
         "Very Good",
         "12"
        ],
        [
         "32",
         "6601515",
         "Rovereto",
         "30",
         "Bras�_lia",
         "Rua 13 Norte, Lote 4, �guas Claras, Bras�_lia",
         "�guas Claras",
         "�guas Claras, Bras�_lia",
         "-48.019",
         "-15.83716667",
         "Pizza",
         "100",
         "Brazilian Real(R$)",
         "No",
         "No",
         "No",
         "No",
         "4",
         "3.1",
         "Orange",
         "Average",
         "9"
        ],
        [
         "33",
         "6601361",
         "Buena Carne",
         "30",
         "Bras�_lia",
         "Avenida Arauc��rias, 1325, Loja 19, �guas Claras, Bras�_lia",
         "�guas Claras",
         "�guas Claras, Bras�_lia",
         "-48.01909167",
         "-15.839775",
         "Bar Food, Brazilian",
         "60",
         "Brazilian Real(R$)",
         "No",
         "No",
         "No",
         "No",
         "3",
         "3.6",
         "Yellow",
         "Good",
         "9"
        ],
        [
         "34",
         "6601602",
         "Taco Pep",
         "30",
         "Bras�_lia",
         "Vila Malls, Avenida das Castanheiras, Lote 1060, �guas Claras, Bras�_lia",
         "�guas Claras",
         "�guas Claras, Bras�_lia",
         "-48.01666667",
         "-15.83483333",
         "Mexican, Grill",
         "100",
         "Brazilian Real(R$)",
         "No",
         "No",
         "No",
         "No",
         "4",
         "4.3",
         "Green",
         "Very Good",
         "29"
        ],
        [
         "35",
         "6601589",
         "Coco Bambu",
         "30",
         "Bras�_lia",
         "Bras�_lia Shopping - Piso 2, SCN 5, Bloco A, Asa Norte, Bras�_lia",
         "Bras�_lia Shopping, Asa Norte",
         "Bras�_lia Shopping, Asa Norte, Bras�_lia",
         "-47.889",
         "-15.7865",
         "International",
         "230",
         "Brazilian Real(R$)",
         "No",
         "No",
         "No",
         "No",
         "4",
         "4.2",
         "Green",
         "Very Good",
         "17"
        ],
        [
         "36",
         "6601862",
         "Tayp��",
         "30",
         "Bras�_lia",
         "Fashion Park, Shis Ql 17, Bloco G, Loja 208, Lago Sul, Bras�_lia",
         "Lago Sul",
         "Lago Sul, Bras�_lia",
         "-47.872359",
         "-15.860621",
         "Peruvian, Latin American",
         "100",
         "Brazilian Real(R$)",
         "No",
         "No",
         "No",
         "No",
         "4",
         "3.6",
         "Yellow",
         "Good",
         "5"
        ],
        [
         "37",
         "6601595",
         "Outback Steakhouse",
         "30",
         "Bras�_lia",
         "ParkShopping - Piso 2, SAI/SO, �rea 6580, Guar�� I, Bras�_lia",
         "ParkShopping, Guar�� I",
         "ParkShopping, Guar�� I, Bras�_lia",
         "-47.95628333",
         "-15.83451389",
         "American, Grill",
         "150",
         "Brazilian Real(R$)",
         "No",
         "No",
         "No",
         "No",
         "4",
         "4.0",
         "Green",
         "Very Good",
         "10"
        ],
        [
         "38",
         "6601158",
         "Manzu��",
         "30",
         "Bras�_lia",
         "Pont��o Lago Sul, SHIS 10, Lote 9, Lago Sul, Bras�_lia",
         "Pont��o Lago Sul, Lago Sul",
         "Pont��o Lago Sul, Lago Sul, Bras�_lia",
         "-47.87283333",
         "-15.82566667",
         "Seafood",
         "240",
         "Brazilian Real(R$)",
         "No",
         "No",
         "No",
         "No",
         "4",
         "3.2",
         "Orange",
         "Average",
         "6"
        ],
        [
         "39",
         "6600427",
         "Coco Bambu",
         "30",
         "Bras�_lia",
         "SCES, Trecho 2, Conjunto 13/36, Setor de Clubes Esportivos Sul, Bras�_lia",
         "Setor De Clubes Esportivos Sul",
         "Setor De Clubes Esportivos Sul, Bras�_lia",
         "-47.8685",
         "-15.819",
         "International",
         "230",
         "Brazilian Real(R$)",
         "No",
         "No",
         "No",
         "No",
         "4",
         "4.9",
         "Dark Green",
         "Excellent",
         "30"
        ],
        [
         "40",
         "6600116",
         "Gero",
         "30",
         "Bras�_lia",
         "Shopping Iguatemi - piso 1, SHIN CA 4, Lote A, Lago Norte, Bras�_lia",
         "Shopping Iguatemi, Lago Norte",
         "Shopping Iguatemi, Lago Norte, Bras�_lia",
         "-47.885812",
         "-15.720118",
         "Italian",
         "350",
         "Brazilian Real(R$)",
         "No",
         "No",
         "No",
         "No",
         "4",
         "3.3",
         "Orange",
         "Average",
         "8"
        ],
        [
         "41",
         "6601457",
         "Brazilian American Burgers",
         "30",
         "Bras�_lia",
         "CLSN 301, Bloco C, Loja 86, Sudoeste, Bras�_lia",
         "Sudoeste",
         "Sudoeste, Bras�_lia",
         "-47.92102778",
         "-15.79753056",
         "American, Burger",
         "50",
         "Brazilian Real(R$)",
         "No",
         "No",
         "No",
         "No",
         "2",
         "3.6",
         "Yellow",
         "Good",
         "9"
        ],
        [
         "42",
         "7303219",
         "Pesqueiro Eco Gourmet",
         "30",
         "Rio de Janeiro",
         "Praia da Barra da Tijuca, Avenida L�_cio Costa, Ilha 25, Barra da Tijuca, Rio de Janeiro",
         "Barra da Tijuca",
         "Barra da Tijuca, Rio de Janeiro",
         "-43.377",
         "-23.0115",
         "Seafood, Bar Food, Brazilian",
         "140",
         "Brazilian Real(R$)",
         "No",
         "No",
         "No",
         "No",
         "4",
         "4.0",
         "Green",
         "Very Good",
         "7"
        ],
        [
         "43",
         "7304307",
         "Confeitaria Colombo",
         "30",
         "Rio de Janeiro",
         "Rua Gon�_alves Dias, 32, Centro, Rio de Janeiro",
         "Centro",
         "Centro, Rio de Janeiro",
         "-43.178826",
         "-22.905293",
         "Desserts, Cafe",
         "100",
         "Brazilian Real(R$)",
         "No",
         "No",
         "No",
         "No",
         "4",
         "4.8",
         "Dark Green",
         "Excellent",
         "29"
        ],
        [
         "44",
         "7301215",
         "Bibi",
         "30",
         "Rio de Janeiro",
         "Rua Santa Clara, 36, Copabana, Rio de Janeiro",
         "Copacabana",
         "Copacabana, Rio de Janeiro",
         "-43.18669167",
         "-22.97207222",
         "Juices, Healthy Food",
         "60",
         "Brazilian Real(R$)",
         "No",
         "No",
         "No",
         "No",
         "3",
         "4.7",
         "Dark Green",
         "Excellent",
         "24"
        ],
        [
         "45",
         "7300596",
         "Cervantes",
         "30",
         "Rio de Janeiro",
         "Avenida Prado Junior, 335 B, Copacabana, Rio de Janeiro",
         "Copacabana",
         "Copacabana, Rio de Janeiro",
         "-43.17583333",
         "-22.96216667",
         "Beverages, Bar Food, Fast Food",
         "90",
         "Brazilian Real(R$)",
         "No",
         "No",
         "No",
         "No",
         "3",
         "4.5",
         "Dark Green",
         "Excellent",
         "29"
        ],
        [
         "46",
         "7300612",
         "Amir",
         "30",
         "Rio de Janeiro",
         "Rua Ronald de Carvalho, 55, Copacabana, Rio de Janeiro",
         "Copacabana",
         "Copacabana, Rio de Janeiro",
         "-43.176",
         "-22.96516667",
         "Lebanese",
         "170",
         "Brazilian Real(R$)",
         "No",
         "No",
         "No",
         "No",
         "4",
         "4.2",
         "Green",
         "Very Good",
         "11"
        ],
        [
         "47",
         "7300704",
         "TT Burger",
         "30",
         "Rio de Janeiro",
         "Galeria River, Rua Francisco Otaviano, 67, Copacabana, Rio de Janeiro",
         "Galeria River, Copacabana",
         "Galeria River, Copacabana, Rio de Janeiro",
         "-43.191",
         "-22.98683333",
         "Burger",
         "60",
         "Brazilian Real(R$)",
         "No",
         "No",
         "No",
         "No",
         "3",
         "4.8",
         "Dark Green",
         "Excellent",
         "19"
        ],
        [
         "48",
         "7300955",
         "Braseiro da G��vea",
         "30",
         "Rio de Janeiro",
         "Pra�_a Santos Dumont, 116, G��vea, Rio de Janeiro",
         "G��vea",
         "G��vea, Rio de Janeiro",
         "-43.227042",
         "-22.973507",
         "Brazilian, Bar Food",
         "100",
         "Brazilian Real(R$)",
         "No",
         "No",
         "No",
         "No",
         "4",
         "4.9",
         "Dark Green",
         "Excellent",
         "40"
        ],
        [
         "49",
         "7300521",
         "Balada Mix",
         "30",
         "Rio de Janeiro",
         "Rua An�_bal de Mendon�_a, 37, Ipanema, Rio de Janeiro",
         "Ipanema",
         "Ipanema, Rio de Janeiro",
         "-43.211425",
         "-22.98520833",
         "Brazilian, Healthy Food, Juices, Pizza",
         "90",
         "Brazilian Real(R$)",
         "No",
         "No",
         "No",
         "No",
         "3",
         "4.6",
         "Dark Green",
         "Excellent",
         "21"
        ]
       ],
       "shape": {
        "columns": 21,
        "rows": 9551
       }
      },
      "text/html": [
       "<div>\n",
       "<style scoped>\n",
       "    .dataframe tbody tr th:only-of-type {\n",
       "        vertical-align: middle;\n",
       "    }\n",
       "\n",
       "    .dataframe tbody tr th {\n",
       "        vertical-align: top;\n",
       "    }\n",
       "\n",
       "    .dataframe thead th {\n",
       "        text-align: right;\n",
       "    }\n",
       "</style>\n",
       "<table border=\"1\" class=\"dataframe\">\n",
       "  <thead>\n",
       "    <tr style=\"text-align: right;\">\n",
       "      <th></th>\n",
       "      <th>Restaurant ID</th>\n",
       "      <th>Restaurant Name</th>\n",
       "      <th>Country Code</th>\n",
       "      <th>City</th>\n",
       "      <th>Address</th>\n",
       "      <th>Locality</th>\n",
       "      <th>Locality Verbose</th>\n",
       "      <th>Longitude</th>\n",
       "      <th>Latitude</th>\n",
       "      <th>Cuisines</th>\n",
       "      <th>...</th>\n",
       "      <th>Currency</th>\n",
       "      <th>Has Table booking</th>\n",
       "      <th>Has Online delivery</th>\n",
       "      <th>Is delivering now</th>\n",
       "      <th>Switch to order menu</th>\n",
       "      <th>Price range</th>\n",
       "      <th>Aggregate rating</th>\n",
       "      <th>Rating color</th>\n",
       "      <th>Rating text</th>\n",
       "      <th>Votes</th>\n",
       "    </tr>\n",
       "  </thead>\n",
       "  <tbody>\n",
       "    <tr>\n",
       "      <th>0</th>\n",
       "      <td>6317637</td>\n",
       "      <td>Le Petit Souffle</td>\n",
       "      <td>162</td>\n",
       "      <td>Makati City</td>\n",
       "      <td>Third Floor, Century City Mall, Kalayaan Avenu...</td>\n",
       "      <td>Century City Mall, Poblacion, Makati City</td>\n",
       "      <td>Century City Mall, Poblacion, Makati City, Mak...</td>\n",
       "      <td>121.027535</td>\n",
       "      <td>14.565443</td>\n",
       "      <td>French, Japanese, Desserts</td>\n",
       "      <td>...</td>\n",
       "      <td>Botswana Pula(P)</td>\n",
       "      <td>Yes</td>\n",
       "      <td>No</td>\n",
       "      <td>No</td>\n",
       "      <td>No</td>\n",
       "      <td>3</td>\n",
       "      <td>4.8</td>\n",
       "      <td>Dark Green</td>\n",
       "      <td>Excellent</td>\n",
       "      <td>314</td>\n",
       "    </tr>\n",
       "    <tr>\n",
       "      <th>1</th>\n",
       "      <td>6304287</td>\n",
       "      <td>Izakaya Kikufuji</td>\n",
       "      <td>162</td>\n",
       "      <td>Makati City</td>\n",
       "      <td>Little Tokyo, 2277 Chino Roces Avenue, Legaspi...</td>\n",
       "      <td>Little Tokyo, Legaspi Village, Makati City</td>\n",
       "      <td>Little Tokyo, Legaspi Village, Makati City, Ma...</td>\n",
       "      <td>121.014101</td>\n",
       "      <td>14.553708</td>\n",
       "      <td>Japanese</td>\n",
       "      <td>...</td>\n",
       "      <td>Botswana Pula(P)</td>\n",
       "      <td>Yes</td>\n",
       "      <td>No</td>\n",
       "      <td>No</td>\n",
       "      <td>No</td>\n",
       "      <td>3</td>\n",
       "      <td>4.5</td>\n",
       "      <td>Dark Green</td>\n",
       "      <td>Excellent</td>\n",
       "      <td>591</td>\n",
       "    </tr>\n",
       "    <tr>\n",
       "      <th>2</th>\n",
       "      <td>6300002</td>\n",
       "      <td>Heat - Edsa Shangri-La</td>\n",
       "      <td>162</td>\n",
       "      <td>Mandaluyong City</td>\n",
       "      <td>Edsa Shangri-La, 1 Garden Way, Ortigas, Mandal...</td>\n",
       "      <td>Edsa Shangri-La, Ortigas, Mandaluyong City</td>\n",
       "      <td>Edsa Shangri-La, Ortigas, Mandaluyong City, Ma...</td>\n",
       "      <td>121.056831</td>\n",
       "      <td>14.581404</td>\n",
       "      <td>Seafood, Asian, Filipino, Indian</td>\n",
       "      <td>...</td>\n",
       "      <td>Botswana Pula(P)</td>\n",
       "      <td>Yes</td>\n",
       "      <td>No</td>\n",
       "      <td>No</td>\n",
       "      <td>No</td>\n",
       "      <td>4</td>\n",
       "      <td>4.4</td>\n",
       "      <td>Green</td>\n",
       "      <td>Very Good</td>\n",
       "      <td>270</td>\n",
       "    </tr>\n",
       "    <tr>\n",
       "      <th>3</th>\n",
       "      <td>6318506</td>\n",
       "      <td>Ooma</td>\n",
       "      <td>162</td>\n",
       "      <td>Mandaluyong City</td>\n",
       "      <td>Third Floor, Mega Fashion Hall, SM Megamall, O...</td>\n",
       "      <td>SM Megamall, Ortigas, Mandaluyong City</td>\n",
       "      <td>SM Megamall, Ortigas, Mandaluyong City, Mandal...</td>\n",
       "      <td>121.056475</td>\n",
       "      <td>14.585318</td>\n",
       "      <td>Japanese, Sushi</td>\n",
       "      <td>...</td>\n",
       "      <td>Botswana Pula(P)</td>\n",
       "      <td>No</td>\n",
       "      <td>No</td>\n",
       "      <td>No</td>\n",
       "      <td>No</td>\n",
       "      <td>4</td>\n",
       "      <td>4.9</td>\n",
       "      <td>Dark Green</td>\n",
       "      <td>Excellent</td>\n",
       "      <td>365</td>\n",
       "    </tr>\n",
       "    <tr>\n",
       "      <th>4</th>\n",
       "      <td>6314302</td>\n",
       "      <td>Sambo Kojin</td>\n",
       "      <td>162</td>\n",
       "      <td>Mandaluyong City</td>\n",
       "      <td>Third Floor, Mega Atrium, SM Megamall, Ortigas...</td>\n",
       "      <td>SM Megamall, Ortigas, Mandaluyong City</td>\n",
       "      <td>SM Megamall, Ortigas, Mandaluyong City, Mandal...</td>\n",
       "      <td>121.057508</td>\n",
       "      <td>14.584450</td>\n",
       "      <td>Japanese, Korean</td>\n",
       "      <td>...</td>\n",
       "      <td>Botswana Pula(P)</td>\n",
       "      <td>Yes</td>\n",
       "      <td>No</td>\n",
       "      <td>No</td>\n",
       "      <td>No</td>\n",
       "      <td>4</td>\n",
       "      <td>4.8</td>\n",
       "      <td>Dark Green</td>\n",
       "      <td>Excellent</td>\n",
       "      <td>229</td>\n",
       "    </tr>\n",
       "    <tr>\n",
       "      <th>...</th>\n",
       "      <td>...</td>\n",
       "      <td>...</td>\n",
       "      <td>...</td>\n",
       "      <td>...</td>\n",
       "      <td>...</td>\n",
       "      <td>...</td>\n",
       "      <td>...</td>\n",
       "      <td>...</td>\n",
       "      <td>...</td>\n",
       "      <td>...</td>\n",
       "      <td>...</td>\n",
       "      <td>...</td>\n",
       "      <td>...</td>\n",
       "      <td>...</td>\n",
       "      <td>...</td>\n",
       "      <td>...</td>\n",
       "      <td>...</td>\n",
       "      <td>...</td>\n",
       "      <td>...</td>\n",
       "      <td>...</td>\n",
       "      <td>...</td>\n",
       "    </tr>\n",
       "    <tr>\n",
       "      <th>9546</th>\n",
       "      <td>5915730</td>\n",
       "      <td>Naml۱ Gurme</td>\n",
       "      <td>208</td>\n",
       "      <td>��stanbul</td>\n",
       "      <td>Kemanke�� Karamustafa Pa��a Mahallesi, R۱ht۱m ...</td>\n",
       "      <td>Karak�_y</td>\n",
       "      <td>Karak�_y, ��stanbul</td>\n",
       "      <td>28.977392</td>\n",
       "      <td>41.022793</td>\n",
       "      <td>Turkish</td>\n",
       "      <td>...</td>\n",
       "      <td>Turkish Lira(TL)</td>\n",
       "      <td>No</td>\n",
       "      <td>No</td>\n",
       "      <td>No</td>\n",
       "      <td>No</td>\n",
       "      <td>3</td>\n",
       "      <td>4.1</td>\n",
       "      <td>Green</td>\n",
       "      <td>Very Good</td>\n",
       "      <td>788</td>\n",
       "    </tr>\n",
       "    <tr>\n",
       "      <th>9547</th>\n",
       "      <td>5908749</td>\n",
       "      <td>Ceviz A��ac۱</td>\n",
       "      <td>208</td>\n",
       "      <td>��stanbul</td>\n",
       "      <td>Ko��uyolu Mahallesi, Muhittin ��st�_nda�� Cadd...</td>\n",
       "      <td>Ko��uyolu</td>\n",
       "      <td>Ko��uyolu, ��stanbul</td>\n",
       "      <td>29.041297</td>\n",
       "      <td>41.009847</td>\n",
       "      <td>World Cuisine, Patisserie, Cafe</td>\n",
       "      <td>...</td>\n",
       "      <td>Turkish Lira(TL)</td>\n",
       "      <td>No</td>\n",
       "      <td>No</td>\n",
       "      <td>No</td>\n",
       "      <td>No</td>\n",
       "      <td>3</td>\n",
       "      <td>4.2</td>\n",
       "      <td>Green</td>\n",
       "      <td>Very Good</td>\n",
       "      <td>1034</td>\n",
       "    </tr>\n",
       "    <tr>\n",
       "      <th>9548</th>\n",
       "      <td>5915807</td>\n",
       "      <td>Huqqa</td>\n",
       "      <td>208</td>\n",
       "      <td>��stanbul</td>\n",
       "      <td>Kuru�_e��me Mahallesi, Muallim Naci Caddesi, N...</td>\n",
       "      <td>Kuru�_e��me</td>\n",
       "      <td>Kuru�_e��me, ��stanbul</td>\n",
       "      <td>29.034640</td>\n",
       "      <td>41.055817</td>\n",
       "      <td>Italian, World Cuisine</td>\n",
       "      <td>...</td>\n",
       "      <td>Turkish Lira(TL)</td>\n",
       "      <td>No</td>\n",
       "      <td>No</td>\n",
       "      <td>No</td>\n",
       "      <td>No</td>\n",
       "      <td>4</td>\n",
       "      <td>3.7</td>\n",
       "      <td>Yellow</td>\n",
       "      <td>Good</td>\n",
       "      <td>661</td>\n",
       "    </tr>\n",
       "    <tr>\n",
       "      <th>9549</th>\n",
       "      <td>5916112</td>\n",
       "      <td>A���k Kahve</td>\n",
       "      <td>208</td>\n",
       "      <td>��stanbul</td>\n",
       "      <td>Kuru�_e��me Mahallesi, Muallim Naci Caddesi, N...</td>\n",
       "      <td>Kuru�_e��me</td>\n",
       "      <td>Kuru�_e��me, ��stanbul</td>\n",
       "      <td>29.036019</td>\n",
       "      <td>41.057979</td>\n",
       "      <td>Restaurant Cafe</td>\n",
       "      <td>...</td>\n",
       "      <td>Turkish Lira(TL)</td>\n",
       "      <td>No</td>\n",
       "      <td>No</td>\n",
       "      <td>No</td>\n",
       "      <td>No</td>\n",
       "      <td>4</td>\n",
       "      <td>4.0</td>\n",
       "      <td>Green</td>\n",
       "      <td>Very Good</td>\n",
       "      <td>901</td>\n",
       "    </tr>\n",
       "    <tr>\n",
       "      <th>9550</th>\n",
       "      <td>5927402</td>\n",
       "      <td>Walter's Coffee Roastery</td>\n",
       "      <td>208</td>\n",
       "      <td>��stanbul</td>\n",
       "      <td>Cafea��a Mahallesi, Bademalt۱ Sokak, No 21/B, ...</td>\n",
       "      <td>Moda</td>\n",
       "      <td>Moda, ��stanbul</td>\n",
       "      <td>29.026016</td>\n",
       "      <td>40.984776</td>\n",
       "      <td>Cafe</td>\n",
       "      <td>...</td>\n",
       "      <td>Turkish Lira(TL)</td>\n",
       "      <td>No</td>\n",
       "      <td>No</td>\n",
       "      <td>No</td>\n",
       "      <td>No</td>\n",
       "      <td>2</td>\n",
       "      <td>4.0</td>\n",
       "      <td>Green</td>\n",
       "      <td>Very Good</td>\n",
       "      <td>591</td>\n",
       "    </tr>\n",
       "  </tbody>\n",
       "</table>\n",
       "<p>9551 rows × 21 columns</p>\n",
       "</div>"
      ],
      "text/plain": [
       "      Restaurant ID           Restaurant Name  Country Code              City  \\\n",
       "0           6317637          Le Petit Souffle           162       Makati City   \n",
       "1           6304287          Izakaya Kikufuji           162       Makati City   \n",
       "2           6300002    Heat - Edsa Shangri-La           162  Mandaluyong City   \n",
       "3           6318506                      Ooma           162  Mandaluyong City   \n",
       "4           6314302               Sambo Kojin           162  Mandaluyong City   \n",
       "...             ...                       ...           ...               ...   \n",
       "9546        5915730               Naml۱ Gurme           208         ��stanbul   \n",
       "9547        5908749              Ceviz A��ac۱           208         ��stanbul   \n",
       "9548        5915807                     Huqqa           208         ��stanbul   \n",
       "9549        5916112               A���k Kahve           208         ��stanbul   \n",
       "9550        5927402  Walter's Coffee Roastery           208         ��stanbul   \n",
       "\n",
       "                                                Address  \\\n",
       "0     Third Floor, Century City Mall, Kalayaan Avenu...   \n",
       "1     Little Tokyo, 2277 Chino Roces Avenue, Legaspi...   \n",
       "2     Edsa Shangri-La, 1 Garden Way, Ortigas, Mandal...   \n",
       "3     Third Floor, Mega Fashion Hall, SM Megamall, O...   \n",
       "4     Third Floor, Mega Atrium, SM Megamall, Ortigas...   \n",
       "...                                                 ...   \n",
       "9546  Kemanke�� Karamustafa Pa��a Mahallesi, R۱ht۱m ...   \n",
       "9547  Ko��uyolu Mahallesi, Muhittin ��st�_nda�� Cadd...   \n",
       "9548  Kuru�_e��me Mahallesi, Muallim Naci Caddesi, N...   \n",
       "9549  Kuru�_e��me Mahallesi, Muallim Naci Caddesi, N...   \n",
       "9550  Cafea��a Mahallesi, Bademalt۱ Sokak, No 21/B, ...   \n",
       "\n",
       "                                        Locality  \\\n",
       "0      Century City Mall, Poblacion, Makati City   \n",
       "1     Little Tokyo, Legaspi Village, Makati City   \n",
       "2     Edsa Shangri-La, Ortigas, Mandaluyong City   \n",
       "3         SM Megamall, Ortigas, Mandaluyong City   \n",
       "4         SM Megamall, Ortigas, Mandaluyong City   \n",
       "...                                          ...   \n",
       "9546                                    Karak�_y   \n",
       "9547                                   Ko��uyolu   \n",
       "9548                                 Kuru�_e��me   \n",
       "9549                                 Kuru�_e��me   \n",
       "9550                                        Moda   \n",
       "\n",
       "                                       Locality Verbose   Longitude  \\\n",
       "0     Century City Mall, Poblacion, Makati City, Mak...  121.027535   \n",
       "1     Little Tokyo, Legaspi Village, Makati City, Ma...  121.014101   \n",
       "2     Edsa Shangri-La, Ortigas, Mandaluyong City, Ma...  121.056831   \n",
       "3     SM Megamall, Ortigas, Mandaluyong City, Mandal...  121.056475   \n",
       "4     SM Megamall, Ortigas, Mandaluyong City, Mandal...  121.057508   \n",
       "...                                                 ...         ...   \n",
       "9546                                Karak�_y, ��stanbul   28.977392   \n",
       "9547                               Ko��uyolu, ��stanbul   29.041297   \n",
       "9548                             Kuru�_e��me, ��stanbul   29.034640   \n",
       "9549                             Kuru�_e��me, ��stanbul   29.036019   \n",
       "9550                                    Moda, ��stanbul   29.026016   \n",
       "\n",
       "       Latitude                          Cuisines  ...          Currency  \\\n",
       "0     14.565443        French, Japanese, Desserts  ...  Botswana Pula(P)   \n",
       "1     14.553708                          Japanese  ...  Botswana Pula(P)   \n",
       "2     14.581404  Seafood, Asian, Filipino, Indian  ...  Botswana Pula(P)   \n",
       "3     14.585318                   Japanese, Sushi  ...  Botswana Pula(P)   \n",
       "4     14.584450                  Japanese, Korean  ...  Botswana Pula(P)   \n",
       "...         ...                               ...  ...               ...   \n",
       "9546  41.022793                           Turkish  ...  Turkish Lira(TL)   \n",
       "9547  41.009847   World Cuisine, Patisserie, Cafe  ...  Turkish Lira(TL)   \n",
       "9548  41.055817            Italian, World Cuisine  ...  Turkish Lira(TL)   \n",
       "9549  41.057979                   Restaurant Cafe  ...  Turkish Lira(TL)   \n",
       "9550  40.984776                              Cafe  ...  Turkish Lira(TL)   \n",
       "\n",
       "     Has Table booking Has Online delivery Is delivering now  \\\n",
       "0                  Yes                  No                No   \n",
       "1                  Yes                  No                No   \n",
       "2                  Yes                  No                No   \n",
       "3                   No                  No                No   \n",
       "4                  Yes                  No                No   \n",
       "...                ...                 ...               ...   \n",
       "9546                No                  No                No   \n",
       "9547                No                  No                No   \n",
       "9548                No                  No                No   \n",
       "9549                No                  No                No   \n",
       "9550                No                  No                No   \n",
       "\n",
       "     Switch to order menu Price range  Aggregate rating  Rating color  \\\n",
       "0                      No           3               4.8    Dark Green   \n",
       "1                      No           3               4.5    Dark Green   \n",
       "2                      No           4               4.4         Green   \n",
       "3                      No           4               4.9    Dark Green   \n",
       "4                      No           4               4.8    Dark Green   \n",
       "...                   ...         ...               ...           ...   \n",
       "9546                   No           3               4.1         Green   \n",
       "9547                   No           3               4.2         Green   \n",
       "9548                   No           4               3.7        Yellow   \n",
       "9549                   No           4               4.0         Green   \n",
       "9550                   No           2               4.0         Green   \n",
       "\n",
       "     Rating text Votes  \n",
       "0      Excellent   314  \n",
       "1      Excellent   591  \n",
       "2      Very Good   270  \n",
       "3      Excellent   365  \n",
       "4      Excellent   229  \n",
       "...          ...   ...  \n",
       "9546   Very Good   788  \n",
       "9547   Very Good  1034  \n",
       "9548        Good   661  \n",
       "9549   Very Good   901  \n",
       "9550   Very Good   591  \n",
       "\n",
       "[9551 rows x 21 columns]"
      ]
     },
     "execution_count": 2,
     "metadata": {},
     "output_type": "execute_result"
    }
   ],
   "source": [
    "df = pd.read_csv(r\"C:\\Users\\adity\\Downloads\\Cognifyz Internship Program\\Dataset .csv\")\n",
    "df"
   ]
  },
  {
   "cell_type": "code",
   "execution_count": 3,
   "id": "58c379dd",
   "metadata": {},
   "outputs": [
    {
     "data": {
      "text/plain": [
       "(9551, 21)"
      ]
     },
     "execution_count": 3,
     "metadata": {},
     "output_type": "execute_result"
    }
   ],
   "source": [
    "df.shape"
   ]
  },
  {
   "cell_type": "code",
   "execution_count": 4,
   "id": "5391316c",
   "metadata": {},
   "outputs": [
    {
     "data": {
      "application/vnd.microsoft.datawrangler.viewer.v0+json": {
       "columns": [
        {
         "name": "index",
         "rawType": "int64",
         "type": "integer"
        },
        {
         "name": "Restaurant ID",
         "rawType": "int64",
         "type": "integer"
        },
        {
         "name": "Restaurant Name",
         "rawType": "object",
         "type": "string"
        },
        {
         "name": "Country Code",
         "rawType": "int64",
         "type": "integer"
        },
        {
         "name": "City",
         "rawType": "object",
         "type": "string"
        },
        {
         "name": "Address",
         "rawType": "object",
         "type": "string"
        },
        {
         "name": "Locality",
         "rawType": "object",
         "type": "string"
        },
        {
         "name": "Locality Verbose",
         "rawType": "object",
         "type": "string"
        },
        {
         "name": "Longitude",
         "rawType": "float64",
         "type": "float"
        },
        {
         "name": "Latitude",
         "rawType": "float64",
         "type": "float"
        },
        {
         "name": "Cuisines",
         "rawType": "object",
         "type": "string"
        },
        {
         "name": "Average Cost for two",
         "rawType": "int64",
         "type": "integer"
        },
        {
         "name": "Currency",
         "rawType": "object",
         "type": "string"
        },
        {
         "name": "Has Table booking",
         "rawType": "object",
         "type": "string"
        },
        {
         "name": "Has Online delivery",
         "rawType": "object",
         "type": "string"
        },
        {
         "name": "Is delivering now",
         "rawType": "object",
         "type": "string"
        },
        {
         "name": "Switch to order menu",
         "rawType": "object",
         "type": "string"
        },
        {
         "name": "Price range",
         "rawType": "int64",
         "type": "integer"
        },
        {
         "name": "Aggregate rating",
         "rawType": "float64",
         "type": "float"
        },
        {
         "name": "Rating color",
         "rawType": "object",
         "type": "string"
        },
        {
         "name": "Rating text",
         "rawType": "object",
         "type": "string"
        },
        {
         "name": "Votes",
         "rawType": "int64",
         "type": "integer"
        }
       ],
       "conversionMethod": "pd.DataFrame",
       "ref": "fc94b5fb-f680-483c-a0b0-7fc50c8cea00",
       "rows": [
        [
         "0",
         "6317637",
         "Le Petit Souffle",
         "162",
         "Makati City",
         "Third Floor, Century City Mall, Kalayaan Avenue, Poblacion, Makati City",
         "Century City Mall, Poblacion, Makati City",
         "Century City Mall, Poblacion, Makati City, Makati City",
         "121.027535",
         "14.565443",
         "French, Japanese, Desserts",
         "1100",
         "Botswana Pula(P)",
         "Yes",
         "No",
         "No",
         "No",
         "3",
         "4.8",
         "Dark Green",
         "Excellent",
         "314"
        ],
        [
         "1",
         "6304287",
         "Izakaya Kikufuji",
         "162",
         "Makati City",
         "Little Tokyo, 2277 Chino Roces Avenue, Legaspi Village, Makati City",
         "Little Tokyo, Legaspi Village, Makati City",
         "Little Tokyo, Legaspi Village, Makati City, Makati City",
         "121.014101",
         "14.553708",
         "Japanese",
         "1200",
         "Botswana Pula(P)",
         "Yes",
         "No",
         "No",
         "No",
         "3",
         "4.5",
         "Dark Green",
         "Excellent",
         "591"
        ],
        [
         "2",
         "6300002",
         "Heat - Edsa Shangri-La",
         "162",
         "Mandaluyong City",
         "Edsa Shangri-La, 1 Garden Way, Ortigas, Mandaluyong City",
         "Edsa Shangri-La, Ortigas, Mandaluyong City",
         "Edsa Shangri-La, Ortigas, Mandaluyong City, Mandaluyong City",
         "121.056831",
         "14.581404",
         "Seafood, Asian, Filipino, Indian",
         "4000",
         "Botswana Pula(P)",
         "Yes",
         "No",
         "No",
         "No",
         "4",
         "4.4",
         "Green",
         "Very Good",
         "270"
        ],
        [
         "3",
         "6318506",
         "Ooma",
         "162",
         "Mandaluyong City",
         "Third Floor, Mega Fashion Hall, SM Megamall, Ortigas, Mandaluyong City",
         "SM Megamall, Ortigas, Mandaluyong City",
         "SM Megamall, Ortigas, Mandaluyong City, Mandaluyong City",
         "121.056475",
         "14.585318",
         "Japanese, Sushi",
         "1500",
         "Botswana Pula(P)",
         "No",
         "No",
         "No",
         "No",
         "4",
         "4.9",
         "Dark Green",
         "Excellent",
         "365"
        ],
        [
         "4",
         "6314302",
         "Sambo Kojin",
         "162",
         "Mandaluyong City",
         "Third Floor, Mega Atrium, SM Megamall, Ortigas, Mandaluyong City",
         "SM Megamall, Ortigas, Mandaluyong City",
         "SM Megamall, Ortigas, Mandaluyong City, Mandaluyong City",
         "121.057508",
         "14.58445",
         "Japanese, Korean",
         "1500",
         "Botswana Pula(P)",
         "Yes",
         "No",
         "No",
         "No",
         "4",
         "4.8",
         "Dark Green",
         "Excellent",
         "229"
        ]
       ],
       "shape": {
        "columns": 21,
        "rows": 5
       }
      },
      "text/html": [
       "<div>\n",
       "<style scoped>\n",
       "    .dataframe tbody tr th:only-of-type {\n",
       "        vertical-align: middle;\n",
       "    }\n",
       "\n",
       "    .dataframe tbody tr th {\n",
       "        vertical-align: top;\n",
       "    }\n",
       "\n",
       "    .dataframe thead th {\n",
       "        text-align: right;\n",
       "    }\n",
       "</style>\n",
       "<table border=\"1\" class=\"dataframe\">\n",
       "  <thead>\n",
       "    <tr style=\"text-align: right;\">\n",
       "      <th></th>\n",
       "      <th>Restaurant ID</th>\n",
       "      <th>Restaurant Name</th>\n",
       "      <th>Country Code</th>\n",
       "      <th>City</th>\n",
       "      <th>Address</th>\n",
       "      <th>Locality</th>\n",
       "      <th>Locality Verbose</th>\n",
       "      <th>Longitude</th>\n",
       "      <th>Latitude</th>\n",
       "      <th>Cuisines</th>\n",
       "      <th>...</th>\n",
       "      <th>Currency</th>\n",
       "      <th>Has Table booking</th>\n",
       "      <th>Has Online delivery</th>\n",
       "      <th>Is delivering now</th>\n",
       "      <th>Switch to order menu</th>\n",
       "      <th>Price range</th>\n",
       "      <th>Aggregate rating</th>\n",
       "      <th>Rating color</th>\n",
       "      <th>Rating text</th>\n",
       "      <th>Votes</th>\n",
       "    </tr>\n",
       "  </thead>\n",
       "  <tbody>\n",
       "    <tr>\n",
       "      <th>0</th>\n",
       "      <td>6317637</td>\n",
       "      <td>Le Petit Souffle</td>\n",
       "      <td>162</td>\n",
       "      <td>Makati City</td>\n",
       "      <td>Third Floor, Century City Mall, Kalayaan Avenu...</td>\n",
       "      <td>Century City Mall, Poblacion, Makati City</td>\n",
       "      <td>Century City Mall, Poblacion, Makati City, Mak...</td>\n",
       "      <td>121.027535</td>\n",
       "      <td>14.565443</td>\n",
       "      <td>French, Japanese, Desserts</td>\n",
       "      <td>...</td>\n",
       "      <td>Botswana Pula(P)</td>\n",
       "      <td>Yes</td>\n",
       "      <td>No</td>\n",
       "      <td>No</td>\n",
       "      <td>No</td>\n",
       "      <td>3</td>\n",
       "      <td>4.8</td>\n",
       "      <td>Dark Green</td>\n",
       "      <td>Excellent</td>\n",
       "      <td>314</td>\n",
       "    </tr>\n",
       "    <tr>\n",
       "      <th>1</th>\n",
       "      <td>6304287</td>\n",
       "      <td>Izakaya Kikufuji</td>\n",
       "      <td>162</td>\n",
       "      <td>Makati City</td>\n",
       "      <td>Little Tokyo, 2277 Chino Roces Avenue, Legaspi...</td>\n",
       "      <td>Little Tokyo, Legaspi Village, Makati City</td>\n",
       "      <td>Little Tokyo, Legaspi Village, Makati City, Ma...</td>\n",
       "      <td>121.014101</td>\n",
       "      <td>14.553708</td>\n",
       "      <td>Japanese</td>\n",
       "      <td>...</td>\n",
       "      <td>Botswana Pula(P)</td>\n",
       "      <td>Yes</td>\n",
       "      <td>No</td>\n",
       "      <td>No</td>\n",
       "      <td>No</td>\n",
       "      <td>3</td>\n",
       "      <td>4.5</td>\n",
       "      <td>Dark Green</td>\n",
       "      <td>Excellent</td>\n",
       "      <td>591</td>\n",
       "    </tr>\n",
       "    <tr>\n",
       "      <th>2</th>\n",
       "      <td>6300002</td>\n",
       "      <td>Heat - Edsa Shangri-La</td>\n",
       "      <td>162</td>\n",
       "      <td>Mandaluyong City</td>\n",
       "      <td>Edsa Shangri-La, 1 Garden Way, Ortigas, Mandal...</td>\n",
       "      <td>Edsa Shangri-La, Ortigas, Mandaluyong City</td>\n",
       "      <td>Edsa Shangri-La, Ortigas, Mandaluyong City, Ma...</td>\n",
       "      <td>121.056831</td>\n",
       "      <td>14.581404</td>\n",
       "      <td>Seafood, Asian, Filipino, Indian</td>\n",
       "      <td>...</td>\n",
       "      <td>Botswana Pula(P)</td>\n",
       "      <td>Yes</td>\n",
       "      <td>No</td>\n",
       "      <td>No</td>\n",
       "      <td>No</td>\n",
       "      <td>4</td>\n",
       "      <td>4.4</td>\n",
       "      <td>Green</td>\n",
       "      <td>Very Good</td>\n",
       "      <td>270</td>\n",
       "    </tr>\n",
       "    <tr>\n",
       "      <th>3</th>\n",
       "      <td>6318506</td>\n",
       "      <td>Ooma</td>\n",
       "      <td>162</td>\n",
       "      <td>Mandaluyong City</td>\n",
       "      <td>Third Floor, Mega Fashion Hall, SM Megamall, O...</td>\n",
       "      <td>SM Megamall, Ortigas, Mandaluyong City</td>\n",
       "      <td>SM Megamall, Ortigas, Mandaluyong City, Mandal...</td>\n",
       "      <td>121.056475</td>\n",
       "      <td>14.585318</td>\n",
       "      <td>Japanese, Sushi</td>\n",
       "      <td>...</td>\n",
       "      <td>Botswana Pula(P)</td>\n",
       "      <td>No</td>\n",
       "      <td>No</td>\n",
       "      <td>No</td>\n",
       "      <td>No</td>\n",
       "      <td>4</td>\n",
       "      <td>4.9</td>\n",
       "      <td>Dark Green</td>\n",
       "      <td>Excellent</td>\n",
       "      <td>365</td>\n",
       "    </tr>\n",
       "    <tr>\n",
       "      <th>4</th>\n",
       "      <td>6314302</td>\n",
       "      <td>Sambo Kojin</td>\n",
       "      <td>162</td>\n",
       "      <td>Mandaluyong City</td>\n",
       "      <td>Third Floor, Mega Atrium, SM Megamall, Ortigas...</td>\n",
       "      <td>SM Megamall, Ortigas, Mandaluyong City</td>\n",
       "      <td>SM Megamall, Ortigas, Mandaluyong City, Mandal...</td>\n",
       "      <td>121.057508</td>\n",
       "      <td>14.584450</td>\n",
       "      <td>Japanese, Korean</td>\n",
       "      <td>...</td>\n",
       "      <td>Botswana Pula(P)</td>\n",
       "      <td>Yes</td>\n",
       "      <td>No</td>\n",
       "      <td>No</td>\n",
       "      <td>No</td>\n",
       "      <td>4</td>\n",
       "      <td>4.8</td>\n",
       "      <td>Dark Green</td>\n",
       "      <td>Excellent</td>\n",
       "      <td>229</td>\n",
       "    </tr>\n",
       "  </tbody>\n",
       "</table>\n",
       "<p>5 rows × 21 columns</p>\n",
       "</div>"
      ],
      "text/plain": [
       "   Restaurant ID         Restaurant Name  Country Code              City  \\\n",
       "0        6317637        Le Petit Souffle           162       Makati City   \n",
       "1        6304287        Izakaya Kikufuji           162       Makati City   \n",
       "2        6300002  Heat - Edsa Shangri-La           162  Mandaluyong City   \n",
       "3        6318506                    Ooma           162  Mandaluyong City   \n",
       "4        6314302             Sambo Kojin           162  Mandaluyong City   \n",
       "\n",
       "                                             Address  \\\n",
       "0  Third Floor, Century City Mall, Kalayaan Avenu...   \n",
       "1  Little Tokyo, 2277 Chino Roces Avenue, Legaspi...   \n",
       "2  Edsa Shangri-La, 1 Garden Way, Ortigas, Mandal...   \n",
       "3  Third Floor, Mega Fashion Hall, SM Megamall, O...   \n",
       "4  Third Floor, Mega Atrium, SM Megamall, Ortigas...   \n",
       "\n",
       "                                     Locality  \\\n",
       "0   Century City Mall, Poblacion, Makati City   \n",
       "1  Little Tokyo, Legaspi Village, Makati City   \n",
       "2  Edsa Shangri-La, Ortigas, Mandaluyong City   \n",
       "3      SM Megamall, Ortigas, Mandaluyong City   \n",
       "4      SM Megamall, Ortigas, Mandaluyong City   \n",
       "\n",
       "                                    Locality Verbose   Longitude   Latitude  \\\n",
       "0  Century City Mall, Poblacion, Makati City, Mak...  121.027535  14.565443   \n",
       "1  Little Tokyo, Legaspi Village, Makati City, Ma...  121.014101  14.553708   \n",
       "2  Edsa Shangri-La, Ortigas, Mandaluyong City, Ma...  121.056831  14.581404   \n",
       "3  SM Megamall, Ortigas, Mandaluyong City, Mandal...  121.056475  14.585318   \n",
       "4  SM Megamall, Ortigas, Mandaluyong City, Mandal...  121.057508  14.584450   \n",
       "\n",
       "                           Cuisines  ...          Currency Has Table booking  \\\n",
       "0        French, Japanese, Desserts  ...  Botswana Pula(P)               Yes   \n",
       "1                          Japanese  ...  Botswana Pula(P)               Yes   \n",
       "2  Seafood, Asian, Filipino, Indian  ...  Botswana Pula(P)               Yes   \n",
       "3                   Japanese, Sushi  ...  Botswana Pula(P)                No   \n",
       "4                  Japanese, Korean  ...  Botswana Pula(P)               Yes   \n",
       "\n",
       "  Has Online delivery Is delivering now Switch to order menu Price range  \\\n",
       "0                  No                No                   No           3   \n",
       "1                  No                No                   No           3   \n",
       "2                  No                No                   No           4   \n",
       "3                  No                No                   No           4   \n",
       "4                  No                No                   No           4   \n",
       "\n",
       "   Aggregate rating  Rating color Rating text Votes  \n",
       "0               4.8    Dark Green   Excellent   314  \n",
       "1               4.5    Dark Green   Excellent   591  \n",
       "2               4.4         Green   Very Good   270  \n",
       "3               4.9    Dark Green   Excellent   365  \n",
       "4               4.8    Dark Green   Excellent   229  \n",
       "\n",
       "[5 rows x 21 columns]"
      ]
     },
     "execution_count": 4,
     "metadata": {},
     "output_type": "execute_result"
    }
   ],
   "source": [
    "df.head()"
   ]
  },
  {
   "cell_type": "code",
   "execution_count": 5,
   "id": "824e977e",
   "metadata": {},
   "outputs": [
    {
     "data": {
      "application/vnd.microsoft.datawrangler.viewer.v0+json": {
       "columns": [
        {
         "name": "index",
         "rawType": "int64",
         "type": "integer"
        },
        {
         "name": "Restaurant ID",
         "rawType": "int64",
         "type": "integer"
        },
        {
         "name": "Restaurant Name",
         "rawType": "object",
         "type": "string"
        },
        {
         "name": "Country Code",
         "rawType": "int64",
         "type": "integer"
        },
        {
         "name": "City",
         "rawType": "object",
         "type": "string"
        },
        {
         "name": "Address",
         "rawType": "object",
         "type": "string"
        },
        {
         "name": "Locality",
         "rawType": "object",
         "type": "string"
        },
        {
         "name": "Locality Verbose",
         "rawType": "object",
         "type": "string"
        },
        {
         "name": "Longitude",
         "rawType": "float64",
         "type": "float"
        },
        {
         "name": "Latitude",
         "rawType": "float64",
         "type": "float"
        },
        {
         "name": "Cuisines",
         "rawType": "object",
         "type": "string"
        },
        {
         "name": "Average Cost for two",
         "rawType": "int64",
         "type": "integer"
        },
        {
         "name": "Currency",
         "rawType": "object",
         "type": "string"
        },
        {
         "name": "Has Table booking",
         "rawType": "object",
         "type": "string"
        },
        {
         "name": "Has Online delivery",
         "rawType": "object",
         "type": "string"
        },
        {
         "name": "Is delivering now",
         "rawType": "object",
         "type": "string"
        },
        {
         "name": "Switch to order menu",
         "rawType": "object",
         "type": "string"
        },
        {
         "name": "Price range",
         "rawType": "int64",
         "type": "integer"
        },
        {
         "name": "Aggregate rating",
         "rawType": "float64",
         "type": "float"
        },
        {
         "name": "Rating color",
         "rawType": "object",
         "type": "string"
        },
        {
         "name": "Rating text",
         "rawType": "object",
         "type": "string"
        },
        {
         "name": "Votes",
         "rawType": "int64",
         "type": "integer"
        }
       ],
       "conversionMethod": "pd.DataFrame",
       "ref": "ec76fa7f-3b82-47c5-ba08-661f3221bbdb",
       "rows": [
        [
         "9546",
         "5915730",
         "Naml۱ Gurme",
         "208",
         "��stanbul",
         "Kemanke�� Karamustafa Pa��a Mahallesi, R۱ht۱m Caddesi, No 1/1, Katl۱ Otopark Alt۱,  Beyo��lu, ��stanbul",
         "Karak�_y",
         "Karak�_y, ��stanbul",
         "28.97739161",
         "41.02279314",
         "Turkish",
         "80",
         "Turkish Lira(TL)",
         "No",
         "No",
         "No",
         "No",
         "3",
         "4.1",
         "Green",
         "Very Good",
         "788"
        ],
        [
         "9547",
         "5908749",
         "Ceviz A��ac۱",
         "208",
         "��stanbul",
         "Ko��uyolu Mahallesi, Muhittin ��st�_nda�� Caddesi, No 85, Kad۱k�_y, ��stanbul",
         "Ko��uyolu",
         "Ko��uyolu, ��stanbul",
         "29.04129725",
         "41.00984672",
         "World Cuisine, Patisserie, Cafe",
         "105",
         "Turkish Lira(TL)",
         "No",
         "No",
         "No",
         "No",
         "3",
         "4.2",
         "Green",
         "Very Good",
         "1034"
        ],
        [
         "9548",
         "5915807",
         "Huqqa",
         "208",
         "��stanbul",
         "Kuru�_e��me Mahallesi, Muallim Naci Caddesi, No 56, Be��ikta��, ��stanbul",
         "Kuru�_e��me",
         "Kuru�_e��me, ��stanbul",
         "29.03464001",
         "41.05581715",
         "Italian, World Cuisine",
         "170",
         "Turkish Lira(TL)",
         "No",
         "No",
         "No",
         "No",
         "4",
         "3.7",
         "Yellow",
         "Good",
         "661"
        ],
        [
         "9549",
         "5916112",
         "A���k Kahve",
         "208",
         "��stanbul",
         "Kuru�_e��me Mahallesi, Muallim Naci Caddesi, No 64/B, Be��ikta��, ��stanbul",
         "Kuru�_e��me",
         "Kuru�_e��me, ��stanbul",
         "29.036019",
         "41.057979",
         "Restaurant Cafe",
         "120",
         "Turkish Lira(TL)",
         "No",
         "No",
         "No",
         "No",
         "4",
         "4.0",
         "Green",
         "Very Good",
         "901"
        ],
        [
         "9550",
         "5927402",
         "Walter's Coffee Roastery",
         "208",
         "��stanbul",
         "Cafea��a Mahallesi, Bademalt۱ Sokak, No 21/B, Kad۱k�_y, ��stanbul",
         "Moda",
         "Moda, ��stanbul",
         "29.02601603",
         "40.98477563",
         "Cafe",
         "55",
         "Turkish Lira(TL)",
         "No",
         "No",
         "No",
         "No",
         "2",
         "4.0",
         "Green",
         "Very Good",
         "591"
        ]
       ],
       "shape": {
        "columns": 21,
        "rows": 5
       }
      },
      "text/html": [
       "<div>\n",
       "<style scoped>\n",
       "    .dataframe tbody tr th:only-of-type {\n",
       "        vertical-align: middle;\n",
       "    }\n",
       "\n",
       "    .dataframe tbody tr th {\n",
       "        vertical-align: top;\n",
       "    }\n",
       "\n",
       "    .dataframe thead th {\n",
       "        text-align: right;\n",
       "    }\n",
       "</style>\n",
       "<table border=\"1\" class=\"dataframe\">\n",
       "  <thead>\n",
       "    <tr style=\"text-align: right;\">\n",
       "      <th></th>\n",
       "      <th>Restaurant ID</th>\n",
       "      <th>Restaurant Name</th>\n",
       "      <th>Country Code</th>\n",
       "      <th>City</th>\n",
       "      <th>Address</th>\n",
       "      <th>Locality</th>\n",
       "      <th>Locality Verbose</th>\n",
       "      <th>Longitude</th>\n",
       "      <th>Latitude</th>\n",
       "      <th>Cuisines</th>\n",
       "      <th>...</th>\n",
       "      <th>Currency</th>\n",
       "      <th>Has Table booking</th>\n",
       "      <th>Has Online delivery</th>\n",
       "      <th>Is delivering now</th>\n",
       "      <th>Switch to order menu</th>\n",
       "      <th>Price range</th>\n",
       "      <th>Aggregate rating</th>\n",
       "      <th>Rating color</th>\n",
       "      <th>Rating text</th>\n",
       "      <th>Votes</th>\n",
       "    </tr>\n",
       "  </thead>\n",
       "  <tbody>\n",
       "    <tr>\n",
       "      <th>9546</th>\n",
       "      <td>5915730</td>\n",
       "      <td>Naml۱ Gurme</td>\n",
       "      <td>208</td>\n",
       "      <td>��stanbul</td>\n",
       "      <td>Kemanke�� Karamustafa Pa��a Mahallesi, R۱ht۱m ...</td>\n",
       "      <td>Karak�_y</td>\n",
       "      <td>Karak�_y, ��stanbul</td>\n",
       "      <td>28.977392</td>\n",
       "      <td>41.022793</td>\n",
       "      <td>Turkish</td>\n",
       "      <td>...</td>\n",
       "      <td>Turkish Lira(TL)</td>\n",
       "      <td>No</td>\n",
       "      <td>No</td>\n",
       "      <td>No</td>\n",
       "      <td>No</td>\n",
       "      <td>3</td>\n",
       "      <td>4.1</td>\n",
       "      <td>Green</td>\n",
       "      <td>Very Good</td>\n",
       "      <td>788</td>\n",
       "    </tr>\n",
       "    <tr>\n",
       "      <th>9547</th>\n",
       "      <td>5908749</td>\n",
       "      <td>Ceviz A��ac۱</td>\n",
       "      <td>208</td>\n",
       "      <td>��stanbul</td>\n",
       "      <td>Ko��uyolu Mahallesi, Muhittin ��st�_nda�� Cadd...</td>\n",
       "      <td>Ko��uyolu</td>\n",
       "      <td>Ko��uyolu, ��stanbul</td>\n",
       "      <td>29.041297</td>\n",
       "      <td>41.009847</td>\n",
       "      <td>World Cuisine, Patisserie, Cafe</td>\n",
       "      <td>...</td>\n",
       "      <td>Turkish Lira(TL)</td>\n",
       "      <td>No</td>\n",
       "      <td>No</td>\n",
       "      <td>No</td>\n",
       "      <td>No</td>\n",
       "      <td>3</td>\n",
       "      <td>4.2</td>\n",
       "      <td>Green</td>\n",
       "      <td>Very Good</td>\n",
       "      <td>1034</td>\n",
       "    </tr>\n",
       "    <tr>\n",
       "      <th>9548</th>\n",
       "      <td>5915807</td>\n",
       "      <td>Huqqa</td>\n",
       "      <td>208</td>\n",
       "      <td>��stanbul</td>\n",
       "      <td>Kuru�_e��me Mahallesi, Muallim Naci Caddesi, N...</td>\n",
       "      <td>Kuru�_e��me</td>\n",
       "      <td>Kuru�_e��me, ��stanbul</td>\n",
       "      <td>29.034640</td>\n",
       "      <td>41.055817</td>\n",
       "      <td>Italian, World Cuisine</td>\n",
       "      <td>...</td>\n",
       "      <td>Turkish Lira(TL)</td>\n",
       "      <td>No</td>\n",
       "      <td>No</td>\n",
       "      <td>No</td>\n",
       "      <td>No</td>\n",
       "      <td>4</td>\n",
       "      <td>3.7</td>\n",
       "      <td>Yellow</td>\n",
       "      <td>Good</td>\n",
       "      <td>661</td>\n",
       "    </tr>\n",
       "    <tr>\n",
       "      <th>9549</th>\n",
       "      <td>5916112</td>\n",
       "      <td>A���k Kahve</td>\n",
       "      <td>208</td>\n",
       "      <td>��stanbul</td>\n",
       "      <td>Kuru�_e��me Mahallesi, Muallim Naci Caddesi, N...</td>\n",
       "      <td>Kuru�_e��me</td>\n",
       "      <td>Kuru�_e��me, ��stanbul</td>\n",
       "      <td>29.036019</td>\n",
       "      <td>41.057979</td>\n",
       "      <td>Restaurant Cafe</td>\n",
       "      <td>...</td>\n",
       "      <td>Turkish Lira(TL)</td>\n",
       "      <td>No</td>\n",
       "      <td>No</td>\n",
       "      <td>No</td>\n",
       "      <td>No</td>\n",
       "      <td>4</td>\n",
       "      <td>4.0</td>\n",
       "      <td>Green</td>\n",
       "      <td>Very Good</td>\n",
       "      <td>901</td>\n",
       "    </tr>\n",
       "    <tr>\n",
       "      <th>9550</th>\n",
       "      <td>5927402</td>\n",
       "      <td>Walter's Coffee Roastery</td>\n",
       "      <td>208</td>\n",
       "      <td>��stanbul</td>\n",
       "      <td>Cafea��a Mahallesi, Bademalt۱ Sokak, No 21/B, ...</td>\n",
       "      <td>Moda</td>\n",
       "      <td>Moda, ��stanbul</td>\n",
       "      <td>29.026016</td>\n",
       "      <td>40.984776</td>\n",
       "      <td>Cafe</td>\n",
       "      <td>...</td>\n",
       "      <td>Turkish Lira(TL)</td>\n",
       "      <td>No</td>\n",
       "      <td>No</td>\n",
       "      <td>No</td>\n",
       "      <td>No</td>\n",
       "      <td>2</td>\n",
       "      <td>4.0</td>\n",
       "      <td>Green</td>\n",
       "      <td>Very Good</td>\n",
       "      <td>591</td>\n",
       "    </tr>\n",
       "  </tbody>\n",
       "</table>\n",
       "<p>5 rows × 21 columns</p>\n",
       "</div>"
      ],
      "text/plain": [
       "      Restaurant ID           Restaurant Name  Country Code       City  \\\n",
       "9546        5915730               Naml۱ Gurme           208  ��stanbul   \n",
       "9547        5908749              Ceviz A��ac۱           208  ��stanbul   \n",
       "9548        5915807                     Huqqa           208  ��stanbul   \n",
       "9549        5916112               A���k Kahve           208  ��stanbul   \n",
       "9550        5927402  Walter's Coffee Roastery           208  ��stanbul   \n",
       "\n",
       "                                                Address     Locality  \\\n",
       "9546  Kemanke�� Karamustafa Pa��a Mahallesi, R۱ht۱m ...     Karak�_y   \n",
       "9547  Ko��uyolu Mahallesi, Muhittin ��st�_nda�� Cadd...    Ko��uyolu   \n",
       "9548  Kuru�_e��me Mahallesi, Muallim Naci Caddesi, N...  Kuru�_e��me   \n",
       "9549  Kuru�_e��me Mahallesi, Muallim Naci Caddesi, N...  Kuru�_e��me   \n",
       "9550  Cafea��a Mahallesi, Bademalt۱ Sokak, No 21/B, ...         Moda   \n",
       "\n",
       "            Locality Verbose  Longitude   Latitude  \\\n",
       "9546     Karak�_y, ��stanbul  28.977392  41.022793   \n",
       "9547    Ko��uyolu, ��stanbul  29.041297  41.009847   \n",
       "9548  Kuru�_e��me, ��stanbul  29.034640  41.055817   \n",
       "9549  Kuru�_e��me, ��stanbul  29.036019  41.057979   \n",
       "9550         Moda, ��stanbul  29.026016  40.984776   \n",
       "\n",
       "                             Cuisines  ...          Currency  \\\n",
       "9546                          Turkish  ...  Turkish Lira(TL)   \n",
       "9547  World Cuisine, Patisserie, Cafe  ...  Turkish Lira(TL)   \n",
       "9548           Italian, World Cuisine  ...  Turkish Lira(TL)   \n",
       "9549                  Restaurant Cafe  ...  Turkish Lira(TL)   \n",
       "9550                             Cafe  ...  Turkish Lira(TL)   \n",
       "\n",
       "     Has Table booking Has Online delivery Is delivering now  \\\n",
       "9546                No                  No                No   \n",
       "9547                No                  No                No   \n",
       "9548                No                  No                No   \n",
       "9549                No                  No                No   \n",
       "9550                No                  No                No   \n",
       "\n",
       "     Switch to order menu Price range  Aggregate rating  Rating color  \\\n",
       "9546                   No           3               4.1         Green   \n",
       "9547                   No           3               4.2         Green   \n",
       "9548                   No           4               3.7        Yellow   \n",
       "9549                   No           4               4.0         Green   \n",
       "9550                   No           2               4.0         Green   \n",
       "\n",
       "     Rating text Votes  \n",
       "9546   Very Good   788  \n",
       "9547   Very Good  1034  \n",
       "9548        Good   661  \n",
       "9549   Very Good   901  \n",
       "9550   Very Good   591  \n",
       "\n",
       "[5 rows x 21 columns]"
      ]
     },
     "execution_count": 5,
     "metadata": {},
     "output_type": "execute_result"
    }
   ],
   "source": [
    "df.tail()"
   ]
  },
  {
   "cell_type": "code",
   "execution_count": 6,
   "id": "514a0666",
   "metadata": {},
   "outputs": [
    {
     "data": {
      "application/vnd.microsoft.datawrangler.viewer.v0+json": {
       "columns": [
        {
         "name": "index",
         "rawType": "object",
         "type": "string"
        },
        {
         "name": "Restaurant ID",
         "rawType": "float64",
         "type": "float"
        },
        {
         "name": "Country Code",
         "rawType": "float64",
         "type": "float"
        },
        {
         "name": "Longitude",
         "rawType": "float64",
         "type": "float"
        },
        {
         "name": "Latitude",
         "rawType": "float64",
         "type": "float"
        },
        {
         "name": "Average Cost for two",
         "rawType": "float64",
         "type": "float"
        },
        {
         "name": "Price range",
         "rawType": "float64",
         "type": "float"
        },
        {
         "name": "Aggregate rating",
         "rawType": "float64",
         "type": "float"
        },
        {
         "name": "Votes",
         "rawType": "float64",
         "type": "float"
        }
       ],
       "conversionMethod": "pd.DataFrame",
       "ref": "d546485a-d520-430d-920d-a2671201076d",
       "rows": [
        [
         "count",
         "9551.0",
         "9551.0",
         "9551.0",
         "9551.0",
         "9551.0",
         "9551.0",
         "9551.0",
         "9551.0"
        ],
        [
         "mean",
         "9051128.349178096",
         "18.365616165846507",
         "64.12657446168706",
         "25.854380700074756",
         "1199.2107632708617",
         "1.804837189823055",
         "2.66637001361114",
         "156.909747670401"
        ],
        [
         "std",
         "8791521.282104284",
         "56.75054560094657",
         "41.46705784761728",
         "11.007935124784668",
         "16121.183073499644",
         "0.905608847397614",
         "1.5163775396521328",
         "430.1691453762912"
        ],
        [
         "min",
         "53.0",
         "1.0",
         "-157.948486",
         "-41.330428",
         "0.0",
         "1.0",
         "0.0",
         "0.0"
        ],
        [
         "25%",
         "301962.5",
         "1.0",
         "77.08134305",
         "28.4787126",
         "250.0",
         "1.0",
         "2.5",
         "5.0"
        ],
        [
         "50%",
         "6004089.0",
         "1.0",
         "77.1919642",
         "28.57046888",
         "400.0",
         "2.0",
         "3.2",
         "31.0"
        ],
        [
         "75%",
         "18352291.5",
         "1.0",
         "77.2820063",
         "28.6427582",
         "700.0",
         "2.0",
         "3.7",
         "131.0"
        ],
        [
         "max",
         "18500652.0",
         "216.0",
         "174.8320893",
         "55.97698",
         "800000.0",
         "4.0",
         "4.9",
         "10934.0"
        ]
       ],
       "shape": {
        "columns": 8,
        "rows": 8
       }
      },
      "text/html": [
       "<div>\n",
       "<style scoped>\n",
       "    .dataframe tbody tr th:only-of-type {\n",
       "        vertical-align: middle;\n",
       "    }\n",
       "\n",
       "    .dataframe tbody tr th {\n",
       "        vertical-align: top;\n",
       "    }\n",
       "\n",
       "    .dataframe thead th {\n",
       "        text-align: right;\n",
       "    }\n",
       "</style>\n",
       "<table border=\"1\" class=\"dataframe\">\n",
       "  <thead>\n",
       "    <tr style=\"text-align: right;\">\n",
       "      <th></th>\n",
       "      <th>Restaurant ID</th>\n",
       "      <th>Country Code</th>\n",
       "      <th>Longitude</th>\n",
       "      <th>Latitude</th>\n",
       "      <th>Average Cost for two</th>\n",
       "      <th>Price range</th>\n",
       "      <th>Aggregate rating</th>\n",
       "      <th>Votes</th>\n",
       "    </tr>\n",
       "  </thead>\n",
       "  <tbody>\n",
       "    <tr>\n",
       "      <th>count</th>\n",
       "      <td>9.551000e+03</td>\n",
       "      <td>9551.000000</td>\n",
       "      <td>9551.000000</td>\n",
       "      <td>9551.000000</td>\n",
       "      <td>9551.000000</td>\n",
       "      <td>9551.000000</td>\n",
       "      <td>9551.000000</td>\n",
       "      <td>9551.000000</td>\n",
       "    </tr>\n",
       "    <tr>\n",
       "      <th>mean</th>\n",
       "      <td>9.051128e+06</td>\n",
       "      <td>18.365616</td>\n",
       "      <td>64.126574</td>\n",
       "      <td>25.854381</td>\n",
       "      <td>1199.210763</td>\n",
       "      <td>1.804837</td>\n",
       "      <td>2.666370</td>\n",
       "      <td>156.909748</td>\n",
       "    </tr>\n",
       "    <tr>\n",
       "      <th>std</th>\n",
       "      <td>8.791521e+06</td>\n",
       "      <td>56.750546</td>\n",
       "      <td>41.467058</td>\n",
       "      <td>11.007935</td>\n",
       "      <td>16121.183073</td>\n",
       "      <td>0.905609</td>\n",
       "      <td>1.516378</td>\n",
       "      <td>430.169145</td>\n",
       "    </tr>\n",
       "    <tr>\n",
       "      <th>min</th>\n",
       "      <td>5.300000e+01</td>\n",
       "      <td>1.000000</td>\n",
       "      <td>-157.948486</td>\n",
       "      <td>-41.330428</td>\n",
       "      <td>0.000000</td>\n",
       "      <td>1.000000</td>\n",
       "      <td>0.000000</td>\n",
       "      <td>0.000000</td>\n",
       "    </tr>\n",
       "    <tr>\n",
       "      <th>25%</th>\n",
       "      <td>3.019625e+05</td>\n",
       "      <td>1.000000</td>\n",
       "      <td>77.081343</td>\n",
       "      <td>28.478713</td>\n",
       "      <td>250.000000</td>\n",
       "      <td>1.000000</td>\n",
       "      <td>2.500000</td>\n",
       "      <td>5.000000</td>\n",
       "    </tr>\n",
       "    <tr>\n",
       "      <th>50%</th>\n",
       "      <td>6.004089e+06</td>\n",
       "      <td>1.000000</td>\n",
       "      <td>77.191964</td>\n",
       "      <td>28.570469</td>\n",
       "      <td>400.000000</td>\n",
       "      <td>2.000000</td>\n",
       "      <td>3.200000</td>\n",
       "      <td>31.000000</td>\n",
       "    </tr>\n",
       "    <tr>\n",
       "      <th>75%</th>\n",
       "      <td>1.835229e+07</td>\n",
       "      <td>1.000000</td>\n",
       "      <td>77.282006</td>\n",
       "      <td>28.642758</td>\n",
       "      <td>700.000000</td>\n",
       "      <td>2.000000</td>\n",
       "      <td>3.700000</td>\n",
       "      <td>131.000000</td>\n",
       "    </tr>\n",
       "    <tr>\n",
       "      <th>max</th>\n",
       "      <td>1.850065e+07</td>\n",
       "      <td>216.000000</td>\n",
       "      <td>174.832089</td>\n",
       "      <td>55.976980</td>\n",
       "      <td>800000.000000</td>\n",
       "      <td>4.000000</td>\n",
       "      <td>4.900000</td>\n",
       "      <td>10934.000000</td>\n",
       "    </tr>\n",
       "  </tbody>\n",
       "</table>\n",
       "</div>"
      ],
      "text/plain": [
       "       Restaurant ID  Country Code    Longitude     Latitude  \\\n",
       "count   9.551000e+03   9551.000000  9551.000000  9551.000000   \n",
       "mean    9.051128e+06     18.365616    64.126574    25.854381   \n",
       "std     8.791521e+06     56.750546    41.467058    11.007935   \n",
       "min     5.300000e+01      1.000000  -157.948486   -41.330428   \n",
       "25%     3.019625e+05      1.000000    77.081343    28.478713   \n",
       "50%     6.004089e+06      1.000000    77.191964    28.570469   \n",
       "75%     1.835229e+07      1.000000    77.282006    28.642758   \n",
       "max     1.850065e+07    216.000000   174.832089    55.976980   \n",
       "\n",
       "       Average Cost for two  Price range  Aggregate rating         Votes  \n",
       "count           9551.000000  9551.000000       9551.000000   9551.000000  \n",
       "mean            1199.210763     1.804837          2.666370    156.909748  \n",
       "std            16121.183073     0.905609          1.516378    430.169145  \n",
       "min                0.000000     1.000000          0.000000      0.000000  \n",
       "25%              250.000000     1.000000          2.500000      5.000000  \n",
       "50%              400.000000     2.000000          3.200000     31.000000  \n",
       "75%              700.000000     2.000000          3.700000    131.000000  \n",
       "max           800000.000000     4.000000          4.900000  10934.000000  "
      ]
     },
     "execution_count": 6,
     "metadata": {},
     "output_type": "execute_result"
    }
   ],
   "source": [
    "df.describe()"
   ]
  },
  {
   "cell_type": "code",
   "execution_count": 7,
   "id": "ac6f82ca",
   "metadata": {},
   "outputs": [
    {
     "data": {
      "text/plain": [
       "Restaurant ID           0\n",
       "Restaurant Name         0\n",
       "Country Code            0\n",
       "City                    0\n",
       "Address                 0\n",
       "Locality                0\n",
       "Locality Verbose        0\n",
       "Longitude               0\n",
       "Latitude                0\n",
       "Cuisines                9\n",
       "Average Cost for two    0\n",
       "Currency                0\n",
       "Has Table booking       0\n",
       "Has Online delivery     0\n",
       "Is delivering now       0\n",
       "Switch to order menu    0\n",
       "Price range             0\n",
       "Aggregate rating        0\n",
       "Rating color            0\n",
       "Rating text             0\n",
       "Votes                   0\n",
       "dtype: int64"
      ]
     },
     "execution_count": 7,
     "metadata": {},
     "output_type": "execute_result"
    }
   ],
   "source": [
    "df.isna().sum()"
   ]
  },
  {
   "cell_type": "code",
   "execution_count": 8,
   "id": "db2340dc",
   "metadata": {},
   "outputs": [
    {
     "data": {
      "text/plain": [
       "np.int64(0)"
      ]
     },
     "execution_count": 8,
     "metadata": {},
     "output_type": "execute_result"
    }
   ],
   "source": [
    "df.duplicated().sum()"
   ]
  },
  {
   "cell_type": "code",
   "execution_count": 9,
   "id": "9a1601b7",
   "metadata": {},
   "outputs": [
    {
     "data": {
      "text/plain": [
       "Cuisines\n",
       "North Indian             936\n",
       "North Indian, Chinese    511\n",
       "Chinese                  354\n",
       "Name: count, dtype: int64"
      ]
     },
     "execution_count": 9,
     "metadata": {},
     "output_type": "execute_result"
    }
   ],
   "source": [
    "#1. Determine the top three most common cuisines in the dataset.\n",
    "top_cuisines = df['Cuisines'].value_counts().head(3)\n",
    "top_cuisines"
   ]
  },
  {
   "cell_type": "markdown",
   "id": "08201f35",
   "metadata": {},
   "source": [
    "# So basically I have used the value_counts function in order to determine the top 3 cuisines\n",
    "# Answer :- The top 3 most common cuisines present in the dataset are as follows  \n",
    "# 1. North Indian - 936 \n",
    "# 2. North Indian, Chinese - 511\n",
    "# 3. Chinese - 354"
   ]
  },
  {
   "cell_type": "code",
   "execution_count": 10,
   "id": "293d193f",
   "metadata": {},
   "outputs": [
    {
     "data": {
      "text/plain": [
       "array([936, 511, 354])"
      ]
     },
     "execution_count": 10,
     "metadata": {},
     "output_type": "execute_result"
    }
   ],
   "source": [
    "# 2. Calculate the percentage of restaurants that serve each of the top cuisines.\n",
    "val = top_cuisines.values\n",
    "val"
   ]
  },
  {
   "cell_type": "code",
   "execution_count": 11,
   "id": "fe05949a",
   "metadata": {},
   "outputs": [
    {
     "data": {
      "text/plain": [
       "np.int64(9551)"
      ]
     },
     "execution_count": 11,
     "metadata": {},
     "output_type": "execute_result"
    }
   ],
   "source": [
    "df['Restaurant Name'].count()"
   ]
  },
  {
   "cell_type": "code",
   "execution_count": 12,
   "id": "ed6cf602",
   "metadata": {},
   "outputs": [
    {
     "name": "stdout",
     "output_type": "stream",
     "text": [
      "The percentage of Restaurants that served North Indian Cuisines is:  9.800020940215685\n"
     ]
    }
   ],
   "source": [
    "total = 936\n",
    "percentage = (total/9551)\n",
    "print(\"The percentage of Restaurants that served North Indian Cuisines is: \",percentage * 100)"
   ]
  },
  {
   "cell_type": "code",
   "execution_count": 13,
   "id": "4cd58358",
   "metadata": {},
   "outputs": [
    {
     "name": "stdout",
     "output_type": "stream",
     "text": [
      "The percentage of Restaurants that served North Indian, Chinese Cuisines is:  5.350225107318606\n"
     ]
    }
   ],
   "source": [
    "total = 511 \n",
    "percentage = (total/9551)\n",
    "print(\"The percentage of Restaurants that served North Indian, Chinese Cuisines is: \",percentage * 100)"
   ]
  },
  {
   "cell_type": "code",
   "execution_count": 14,
   "id": "76b977e9",
   "metadata": {},
   "outputs": [
    {
     "name": "stdout",
     "output_type": "stream",
     "text": [
      "The percentage of Restaurants that served Chinese Cuisines is:  3.706418176107214\n"
     ]
    }
   ],
   "source": [
    "total = 354\n",
    "percentage = (total/9551)\n",
    "print(\"The percentage of Restaurants that served Chinese Cuisines is: \",percentage * 100)"
   ]
  },
  {
   "cell_type": "markdown",
   "id": "be5cd1e6",
   "metadata": {},
   "source": [
    "# So here in the second question the task was to find out the % of the restaurants that served the top 3 Cuisines Since we already know the top 3 Cuisines \n",
    "# Our first step was to extract the values of the top 3 Cuisines for which we used .values function and extracted it and the values were 936, 511, 354 for the Cuisines North Indian, North Indian,Chinese, Chinese respectively. \n",
    "# ATQ we had to find out the % of the Restaurants so in order to do that we need the total number of restaurants present in our dataset using count function we could achieve it and the count was 9551 \n",
    "# In the last we have computed the % of restaurants which served for the these three top cuisines manually and got the result as\n",
    "# The percentage of Restaurants that served North Indian Cuisines is:  9.800020940215685\n",
    "# The percentage of Restaurants that served North Indian, Chinese Cuisines is:  5.350225107318606\n",
    "# The percentage of Restaurants that served Chinese Cuisines is:  3.706418176107214\n"
   ]
  },
  {
   "cell_type": "markdown",
   "id": "d1212aa8",
   "metadata": {},
   "source": [
    "# LEVEL 1 - TASK 1 COMPLETED SUCCESSFULLY "
   ]
  },
  {
   "cell_type": "markdown",
   "id": "b68b85a7",
   "metadata": {
    "notebookRunGroups": {
     "groupValue": "2"
    }
   },
   "source": [
    "# *TASK 2* - City Analysis\n",
    "# 1. Identify the city with the highest number of restaurants in the dataset.\n",
    "# 2. Calculate the average rating for restaurants in each city.\n",
    "# 3. Determine the city with the highest average rating."
   ]
  },
  {
   "cell_type": "code",
   "execution_count": 15,
   "id": "1abe3c73",
   "metadata": {},
   "outputs": [
    {
     "data": {
      "text/plain": [
       "City\n",
       "New Delhi         5473\n",
       "Gurgaon           1118\n",
       "Noida             1080\n",
       "Faridabad          251\n",
       "Ghaziabad           25\n",
       "                  ... \n",
       "Lakes Entrance       1\n",
       "Mohali               1\n",
       "Panchkula            1\n",
       "Bandung              1\n",
       "Randburg             1\n",
       "Name: count, Length: 141, dtype: int64"
      ]
     },
     "execution_count": 15,
     "metadata": {},
     "output_type": "execute_result"
    }
   ],
   "source": [
    "# 1 Identify the city with the highest number of restaurants in the dataset.\n",
    "df['City'].value_counts()"
   ]
  },
  {
   "cell_type": "markdown",
   "id": "d31317b4",
   "metadata": {},
   "source": [
    "# So here the task is to find out which city has the highest number of restaurants in the dataset.\n",
    "# It's very simple we can use value_counts function to achieve this in the above cell I have implemented it also\n",
    "# Answer is - New Delhi 5473 \n",
    "# Further what we can do is we can use head function and specify the parameter as 1 like head(1) so that only the city with highest number of restaurants will be printed I have implements this head function in the below cell"
   ]
  },
  {
   "cell_type": "code",
   "execution_count": 16,
   "id": "2da19ca8",
   "metadata": {},
   "outputs": [
    {
     "data": {
      "text/plain": [
       "City\n",
       "New Delhi    5473\n",
       "Name: count, dtype: int64"
      ]
     },
     "execution_count": 16,
     "metadata": {},
     "output_type": "execute_result"
    }
   ],
   "source": [
    "df['City'].value_counts().head(1)"
   ]
  },
  {
   "cell_type": "code",
   "execution_count": 17,
   "id": "b07a1573",
   "metadata": {},
   "outputs": [
    {
     "data": {
      "application/vnd.microsoft.datawrangler.viewer.v0+json": {
       "columns": [
        {
         "name": "City",
         "rawType": "object",
         "type": "string"
        },
        {
         "name": "Aggregate rating",
         "rawType": "float64",
         "type": "float"
        }
       ],
       "conversionMethod": "pd.DataFrame",
       "ref": "de2f96b6-89ab-41c1-8d2d-1637a69484ff",
       "rows": [
        [
         "Abu Dhabi",
         "4.3"
        ],
        [
         "Agra",
         "3.965"
        ],
        [
         "Ahmedabad",
         "4.161904761904762"
        ],
        [
         "Albany",
         "3.5549999999999997"
        ],
        [
         "Allahabad",
         "3.3950000000000005"
        ],
        [
         "Amritsar",
         "3.6857142857142855"
        ],
        [
         "Ankara",
         "4.305"
        ],
        [
         "Armidale",
         "3.5"
        ],
        [
         "Athens",
         "4.2"
        ],
        [
         "Auckland",
         "4.275"
        ],
        [
         "Augusta",
         "4.13"
        ],
        [
         "Aurangabad",
         "3.375"
        ],
        [
         "Balingup",
         "3.2"
        ],
        [
         "Bandung",
         "4.2"
        ],
        [
         "Bangalore",
         "4.375"
        ],
        [
         "Beechworth",
         "4.6"
        ],
        [
         "Bhopal",
         "3.95"
        ],
        [
         "Bhubaneshwar",
         "3.9809523809523806"
        ],
        [
         "Birmingham",
         "3.6799999999999997"
        ],
        [
         "Bogor",
         "3.85"
        ],
        [
         "Boise",
         "4.26"
        ],
        [
         "Bras�_lia",
         "3.495"
        ],
        [
         "Cape Town",
         "4.11"
        ],
        [
         "Cedar Rapids/Iowa City",
         "4.165"
        ],
        [
         "Chandigarh",
         "4.050000000000001"
        ],
        [
         "Chatham-Kent",
         "3.7"
        ],
        [
         "Chennai",
         "4.3149999999999995"
        ],
        [
         "Clatskanie",
         "4.3"
        ],
        [
         "Cochrane",
         "3.1"
        ],
        [
         "Coimbatore",
         "4.135"
        ],
        [
         "Colombo",
         "3.87"
        ],
        [
         "Columbus",
         "4.029999999999999"
        ],
        [
         "Consort",
         "3.0"
        ],
        [
         "Dalton",
         "4.11"
        ],
        [
         "Davenport",
         "3.715"
        ],
        [
         "Dehradun",
         "4.05"
        ],
        [
         "Des Moines",
         "4.235"
        ],
        [
         "Dicky Beach",
         "3.6"
        ],
        [
         "Doha",
         "4.0600000000000005"
        ],
        [
         "Dubai",
         "4.37"
        ],
        [
         "Dubuque",
         "3.535"
        ],
        [
         "East Ballina",
         "4.1"
        ],
        [
         "Edinburgh",
         "4.09"
        ],
        [
         "Faridabad",
         "1.8669322709163347"
        ],
        [
         "Fernley",
         "3.7"
        ],
        [
         "Flaxton",
         "3.5"
        ],
        [
         "Forrest",
         "3.7"
        ],
        [
         "Gainesville",
         "4.035"
        ],
        [
         "Ghaziabad",
         "2.852"
        ],
        [
         "Goa",
         "4.245"
        ]
       ],
       "shape": {
        "columns": 1,
        "rows": 141
       }
      },
      "text/html": [
       "<div>\n",
       "<style scoped>\n",
       "    .dataframe tbody tr th:only-of-type {\n",
       "        vertical-align: middle;\n",
       "    }\n",
       "\n",
       "    .dataframe tbody tr th {\n",
       "        vertical-align: top;\n",
       "    }\n",
       "\n",
       "    .dataframe thead th {\n",
       "        text-align: right;\n",
       "    }\n",
       "</style>\n",
       "<table border=\"1\" class=\"dataframe\">\n",
       "  <thead>\n",
       "    <tr style=\"text-align: right;\">\n",
       "      <th></th>\n",
       "      <th>Aggregate rating</th>\n",
       "    </tr>\n",
       "    <tr>\n",
       "      <th>City</th>\n",
       "      <th></th>\n",
       "    </tr>\n",
       "  </thead>\n",
       "  <tbody>\n",
       "    <tr>\n",
       "      <th>Abu Dhabi</th>\n",
       "      <td>4.300000</td>\n",
       "    </tr>\n",
       "    <tr>\n",
       "      <th>Agra</th>\n",
       "      <td>3.965000</td>\n",
       "    </tr>\n",
       "    <tr>\n",
       "      <th>Ahmedabad</th>\n",
       "      <td>4.161905</td>\n",
       "    </tr>\n",
       "    <tr>\n",
       "      <th>Albany</th>\n",
       "      <td>3.555000</td>\n",
       "    </tr>\n",
       "    <tr>\n",
       "      <th>Allahabad</th>\n",
       "      <td>3.395000</td>\n",
       "    </tr>\n",
       "    <tr>\n",
       "      <th>...</th>\n",
       "      <td>...</td>\n",
       "    </tr>\n",
       "    <tr>\n",
       "      <th>Weirton</th>\n",
       "      <td>3.900000</td>\n",
       "    </tr>\n",
       "    <tr>\n",
       "      <th>Wellington City</th>\n",
       "      <td>4.250000</td>\n",
       "    </tr>\n",
       "    <tr>\n",
       "      <th>Winchester Bay</th>\n",
       "      <td>3.200000</td>\n",
       "    </tr>\n",
       "    <tr>\n",
       "      <th>Yorkton</th>\n",
       "      <td>3.300000</td>\n",
       "    </tr>\n",
       "    <tr>\n",
       "      <th>��stanbul</th>\n",
       "      <td>4.292857</td>\n",
       "    </tr>\n",
       "  </tbody>\n",
       "</table>\n",
       "<p>141 rows × 1 columns</p>\n",
       "</div>"
      ],
      "text/plain": [
       "                 Aggregate rating\n",
       "City                             \n",
       "Abu Dhabi                4.300000\n",
       "Agra                     3.965000\n",
       "Ahmedabad                4.161905\n",
       "Albany                   3.555000\n",
       "Allahabad                3.395000\n",
       "...                           ...\n",
       "Weirton                  3.900000\n",
       "Wellington City          4.250000\n",
       "Winchester Bay           3.200000\n",
       "Yorkton                  3.300000\n",
       "��stanbul                4.292857\n",
       "\n",
       "[141 rows x 1 columns]"
      ]
     },
     "execution_count": 17,
     "metadata": {},
     "output_type": "execute_result"
    }
   ],
   "source": [
    "# 2. Calculate the average rating for restaurants in each city.\n",
    "df.groupby('City').agg({'Aggregate rating':'mean'})"
   ]
  },
  {
   "cell_type": "markdown",
   "id": "f0c0dc09",
   "metadata": {},
   "source": [
    "# So here in this task we are asked to find the average ratings which is nothing but the mean of the restaurants in each city.\n",
    "# So to achieve this task we have used group by function by specifying the city we're specifying city and using aggregate function we have computed the mean/average of the Aggregate rating column and the result is present in the above cell "
   ]
  },
  {
   "cell_type": "code",
   "execution_count": 18,
   "id": "70e5a430",
   "metadata": {},
   "outputs": [
    {
     "data": {
      "application/vnd.microsoft.datawrangler.viewer.v0+json": {
       "columns": [
        {
         "name": "City",
         "rawType": "object",
         "type": "string"
        },
        {
         "name": "Aggregate rating",
         "rawType": "float64",
         "type": "float"
        }
       ],
       "conversionMethod": "pd.DataFrame",
       "ref": "a52c004a-5f15-4f12-8858-39ea7d6def25",
       "rows": [
        [
         "Inner City",
         "4.9"
        ],
        [
         "Quezon City",
         "4.8"
        ],
        [
         "Makati City",
         "4.65"
        ],
        [
         "Pasig City",
         "4.633333333333334"
        ],
        [
         "Mandaluyong City",
         "4.625"
        ],
        [
         "Beechworth",
         "4.6"
        ],
        [
         "London",
         "4.535"
        ],
        [
         "Taguig City",
         "4.525"
        ],
        [
         "Secunderabad",
         "4.5"
        ],
        [
         "Lincoln",
         "4.5"
        ],
        [
         "Tagaytay City",
         "4.5"
        ],
        [
         "Orlando",
         "4.475"
        ],
        [
         "Tampa Bay",
         "4.41"
        ],
        [
         "Rest of Hawaii",
         "4.41"
        ],
        [
         "Palm Cove",
         "4.4"
        ],
        [
         "Tanunda",
         "4.4"
        ],
        [
         "Bangalore",
         "4.375"
        ],
        [
         "Dubai",
         "4.37"
        ],
        [
         "Pasay City",
         "4.366666666666667"
        ],
        [
         "Jakarta",
         "4.35625"
        ],
        [
         "Hyderabad",
         "4.344444444444445"
        ],
        [
         "Chennai",
         "4.3149999999999995"
        ],
        [
         "Ankara",
         "4.305"
        ],
        [
         "Tangerang",
         "4.300000000000001"
        ],
        [
         "Abu Dhabi",
         "4.3"
        ],
        [
         "Vineland Station",
         "4.3"
        ],
        [
         "Vernonia",
         "4.3"
        ],
        [
         "Mohali",
         "4.3"
        ],
        [
         "Sandton",
         "4.3"
        ],
        [
         "Randburg",
         "4.3"
        ],
        [
         "Clatskanie",
         "4.3"
        ],
        [
         "��stanbul",
         "4.292857142857143"
        ],
        [
         "Auckland",
         "4.275"
        ],
        [
         "Rio de Janeiro",
         "4.265"
        ],
        [
         "Boise",
         "4.26"
        ],
        [
         "Kolkata",
         "4.255"
        ],
        [
         "San Juan City",
         "4.25"
        ],
        [
         "Wellington City",
         "4.25"
        ],
        [
         "Goa",
         "4.245"
        ],
        [
         "Des Moines",
         "4.235"
        ],
        [
         "Pune",
         "4.220000000000001"
        ],
        [
         "Panchkula",
         "4.2"
        ],
        [
         "Athens",
         "4.2"
        ],
        [
         "Johannesburg",
         "4.2"
        ],
        [
         "Bandung",
         "4.2"
        ],
        [
         "Pensacola",
         "4.2"
        ],
        [
         "Lucknow",
         "4.1952380952380945"
        ],
        [
         "Guwahati",
         "4.190476190476191"
        ],
        [
         "Pretoria",
         "4.1899999999999995"
        ],
        [
         "Cedar Rapids/Iowa City",
         "4.165"
        ]
       ],
       "shape": {
        "columns": 1,
        "rows": 141
       }
      },
      "text/html": [
       "<div>\n",
       "<style scoped>\n",
       "    .dataframe tbody tr th:only-of-type {\n",
       "        vertical-align: middle;\n",
       "    }\n",
       "\n",
       "    .dataframe tbody tr th {\n",
       "        vertical-align: top;\n",
       "    }\n",
       "\n",
       "    .dataframe thead th {\n",
       "        text-align: right;\n",
       "    }\n",
       "</style>\n",
       "<table border=\"1\" class=\"dataframe\">\n",
       "  <thead>\n",
       "    <tr style=\"text-align: right;\">\n",
       "      <th></th>\n",
       "      <th>Aggregate rating</th>\n",
       "    </tr>\n",
       "    <tr>\n",
       "      <th>City</th>\n",
       "      <th></th>\n",
       "    </tr>\n",
       "  </thead>\n",
       "  <tbody>\n",
       "    <tr>\n",
       "      <th>Inner City</th>\n",
       "      <td>4.900000</td>\n",
       "    </tr>\n",
       "    <tr>\n",
       "      <th>Quezon City</th>\n",
       "      <td>4.800000</td>\n",
       "    </tr>\n",
       "    <tr>\n",
       "      <th>Makati City</th>\n",
       "      <td>4.650000</td>\n",
       "    </tr>\n",
       "    <tr>\n",
       "      <th>Pasig City</th>\n",
       "      <td>4.633333</td>\n",
       "    </tr>\n",
       "    <tr>\n",
       "      <th>Mandaluyong City</th>\n",
       "      <td>4.625000</td>\n",
       "    </tr>\n",
       "    <tr>\n",
       "      <th>...</th>\n",
       "      <td>...</td>\n",
       "    </tr>\n",
       "    <tr>\n",
       "      <th>New Delhi</th>\n",
       "      <td>2.438845</td>\n",
       "    </tr>\n",
       "    <tr>\n",
       "      <th>Montville</th>\n",
       "      <td>2.400000</td>\n",
       "    </tr>\n",
       "    <tr>\n",
       "      <th>Mc Millan</th>\n",
       "      <td>2.400000</td>\n",
       "    </tr>\n",
       "    <tr>\n",
       "      <th>Noida</th>\n",
       "      <td>2.036204</td>\n",
       "    </tr>\n",
       "    <tr>\n",
       "      <th>Faridabad</th>\n",
       "      <td>1.866932</td>\n",
       "    </tr>\n",
       "  </tbody>\n",
       "</table>\n",
       "<p>141 rows × 1 columns</p>\n",
       "</div>"
      ],
      "text/plain": [
       "                  Aggregate rating\n",
       "City                              \n",
       "Inner City                4.900000\n",
       "Quezon City               4.800000\n",
       "Makati City               4.650000\n",
       "Pasig City                4.633333\n",
       "Mandaluyong City          4.625000\n",
       "...                            ...\n",
       "New Delhi                 2.438845\n",
       "Montville                 2.400000\n",
       "Mc Millan                 2.400000\n",
       "Noida                     2.036204\n",
       "Faridabad                 1.866932\n",
       "\n",
       "[141 rows x 1 columns]"
      ]
     },
     "execution_count": 18,
     "metadata": {},
     "output_type": "execute_result"
    }
   ],
   "source": [
    "# Determine the city with the highest average rating.\n",
    "highest_rating = df.groupby('City').agg({'Aggregate rating':'mean'}).sort_values(by = \"Aggregate rating\",ascending=False)\n",
    "highest_rating"
   ]
  },
  {
   "cell_type": "markdown",
   "id": "6125506c",
   "metadata": {},
   "source": [
    "# So here the task was like to find the city with the highest avg ratings so it's the continuation of the previous question\n",
    "# Here I just wrote the same code which I used in the previous cell which was like to find the mean of the restaurants of all cities and further what I have enhanced or implemented to achieve the solution is sort_values function in which I specified the Aggregate rating column and passed the ascending=False as shown in the above cell I can also add head(1) to just get the first value.\n",
    "# Answer :- Inner City with the highest avg ratings of 4.9   "
   ]
  },
  {
   "cell_type": "markdown",
   "id": "4311ce7c",
   "metadata": {},
   "source": [
    "# LEVEL 1 TASK 2 COMPLETED SUCCESSFULLY"
   ]
  },
  {
   "cell_type": "markdown",
   "id": "867eb4f1",
   "metadata": {},
   "source": [
    "# *TASK 3:- PRICE RANGE DISTRIBUTION*"
   ]
  },
  {
   "cell_type": "markdown",
   "id": "8a8f0ce3",
   "metadata": {},
   "source": [
    "# 1. Create a histogram or bar chart to visualize the distribution of price ranges among the restaurants.\n",
    "# 2. Calculate the percentage of restaurants in each price range category."
   ]
  },
  {
   "cell_type": "code",
   "execution_count": 19,
   "id": "671847cd",
   "metadata": {},
   "outputs": [
    {
     "data": {
      "text/plain": [
       "Price range\n",
       "1    4444\n",
       "2    3113\n",
       "3    1408\n",
       "4     586\n",
       "Name: count, dtype: int64"
      ]
     },
     "execution_count": 19,
     "metadata": {},
     "output_type": "execute_result"
    }
   ],
   "source": [
    "pr = df['Price range'].value_counts()\n",
    "pr"
   ]
  },
  {
   "cell_type": "code",
   "execution_count": 20,
   "id": "2f91b848",
   "metadata": {},
   "outputs": [
    {
     "data": {
      "image/png": "[encoded data removed]",
      "text/plain": [
       "<Figure size 800x800 with 1 Axes>"
      ]
     },
     "metadata": {},
     "output_type": "display_data"
    }
   ],
   "source": [
    "#Create a histogram or bar chart to visualize the distribution of price ranges among the restaurants.\n",
    "plt.figure(figsize=(8,8))\n",
    "sns.barplot(x=pr.values, y=pr.index)\n",
    "plt.title(\"Bar plot to visualize the distribution of price ranges among the restaurants\")\n",
    "plt.xlabel(\"Number of restaurants\")\n",
    "plt.ylabel(\"Price Range\")\n",
    "plt.show()  "
   ]
  },
  {
   "cell_type": "markdown",
   "id": "7bf9fb56",
   "metadata": {},
   "source": [
    "# So here we were given with the task that we had to plot a histogram or bar chart for price range among the restaurant \n",
    "# For this first I took the price range column and used the value_counts function in order and assigned it to variable called pr\n",
    "# Then in the barplot for x axis I used pr.values and for y axis I used pr.index where pr.index is my count of restaurant based on the price range and x axis is my price range values"
   ]
  },
  {
   "cell_type": "code",
   "execution_count": 21,
   "id": "dfb73e98",
   "metadata": {},
   "outputs": [
    {
     "data": {
      "text/plain": [
       "Price range\n",
       "1    4444\n",
       "2    3113\n",
       "3    1408\n",
       "4     586\n",
       "Name: count, dtype: int64"
      ]
     },
     "execution_count": 21,
     "metadata": {},
     "output_type": "execute_result"
    }
   ],
   "source": [
    "# Calculate the percentage of restaurants in each price range category.\n",
    "pr"
   ]
  },
  {
   "cell_type": "code",
   "execution_count": 22,
   "id": "91641659",
   "metadata": {},
   "outputs": [
    {
     "name": "stdout",
     "output_type": "stream",
     "text": [
      "Percentage: 46.52915925034028\n"
     ]
    }
   ],
   "source": [
    "total = 4444\n",
    "percentage = (total/9551) \n",
    "print(\"Percentage:\",percentage*100)"
   ]
  },
  {
   "cell_type": "code",
   "execution_count": 23,
   "id": "1713736e",
   "metadata": {},
   "outputs": [
    {
     "name": "stdout",
     "output_type": "stream",
     "text": [
      "Percentage: 32.59344571249084\n"
     ]
    }
   ],
   "source": [
    "total = 3113\n",
    "percentage = (total/9551) \n",
    "print(\"Percentage:\",percentage*100)"
   ]
  },
  {
   "cell_type": "code",
   "execution_count": 24,
   "id": "6443f8e8",
   "metadata": {},
   "outputs": [
    {
     "name": "stdout",
     "output_type": "stream",
     "text": [
      "Percentage: 14.741911841691968\n"
     ]
    }
   ],
   "source": [
    "total = 1408\n",
    "percentage = (total/9551) \n",
    "print(\"Percentage:\",percentage*100)"
   ]
  },
  {
   "cell_type": "code",
   "execution_count": 25,
   "id": "38ce083f",
   "metadata": {},
   "outputs": [
    {
     "name": "stdout",
     "output_type": "stream",
     "text": [
      "Percentage: 6.135483195476914\n"
     ]
    }
   ],
   "source": [
    "total = 586\n",
    "percentage = (total/9551) \n",
    "print(\"Percentage:\",percentage*100)"
   ]
  },
  {
   "cell_type": "markdown",
   "id": "4733edb3",
   "metadata": {},
   "source": [
    "# So here we were asked to find the % of all the restaurants in each price category so previously for plotting we used the same thing so We have four categories like according to the price range the restaurants are categorized :- \n",
    "# Price range\n",
    "# 1    4444\n",
    "# 2    3113\n",
    "# 3    1408\n",
    "# 4     586\n",
    "# So for these 4 Price ranges I have calculated the % as shown in the above cells.\n",
    "# Answer :- \n",
    "# 1    4444 :- Percentage: 46.52915925034028\n",
    "# 2    3113 :- Percentage: 32.59344571249084\n",
    "# 3    1408 :- Percentage: 14.741911841691968\n",
    "# 4     586 :- Percentage: 6.135483195476914"
   ]
  },
  {
   "cell_type": "markdown",
   "id": "bd0f0fdd",
   "metadata": {},
   "source": [
    "# LEVEL 1 TASK 3 SUCCESSFULLY COMPLETED "
   ]
  },
  {
   "cell_type": "markdown",
   "id": "7ecd357d",
   "metadata": {},
   "source": [
    "# *TASK 4 :- Online Delivery*"
   ]
  },
  {
   "cell_type": "markdown",
   "id": "3d75292a",
   "metadata": {},
   "source": [
    "# Determine the percentage of restaurants that offer online delivery.\n",
    "# Compare the average ratings of restaurants with and without online delivery."
   ]
  },
  {
   "cell_type": "code",
   "execution_count": 26,
   "id": "de54ca19",
   "metadata": {},
   "outputs": [
    {
     "data": {
      "text/plain": [
       "Has Online delivery\n",
       "No     7100\n",
       "Yes    2451\n",
       "Name: count, dtype: int64"
      ]
     },
     "execution_count": 26,
     "metadata": {},
     "output_type": "execute_result"
    }
   ],
   "source": [
    "#Determine the percentage of restaurants that offer online delivery.\n",
    "df['Has Online delivery'].value_counts()"
   ]
  },
  {
   "cell_type": "code",
   "execution_count": 27,
   "id": "855abe2c",
   "metadata": {},
   "outputs": [
    {
     "name": "stdout",
     "output_type": "stream",
     "text": [
      "The Percentage of Restaurants that offer online delivery is: 25.662234321013504\n"
     ]
    }
   ],
   "source": [
    "total = 2451 \n",
    "percentage = (total/9551)\n",
    "print(\"The Percentage of Restaurants that offer online delivery is:\",percentage*100)"
   ]
  },
  {
   "cell_type": "code",
   "execution_count": 28,
   "id": "f51c84c5",
   "metadata": {},
   "outputs": [
    {
     "name": "stdout",
     "output_type": "stream",
     "text": [
      "The Percentage of Restaurants that does not offer online delivery is: 74.33776567898649\n"
     ]
    }
   ],
   "source": [
    "total = 7100 \n",
    "percentage = (total/9551)\n",
    "print(\"The Percentage of Restaurants that does not offer online delivery is:\",percentage*100)"
   ]
  },
  {
   "cell_type": "markdown",
   "id": "a4960acc",
   "metadata": {},
   "source": [
    "# So here we are asked to find the % of the restaurants which have the facility of online delivery.\n",
    "# In order to achieve this I have used the value counts function and determined that \n",
    "#  Has Online delivery\n",
    "# No     7100\n",
    "# Yes    2451\n",
    "# So the number of restaurants having the facility of online delivery is only 2451 \n",
    "# Now finding the % is not a big deal I have just did - (2451/9551)*100 here 9551 is the total number of columns as shown in the above cell.\n",
    "# Additionally I have calculated the % for the restaurants which doesn't have the facility of online delivery as show in above cell.\n",
    "# Answer :- \n",
    "# The Percentage of Restaurants that offer online delivery is: 25.662234321013504\n",
    "# The Percentage of Restaurants that does not offer online delivery is: 74.33776567898649"
   ]
  },
  {
   "cell_type": "code",
   "execution_count": 29,
   "id": "43c46db6",
   "metadata": {},
   "outputs": [
    {
     "data": {
      "application/vnd.microsoft.datawrangler.viewer.v0+json": {
       "columns": [
        {
         "name": "Has Online delivery",
         "rawType": "object",
         "type": "string"
        },
        {
         "name": "Aggregate rating",
         "rawType": "float64",
         "type": "float"
        }
       ],
       "conversionMethod": "pd.DataFrame",
       "ref": "439104ab-e345-48eb-a019-8db9454d44fc",
       "rows": [
        [
         "No",
         "2.465295774647887"
        ],
        [
         "Yes",
         "3.2488372093023252"
        ]
       ],
       "shape": {
        "columns": 1,
        "rows": 2
       }
      },
      "text/html": [
       "<div>\n",
       "<style scoped>\n",
       "    .dataframe tbody tr th:only-of-type {\n",
       "        vertical-align: middle;\n",
       "    }\n",
       "\n",
       "    .dataframe tbody tr th {\n",
       "        vertical-align: top;\n",
       "    }\n",
       "\n",
       "    .dataframe thead th {\n",
       "        text-align: right;\n",
       "    }\n",
       "</style>\n",
       "<table border=\"1\" class=\"dataframe\">\n",
       "  <thead>\n",
       "    <tr style=\"text-align: right;\">\n",
       "      <th></th>\n",
       "      <th>Aggregate rating</th>\n",
       "    </tr>\n",
       "    <tr>\n",
       "      <th>Has Online delivery</th>\n",
       "      <th></th>\n",
       "    </tr>\n",
       "  </thead>\n",
       "  <tbody>\n",
       "    <tr>\n",
       "      <th>No</th>\n",
       "      <td>2.465296</td>\n",
       "    </tr>\n",
       "    <tr>\n",
       "      <th>Yes</th>\n",
       "      <td>3.248837</td>\n",
       "    </tr>\n",
       "  </tbody>\n",
       "</table>\n",
       "</div>"
      ],
      "text/plain": [
       "                     Aggregate rating\n",
       "Has Online delivery                  \n",
       "No                           2.465296\n",
       "Yes                          3.248837"
      ]
     },
     "execution_count": 29,
     "metadata": {},
     "output_type": "execute_result"
    }
   ],
   "source": [
    "#Compare the average ratings of restaurants with and without online delivery.\n",
    "avg_rating_with_without_deli = df.groupby(['Has Online delivery']).agg({'Aggregate rating':'mean'})\n",
    "avg_rating_with_without_deli"
   ]
  },
  {
   "cell_type": "code",
   "execution_count": 30,
   "id": "091a412a",
   "metadata": {},
   "outputs": [
    {
     "data": {
      "image/png": "[encoded data removed]",
      "text/plain": [
       "<Figure size 1000x1000 with 1 Axes>"
      ]
     },
     "metadata": {},
     "output_type": "display_data"
    }
   ],
   "source": [
    "plt.figure(figsize=(10,10))\n",
    "ax = sns.countplot(x = df['Aggregate rating'], hue = df['Has Online delivery'], palette=['red','black'])\n",
    "for x in ax.containers:\n",
    "    ax.bar_label(x)\n",
    "plt.xticks(rotation = 90)\n",
    "plt.legend()\n",
    "plt.show() "
   ]
  },
  {
   "cell_type": "markdown",
   "id": "5e366a41",
   "metadata": {},
   "source": [
    "# So here basically I have first found out the avg ratings based on the delivery and I have plotted the count plot for the \n",
    "# Has Online Delivery X Aggregate Rating "
   ]
  },
  {
   "cell_type": "markdown",
   "id": "22754de8",
   "metadata": {},
   "source": [
    "# LEVEL 1 TASK 4 COMPLETED SUCCESSFULLY\n",
    "# LEVEL 1 COMPLETED SUCCESSFULLY "
   ]
  },
  {
   "cell_type": "markdown",
   "id": "45a0976a",
   "metadata": {},
   "source": []
  }
 ],
 "metadata": {
  "kernelspec": {
   "display_name": "Python 3",
   "language": "python",
   "name": "python3"
  },
  "language_info": {
   "codemirror_mode": {
    "name": "ipython",
    "version": 3
   },
   "file_extension": ".py",
   "mimetype": "text/x-python",
   "name": "python",
   "nbconvert_exporter": "python",
   "pygments_lexer": "ipython3",
   "version": "3.13.2"
  }
 },
 "nbformat": 4,
 "nbformat_minor": 5
}
