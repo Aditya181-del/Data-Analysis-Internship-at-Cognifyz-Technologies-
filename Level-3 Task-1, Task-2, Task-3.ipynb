{
 "cells": [
  {
   "cell_type": "markdown",
   "id": "f6620e27",
   "metadata": {},
   "source": [
    "# *LEVEL 3*"
   ]
  },
  {
   "cell_type": "code",
   "execution_count": 1,
   "id": "c7dbfacd",
   "metadata": {},
   "outputs": [],
   "source": [
    "import numpy as np \n",
    "import pandas as pd \n",
    "import matplotlib.pyplot as plt \n",
    "import seaborn as sns\n",
    "import plotly.express as px "
   ]
  },
  {
   "cell_type": "code",
   "execution_count": 2,
   "id": "6a59bde6",
   "metadata": {},
   "outputs": [
    {
     "data": {
      "application/vnd.microsoft.datawrangler.viewer.v0+json": {
       "columns": [
        {
         "name": "index",
         "rawType": "int64",
         "type": "integer"
        },
        {
         "name": "Restaurant ID",
         "rawType": "int64",
         "type": "integer"
        },
        {
         "name": "Restaurant Name",
         "rawType": "object",
         "type": "string"
        },
        {
         "name": "Country Code",
         "rawType": "int64",
         "type": "integer"
        },
        {
         "name": "City",
         "rawType": "object",
         "type": "string"
        },
        {
         "name": "Address",
         "rawType": "object",
         "type": "string"
        },
        {
         "name": "Locality",
         "rawType": "object",
         "type": "string"
        },
        {
         "name": "Locality Verbose",
         "rawType": "object",
         "type": "string"
        },
        {
         "name": "Longitude",
         "rawType": "float64",
         "type": "float"
        },
        {
         "name": "Latitude",
         "rawType": "float64",
         "type": "float"
        },
        {
         "name": "Cuisines",
         "rawType": "object",
         "type": "unknown"
        },
        {
         "name": "Average Cost for two",
         "rawType": "int64",
         "type": "integer"
        },
        {
         "name": "Currency",
         "rawType": "object",
         "type": "string"
        },
        {
         "name": "Has Table booking",
         "rawType": "object",
         "type": "string"
        },
        {
         "name": "Has Online delivery",
         "rawType": "object",
         "type": "string"
        },
        {
         "name": "Is delivering now",
         "rawType": "object",
         "type": "string"
        },
        {
         "name": "Switch to order menu",
         "rawType": "object",
         "type": "string"
        },
        {
         "name": "Price range",
         "rawType": "int64",
         "type": "integer"
        },
        {
         "name": "Aggregate rating",
         "rawType": "float64",
         "type": "float"
        },
        {
         "name": "Rating color",
         "rawType": "object",
         "type": "string"
        },
        {
         "name": "Rating text",
         "rawType": "object",
         "type": "string"
        },
        {
         "name": "Votes",
         "rawType": "int64",
         "type": "integer"
        }
       ],
       "conversionMethod": "pd.DataFrame",
       "ref": "01a28969-c6cd-4800-8f7d-ee8f7ef3dd2e",
       "rows": [
        [
         "0",
         "6317637",
         "Le Petit Souffle",
         "162",
         "Makati City",
         "Third Floor, Century City Mall, Kalayaan Avenue, Poblacion, Makati City",
         "Century City Mall, Poblacion, Makati City",
         "Century City Mall, Poblacion, Makati City, Makati City",
         "121.027535",
         "14.565443",
         "French, Japanese, Desserts",
         "1100",
         "Botswana Pula(P)",
         "Yes",
         "No",
         "No",
         "No",
         "3",
         "4.8",
         "Dark Green",
         "Excellent",
         "314"
        ],
        [
         "1",
         "6304287",
         "Izakaya Kikufuji",
         "162",
         "Makati City",
         "Little Tokyo, 2277 Chino Roces Avenue, Legaspi Village, Makati City",
         "Little Tokyo, Legaspi Village, Makati City",
         "Little Tokyo, Legaspi Village, Makati City, Makati City",
         "121.014101",
         "14.553708",
         "Japanese",
         "1200",
         "Botswana Pula(P)",
         "Yes",
         "No",
         "No",
         "No",
         "3",
         "4.5",
         "Dark Green",
         "Excellent",
         "591"
        ],
        [
         "2",
         "6300002",
         "Heat - Edsa Shangri-La",
         "162",
         "Mandaluyong City",
         "Edsa Shangri-La, 1 Garden Way, Ortigas, Mandaluyong City",
         "Edsa Shangri-La, Ortigas, Mandaluyong City",
         "Edsa Shangri-La, Ortigas, Mandaluyong City, Mandaluyong City",
         "121.056831",
         "14.581404",
         "Seafood, Asian, Filipino, Indian",
         "4000",
         "Botswana Pula(P)",
         "Yes",
         "No",
         "No",
         "No",
         "4",
         "4.4",
         "Green",
         "Very Good",
         "270"
        ],
        [
         "3",
         "6318506",
         "Ooma",
         "162",
         "Mandaluyong City",
         "Third Floor, Mega Fashion Hall, SM Megamall, Ortigas, Mandaluyong City",
         "SM Megamall, Ortigas, Mandaluyong City",
         "SM Megamall, Ortigas, Mandaluyong City, Mandaluyong City",
         "121.056475",
         "14.585318",
         "Japanese, Sushi",
         "1500",
         "Botswana Pula(P)",
         "No",
         "No",
         "No",
         "No",
         "4",
         "4.9",
         "Dark Green",
         "Excellent",
         "365"
        ],
        [
         "4",
         "6314302",
         "Sambo Kojin",
         "162",
         "Mandaluyong City",
         "Third Floor, Mega Atrium, SM Megamall, Ortigas, Mandaluyong City",
         "SM Megamall, Ortigas, Mandaluyong City",
         "SM Megamall, Ortigas, Mandaluyong City, Mandaluyong City",
         "121.057508",
         "14.58445",
         "Japanese, Korean",
         "1500",
         "Botswana Pula(P)",
         "Yes",
         "No",
         "No",
         "No",
         "4",
         "4.8",
         "Dark Green",
         "Excellent",
         "229"
        ],
        [
         "5",
         "18189371",
         "Din Tai Fung",
         "162",
         "Mandaluyong City",
         "Ground Floor, Mega Fashion Hall, SM Megamall, Ortigas, Mandaluyong City",
         "SM Megamall, Ortigas, Mandaluyong City",
         "SM Megamall, Ortigas, Mandaluyong City, Mandaluyong City",
         "121.056314",
         "14.583764",
         "Chinese",
         "1000",
         "Botswana Pula(P)",
         "No",
         "No",
         "No",
         "No",
         "3",
         "4.4",
         "Green",
         "Very Good",
         "336"
        ],
        [
         "6",
         "6300781",
         "Buffet 101",
         "162",
         "Pasay City",
         "Building K, SM By The Bay, Sunset Boulevard, Mall of Asia Complex (MOA), Pasay City",
         "SM by the Bay, Mall of Asia Complex, Pasay City",
         "SM by the Bay, Mall of Asia Complex, Pasay City, Pasay City",
         "120.9796667",
         "14.53133333",
         "Asian, European",
         "2000",
         "Botswana Pula(P)",
         "Yes",
         "No",
         "No",
         "No",
         "4",
         "4.0",
         "Green",
         "Very Good",
         "520"
        ],
        [
         "7",
         "6301290",
         "Vikings",
         "162",
         "Pasay City",
         "Building B, By The Bay, Seaside Boulevard, Mall of Asia Complex (MOA), Pasay City",
         "SM by the Bay, Mall of Asia Complex, Pasay City",
         "SM by the Bay, Mall of Asia Complex, Pasay City, Pasay City",
         "120.9793333",
         "14.54",
         "Seafood, Filipino, Asian, European",
         "2000",
         "Botswana Pula(P)",
         "Yes",
         "No",
         "No",
         "No",
         "4",
         "4.2",
         "Green",
         "Very Good",
         "677"
        ],
        [
         "8",
         "6300010",
         "Spiral - Sofitel Philippine Plaza Manila",
         "162",
         "Pasay City",
         "Plaza Level, Sofitel Philippine Plaza Manila, CCP Complex, Pasay City",
         "Sofitel Philippine Plaza Manila, Pasay City",
         "Sofitel Philippine Plaza Manila, Pasay City, Pasay City",
         "120.98009",
         "14.55299",
         "European, Asian, Indian",
         "6000",
         "Botswana Pula(P)",
         "Yes",
         "No",
         "No",
         "No",
         "4",
         "4.9",
         "Dark Green",
         "Excellent",
         "621"
        ],
        [
         "9",
         "6314987",
         "Locavore",
         "162",
         "Pasig City",
         "Brixton Technology Center, 10 Brixton Street, Kapitolyo, Pasig City",
         "Kapitolyo",
         "Kapitolyo, Pasig City",
         "121.056532",
         "14.572041",
         "Filipino",
         "1100",
         "Botswana Pula(P)",
         "Yes",
         "No",
         "No",
         "No",
         "3",
         "4.8",
         "Dark Green",
         "Excellent",
         "532"
        ],
        [
         "10",
         "6309903",
         "Silantro Fil-Mex",
         "162",
         "Pasig City",
         "75 East Capitol Drive, Kapitolyo, Pasig City",
         "Kapitolyo",
         "Kapitolyo, Pasig City",
         "121.057916",
         "14.567689",
         "Filipino, Mexican",
         "800",
         "Botswana Pula(P)",
         "No",
         "No",
         "No",
         "No",
         "3",
         "4.9",
         "Dark Green",
         "Excellent",
         "1070"
        ],
        [
         "11",
         "6309455",
         "Mad Mark's Creamery & Good Eats",
         "162",
         "Pasig City",
         "23 East Capitol Drive, Kapitolyo, Pasig City",
         "Kapitolyo",
         "Kapitolyo, Pasig City",
         "121.06082",
         "14.570849",
         "American, Ice Cream, Desserts",
         "900",
         "Botswana Pula(P)",
         "Yes",
         "No",
         "No",
         "No",
         "3",
         "4.2",
         "Green",
         "Very Good",
         "488"
        ],
        [
         "12",
         "6318433",
         "Silantro Fil-Mex",
         "162",
         "Quezon City",
         "Second Floor, UP Town Center, Katipunan Avenue, Diliman, Quezon City",
         "UP Town Center, Diliman, Quezon City",
         "UP Town Center, Diliman, Quezon City, Quezon City",
         "121.075419",
         "14.649503",
         "Filipino, Mexican",
         "800",
         "Botswana Pula(P)",
         "No",
         "No",
         "No",
         "No",
         "3",
         "4.8",
         "Dark Green",
         "Excellent",
         "294"
        ],
        [
         "13",
         "6310470",
         "Guevarra's",
         "162",
         "San Juan City",
         "387 P. Guevarra Corner Argonne Street, Addition Hills, San Juan City",
         "Addition Hills",
         "Addition Hills, San Juan City",
         "121.0335917",
         "14.59345",
         "Filipino",
         "1000",
         "Botswana Pula(P)",
         "Yes",
         "No",
         "No",
         "No",
         "3",
         "4.2",
         "Green",
         "Very Good",
         "458"
        ],
        [
         "14",
         "6314605",
         "Sodam Korean Restaurant",
         "162",
         "San Juan City",
         "17 J. Abad Santos Drive, Little Baguio, San Juan City",
         "Little Baguio",
         "Little Baguio, San Juan City",
         "121.03811",
         "14.59889",
         "Korean",
         "700",
         "Botswana Pula(P)",
         "No",
         "No",
         "No",
         "No",
         "3",
         "4.3",
         "Green",
         "Very Good",
         "223"
        ],
        [
         "15",
         "18185059",
         "Cafe Arabelle",
         "162",
         "Santa Rosa",
         "Ayala Mall, Solenad, Nuvali, Santa Rosa - Tagaytay Road, Don Jose, Santa Rosa",
         "Nuvali, Don Jose, Santa Rosa",
         "Nuvali, Don Jose, Santa Rosa, Santa Rosa",
         "121.05704",
         "14.237082",
         "Cafe, American, Italian, Filipino",
         "800",
         "Botswana Pula(P)",
         "No",
         "No",
         "No",
         "No",
         "3",
         "3.6",
         "Yellow",
         "Good",
         "29"
        ],
        [
         "16",
         "18182702",
         "Nonna's Pasta & Pizzeria",
         "162",
         "Santa Rosa",
         "Ground Floor, Building G, Solenad 3, Nuvali, Don Jose, Santa Rosa",
         "Solenad 3, Don Jose, Santa Rosa",
         "Solenad 3, Don Jose, Santa Rosa, Santa Rosa",
         "121.0565874",
         "14.23767897",
         "Italian, Pizza",
         "850",
         "Botswana Pula(P)",
         "No",
         "No",
         "No",
         "No",
         "3",
         "4.0",
         "Green",
         "Very Good",
         "72"
        ],
        [
         "17",
         "6318213",
         "Balay Dako",
         "162",
         "Tagaytay City",
         "Aguinaldo Highway, Tagaytay City",
         "Tagaytay City",
         "Tagaytay City, Tagaytay City",
         "120.951589",
         "14.101834",
         "Filipino",
         "1200",
         "Botswana Pula(P)",
         "Yes",
         "No",
         "No",
         "No",
         "3",
         "4.5",
         "Dark Green",
         "Excellent",
         "211"
        ],
        [
         "18",
         "18255654",
         "Hobing Korean Dessert Cafe",
         "162",
         "Taguig City",
         "Third Floor, BGC Stopover Pavillion, Rizal Drive Corner 31st Street, Bonifacio Global City, Taguig City",
         "BGC Stopover Pavillion, Bonifacio Global City",
         "BGC Stopover Pavillion, Bonifacio Global City, Taguig City",
         "121.045878",
         "14.55436",
         "Cafe, Korean, Desserts",
         "600",
         "Botswana Pula(P)",
         "No",
         "No",
         "No",
         "No",
         "2",
         "4.5",
         "Dark Green",
         "Excellent",
         "118"
        ],
        [
         "19",
         "6308205",
         "Wildflour Cafe + Bakery",
         "162",
         "Taguig City",
         "Ground Floor, Netlima Building, 4th Avenue Corner 26th Street, Bonifacio Global City, Taguig City",
         "Bonifacio Global City",
         "Bonifacio Global City, Taguig City",
         "121.04622",
         "14.549337",
         "Cafe, Bakery, American, Italian",
         "1500",
         "Botswana Pula(P)",
         "Yes",
         "No",
         "No",
         "No",
         "4",
         "4.4",
         "Green",
         "Very Good",
         "392"
        ],
        [
         "20",
         "6315438",
         "NIU by Vikings",
         "162",
         "Taguig City",
         "Sixth Floor, SM Aura Premier, C5 Road Corner 26th Street, Bonifacio Global City, Taguig City",
         "SM Aura Premier, Bonifacio Global City, Taguig City",
         "SM Aura Premier, Bonifacio Global City, Taguig City, Taguig City",
         "121.053725",
         "14.545858",
         "Seafood, American, Mediterranean, Japanese",
         "3000",
         "Botswana Pula(P)",
         "Yes",
         "No",
         "No",
         "No",
         "4",
         "4.7",
         "Dark Green",
         "Excellent",
         "535"
        ],
        [
         "21",
         "6310406",
         "The Food Hall by Todd English",
         "162",
         "Taguig City",
         "Fifth Floor, SM Aura Premier, C5 Corner 26th Street, Bonifacio Global City, Taguig City",
         "SM Aura Premier, Bonifacio Global City, Taguig City",
         "SM Aura Premier, Bonifacio Global City, Taguig City, Taguig City",
         "121.0534998",
         "14.54565535",
         "American, Asian, Italian, Seafood",
         "1800",
         "Botswana Pula(P)",
         "Yes",
         "No",
         "No",
         "No",
         "4",
         "4.5",
         "Dark Green",
         "Excellent",
         "618"
        ],
        [
         "22",
         "6600681",
         "Chez Michou",
         "30",
         "Bras�_lia",
         "SCLN, 208, Bloco A, Loja 30, Asa Norte, Bras�_lia",
         "Asa Norte",
         "Asa Norte, Bras�_lia",
         "-47.88178889",
         "-15.76414167",
         "Fast Food, French",
         "55",
         "Brazilian Real(R$)",
         "No",
         "No",
         "No",
         "No",
         "2",
         "3.0",
         "Orange",
         "Average",
         "6"
        ],
        [
         "23",
         "6601005",
         "Caf�� Daniel Briand",
         "30",
         "Bras�_lia",
         "SCLN 104, Bloco A, Loja 26, Asa Norte, Bras�_lia",
         "Asa Norte",
         "Asa Norte, Bras�_lia",
         "-47.88266667",
         "-15.7775",
         "Cafe",
         "30",
         "Brazilian Real(R$)",
         "No",
         "No",
         "No",
         "No",
         "1",
         "3.8",
         "Yellow",
         "Good",
         "9"
        ],
        [
         "24",
         "6600292",
         "Casa do Biscoito Mineiro",
         "30",
         "Bras�_lia",
         "SCLN 210, Bloco D, Loja 36/48, Asa Norte, Bras�_lia",
         "Asa Norte",
         "Asa Norte, Bras�_lia",
         "-47.88213611",
         "-15.75747222",
         "Bakery",
         "45",
         "Brazilian Real(R$)",
         "No",
         "No",
         "No",
         "No",
         "2",
         "3.7",
         "Yellow",
         "Good",
         "11"
        ],
        [
         "25",
         "6600441",
         "Maori",
         "30",
         "Bras�_lia",
         "CLN 110, Bloco D, Loja 28, Asa Norte, Bras�_lia",
         "Asa Norte",
         "Asa Norte, Bras�_lia",
         "-47.88816667",
         "-15.75883333",
         "Brazilian",
         "60",
         "Brazilian Real(R$)",
         "No",
         "No",
         "No",
         "No",
         "3",
         "3.8",
         "Yellow",
         "Good",
         "11"
        ],
        [
         "26",
         "6600970",
         "Pizza �� Bessa",
         "30",
         "Bras�_lia",
         "SCS 214, Bloco C, Loja 40, Asa Sul, Bras�_lia",
         "Asa Sul",
         "Asa Sul, Bras�_lia",
         "-47.91566667",
         "-15.83116667",
         "Pizza",
         "50",
         "Brazilian Real(R$)",
         "No",
         "No",
         "No",
         "No",
         "2",
         "3.2",
         "Orange",
         "Average",
         "11"
        ],
        [
         "27",
         "6600379",
         "Sushi Loko",
         "30",
         "Bras�_lia",
         "SCS 213, Bloco C, Loja 35, Asa Sul, Bras�_lia",
         "Asa Sul",
         "Asa Sul, Bras�_lia",
         "-47.91566667",
         "-15.831",
         "Japanese",
         "80",
         "Brazilian Real(R$)",
         "No",
         "No",
         "No",
         "No",
         "3",
         "3.1",
         "Orange",
         "Average",
         "10"
        ],
        [
         "28",
         "6600214",
         "Beirute",
         "30",
         "Bras�_lia",
         "CLS 109, Bloco A, Loja 2/6, Asa Sul, Bras�_lia",
         "Asa Sul",
         "Asa Sul, Bras�_lia",
         "-47.9075",
         "-15.82",
         "Arabian",
         "90",
         "Brazilian Real(R$)",
         "No",
         "No",
         "No",
         "No",
         "3",
         "3.7",
         "Yellow",
         "Good",
         "8"
        ],
        [
         "29",
         "6601218",
         "New Koto",
         "30",
         "Bras�_lia",
         "SCS 212, Bloco B, Loja 26, Asa Sul, Bras�_lia",
         "Asa Sul",
         "Asa Sul, Bras�_lia",
         "-47.91016667",
         "-15.82733333",
         "Japanese",
         "200",
         "Brazilian Real(R$)",
         "No",
         "No",
         "No",
         "No",
         "4",
         "3.7",
         "Yellow",
         "Good",
         "5"
        ],
        [
         "30",
         "6600060",
         "Sandubas Caf��",
         "30",
         "Bras�_lia",
         "Edif�_cio Jos�� Severo, SCS 6, Bloco A, Loja 99, Asa Sul, Bras�_lia",
         "Asa Sul",
         "Asa Sul, Bras�_lia",
         "-47.89016667",
         "-15.797",
         "Brazilian, Cafe",
         "30",
         "Brazilian Real(R$)",
         "No",
         "No",
         "No",
         "No",
         "1",
         "0.0",
         "White",
         "Not rated",
         "2"
        ],
        [
         "31",
         "6600083",
         "Villa Tevere",
         "30",
         "Bras�_lia",
         "CLS 115, Bloco A, Loja 2, Asa Sul, Bras�_lia",
         "Asa Sul",
         "Asa Sul, Bras�_lia",
         "-47.92366667",
         "-15.83133333",
         "Italian",
         "150",
         "Brazilian Real(R$)",
         "No",
         "No",
         "No",
         "No",
         "4",
         "4.1",
         "Green",
         "Very Good",
         "12"
        ],
        [
         "32",
         "6601515",
         "Rovereto",
         "30",
         "Bras�_lia",
         "Rua 13 Norte, Lote 4, �guas Claras, Bras�_lia",
         "�guas Claras",
         "�guas Claras, Bras�_lia",
         "-48.019",
         "-15.83716667",
         "Pizza",
         "100",
         "Brazilian Real(R$)",
         "No",
         "No",
         "No",
         "No",
         "4",
         "3.1",
         "Orange",
         "Average",
         "9"
        ],
        [
         "33",
         "6601361",
         "Buena Carne",
         "30",
         "Bras�_lia",
         "Avenida Arauc��rias, 1325, Loja 19, �guas Claras, Bras�_lia",
         "�guas Claras",
         "�guas Claras, Bras�_lia",
         "-48.01909167",
         "-15.839775",
         "Bar Food, Brazilian",
         "60",
         "Brazilian Real(R$)",
         "No",
         "No",
         "No",
         "No",
         "3",
         "3.6",
         "Yellow",
         "Good",
         "9"
        ],
        [
         "34",
         "6601602",
         "Taco Pep",
         "30",
         "Bras�_lia",
         "Vila Malls, Avenida das Castanheiras, Lote 1060, �guas Claras, Bras�_lia",
         "�guas Claras",
         "�guas Claras, Bras�_lia",
         "-48.01666667",
         "-15.83483333",
         "Mexican, Grill",
         "100",
         "Brazilian Real(R$)",
         "No",
         "No",
         "No",
         "No",
         "4",
         "4.3",
         "Green",
         "Very Good",
         "29"
        ],
        [
         "35",
         "6601589",
         "Coco Bambu",
         "30",
         "Bras�_lia",
         "Bras�_lia Shopping - Piso 2, SCN 5, Bloco A, Asa Norte, Bras�_lia",
         "Bras�_lia Shopping, Asa Norte",
         "Bras�_lia Shopping, Asa Norte, Bras�_lia",
         "-47.889",
         "-15.7865",
         "International",
         "230",
         "Brazilian Real(R$)",
         "No",
         "No",
         "No",
         "No",
         "4",
         "4.2",
         "Green",
         "Very Good",
         "17"
        ],
        [
         "36",
         "6601862",
         "Tayp��",
         "30",
         "Bras�_lia",
         "Fashion Park, Shis Ql 17, Bloco G, Loja 208, Lago Sul, Bras�_lia",
         "Lago Sul",
         "Lago Sul, Bras�_lia",
         "-47.872359",
         "-15.860621",
         "Peruvian, Latin American",
         "100",
         "Brazilian Real(R$)",
         "No",
         "No",
         "No",
         "No",
         "4",
         "3.6",
         "Yellow",
         "Good",
         "5"
        ],
        [
         "37",
         "6601595",
         "Outback Steakhouse",
         "30",
         "Bras�_lia",
         "ParkShopping - Piso 2, SAI/SO, �rea 6580, Guar�� I, Bras�_lia",
         "ParkShopping, Guar�� I",
         "ParkShopping, Guar�� I, Bras�_lia",
         "-47.95628333",
         "-15.83451389",
         "American, Grill",
         "150",
         "Brazilian Real(R$)",
         "No",
         "No",
         "No",
         "No",
         "4",
         "4.0",
         "Green",
         "Very Good",
         "10"
        ],
        [
         "38",
         "6601158",
         "Manzu��",
         "30",
         "Bras�_lia",
         "Pont��o Lago Sul, SHIS 10, Lote 9, Lago Sul, Bras�_lia",
         "Pont��o Lago Sul, Lago Sul",
         "Pont��o Lago Sul, Lago Sul, Bras�_lia",
         "-47.87283333",
         "-15.82566667",
         "Seafood",
         "240",
         "Brazilian Real(R$)",
         "No",
         "No",
         "No",
         "No",
         "4",
         "3.2",
         "Orange",
         "Average",
         "6"
        ],
        [
         "39",
         "6600427",
         "Coco Bambu",
         "30",
         "Bras�_lia",
         "SCES, Trecho 2, Conjunto 13/36, Setor de Clubes Esportivos Sul, Bras�_lia",
         "Setor De Clubes Esportivos Sul",
         "Setor De Clubes Esportivos Sul, Bras�_lia",
         "-47.8685",
         "-15.819",
         "International",
         "230",
         "Brazilian Real(R$)",
         "No",
         "No",
         "No",
         "No",
         "4",
         "4.9",
         "Dark Green",
         "Excellent",
         "30"
        ],
        [
         "40",
         "6600116",
         "Gero",
         "30",
         "Bras�_lia",
         "Shopping Iguatemi - piso 1, SHIN CA 4, Lote A, Lago Norte, Bras�_lia",
         "Shopping Iguatemi, Lago Norte",
         "Shopping Iguatemi, Lago Norte, Bras�_lia",
         "-47.885812",
         "-15.720118",
         "Italian",
         "350",
         "Brazilian Real(R$)",
         "No",
         "No",
         "No",
         "No",
         "4",
         "3.3",
         "Orange",
         "Average",
         "8"
        ],
        [
         "41",
         "6601457",
         "Brazilian American Burgers",
         "30",
         "Bras�_lia",
         "CLSN 301, Bloco C, Loja 86, Sudoeste, Bras�_lia",
         "Sudoeste",
         "Sudoeste, Bras�_lia",
         "-47.92102778",
         "-15.79753056",
         "American, Burger",
         "50",
         "Brazilian Real(R$)",
         "No",
         "No",
         "No",
         "No",
         "2",
         "3.6",
         "Yellow",
         "Good",
         "9"
        ],
        [
         "42",
         "7303219",
         "Pesqueiro Eco Gourmet",
         "30",
         "Rio de Janeiro",
         "Praia da Barra da Tijuca, Avenida L�_cio Costa, Ilha 25, Barra da Tijuca, Rio de Janeiro",
         "Barra da Tijuca",
         "Barra da Tijuca, Rio de Janeiro",
         "-43.377",
         "-23.0115",
         "Seafood, Bar Food, Brazilian",
         "140",
         "Brazilian Real(R$)",
         "No",
         "No",
         "No",
         "No",
         "4",
         "4.0",
         "Green",
         "Very Good",
         "7"
        ],
        [
         "43",
         "7304307",
         "Confeitaria Colombo",
         "30",
         "Rio de Janeiro",
         "Rua Gon�_alves Dias, 32, Centro, Rio de Janeiro",
         "Centro",
         "Centro, Rio de Janeiro",
         "-43.178826",
         "-22.905293",
         "Desserts, Cafe",
         "100",
         "Brazilian Real(R$)",
         "No",
         "No",
         "No",
         "No",
         "4",
         "4.8",
         "Dark Green",
         "Excellent",
         "29"
        ],
        [
         "44",
         "7301215",
         "Bibi",
         "30",
         "Rio de Janeiro",
         "Rua Santa Clara, 36, Copabana, Rio de Janeiro",
         "Copacabana",
         "Copacabana, Rio de Janeiro",
         "-43.18669167",
         "-22.97207222",
         "Juices, Healthy Food",
         "60",
         "Brazilian Real(R$)",
         "No",
         "No",
         "No",
         "No",
         "3",
         "4.7",
         "Dark Green",
         "Excellent",
         "24"
        ],
        [
         "45",
         "7300596",
         "Cervantes",
         "30",
         "Rio de Janeiro",
         "Avenida Prado Junior, 335 B, Copacabana, Rio de Janeiro",
         "Copacabana",
         "Copacabana, Rio de Janeiro",
         "-43.17583333",
         "-22.96216667",
         "Beverages, Bar Food, Fast Food",
         "90",
         "Brazilian Real(R$)",
         "No",
         "No",
         "No",
         "No",
         "3",
         "4.5",
         "Dark Green",
         "Excellent",
         "29"
        ],
        [
         "46",
         "7300612",
         "Amir",
         "30",
         "Rio de Janeiro",
         "Rua Ronald de Carvalho, 55, Copacabana, Rio de Janeiro",
         "Copacabana",
         "Copacabana, Rio de Janeiro",
         "-43.176",
         "-22.96516667",
         "Lebanese",
         "170",
         "Brazilian Real(R$)",
         "No",
         "No",
         "No",
         "No",
         "4",
         "4.2",
         "Green",
         "Very Good",
         "11"
        ],
        [
         "47",
         "7300704",
         "TT Burger",
         "30",
         "Rio de Janeiro",
         "Galeria River, Rua Francisco Otaviano, 67, Copacabana, Rio de Janeiro",
         "Galeria River, Copacabana",
         "Galeria River, Copacabana, Rio de Janeiro",
         "-43.191",
         "-22.98683333",
         "Burger",
         "60",
         "Brazilian Real(R$)",
         "No",
         "No",
         "No",
         "No",
         "3",
         "4.8",
         "Dark Green",
         "Excellent",
         "19"
        ],
        [
         "48",
         "7300955",
         "Braseiro da G��vea",
         "30",
         "Rio de Janeiro",
         "Pra�_a Santos Dumont, 116, G��vea, Rio de Janeiro",
         "G��vea",
         "G��vea, Rio de Janeiro",
         "-43.227042",
         "-22.973507",
         "Brazilian, Bar Food",
         "100",
         "Brazilian Real(R$)",
         "No",
         "No",
         "No",
         "No",
         "4",
         "4.9",
         "Dark Green",
         "Excellent",
         "40"
        ],
        [
         "49",
         "7300521",
         "Balada Mix",
         "30",
         "Rio de Janeiro",
         "Rua An�_bal de Mendon�_a, 37, Ipanema, Rio de Janeiro",
         "Ipanema",
         "Ipanema, Rio de Janeiro",
         "-43.211425",
         "-22.98520833",
         "Brazilian, Healthy Food, Juices, Pizza",
         "90",
         "Brazilian Real(R$)",
         "No",
         "No",
         "No",
         "No",
         "3",
         "4.6",
         "Dark Green",
         "Excellent",
         "21"
        ]
       ],
       "shape": {
        "columns": 21,
        "rows": 9551
       }
      },
      "text/html": [
       "<div>\n",
       "<style scoped>\n",
       "    .dataframe tbody tr th:only-of-type {\n",
       "        vertical-align: middle;\n",
       "    }\n",
       "\n",
       "    .dataframe tbody tr th {\n",
       "        vertical-align: top;\n",
       "    }\n",
       "\n",
       "    .dataframe thead th {\n",
       "        text-align: right;\n",
       "    }\n",
       "</style>\n",
       "<table border=\"1\" class=\"dataframe\">\n",
       "  <thead>\n",
       "    <tr style=\"text-align: right;\">\n",
       "      <th></th>\n",
       "      <th>Restaurant ID</th>\n",
       "      <th>Restaurant Name</th>\n",
       "      <th>Country Code</th>\n",
       "      <th>City</th>\n",
       "      <th>Address</th>\n",
       "      <th>Locality</th>\n",
       "      <th>Locality Verbose</th>\n",
       "      <th>Longitude</th>\n",
       "      <th>Latitude</th>\n",
       "      <th>Cuisines</th>\n",
       "      <th>...</th>\n",
       "      <th>Currency</th>\n",
       "      <th>Has Table booking</th>\n",
       "      <th>Has Online delivery</th>\n",
       "      <th>Is delivering now</th>\n",
       "      <th>Switch to order menu</th>\n",
       "      <th>Price range</th>\n",
       "      <th>Aggregate rating</th>\n",
       "      <th>Rating color</th>\n",
       "      <th>Rating text</th>\n",
       "      <th>Votes</th>\n",
       "    </tr>\n",
       "  </thead>\n",
       "  <tbody>\n",
       "    <tr>\n",
       "      <th>0</th>\n",
       "      <td>6317637</td>\n",
       "      <td>Le Petit Souffle</td>\n",
       "      <td>162</td>\n",
       "      <td>Makati City</td>\n",
       "      <td>Third Floor, Century City Mall, Kalayaan Avenu...</td>\n",
       "      <td>Century City Mall, Poblacion, Makati City</td>\n",
       "      <td>Century City Mall, Poblacion, Makati City, Mak...</td>\n",
       "      <td>121.027535</td>\n",
       "      <td>14.565443</td>\n",
       "      <td>French, Japanese, Desserts</td>\n",
       "      <td>...</td>\n",
       "      <td>Botswana Pula(P)</td>\n",
       "      <td>Yes</td>\n",
       "      <td>No</td>\n",
       "      <td>No</td>\n",
       "      <td>No</td>\n",
       "      <td>3</td>\n",
       "      <td>4.8</td>\n",
       "      <td>Dark Green</td>\n",
       "      <td>Excellent</td>\n",
       "      <td>314</td>\n",
       "    </tr>\n",
       "    <tr>\n",
       "      <th>1</th>\n",
       "      <td>6304287</td>\n",
       "      <td>Izakaya Kikufuji</td>\n",
       "      <td>162</td>\n",
       "      <td>Makati City</td>\n",
       "      <td>Little Tokyo, 2277 Chino Roces Avenue, Legaspi...</td>\n",
       "      <td>Little Tokyo, Legaspi Village, Makati City</td>\n",
       "      <td>Little Tokyo, Legaspi Village, Makati City, Ma...</td>\n",
       "      <td>121.014101</td>\n",
       "      <td>14.553708</td>\n",
       "      <td>Japanese</td>\n",
       "      <td>...</td>\n",
       "      <td>Botswana Pula(P)</td>\n",
       "      <td>Yes</td>\n",
       "      <td>No</td>\n",
       "      <td>No</td>\n",
       "      <td>No</td>\n",
       "      <td>3</td>\n",
       "      <td>4.5</td>\n",
       "      <td>Dark Green</td>\n",
       "      <td>Excellent</td>\n",
       "      <td>591</td>\n",
       "    </tr>\n",
       "    <tr>\n",
       "      <th>2</th>\n",
       "      <td>6300002</td>\n",
       "      <td>Heat - Edsa Shangri-La</td>\n",
       "      <td>162</td>\n",
       "      <td>Mandaluyong City</td>\n",
       "      <td>Edsa Shangri-La, 1 Garden Way, Ortigas, Mandal...</td>\n",
       "      <td>Edsa Shangri-La, Ortigas, Mandaluyong City</td>\n",
       "      <td>Edsa Shangri-La, Ortigas, Mandaluyong City, Ma...</td>\n",
       "      <td>121.056831</td>\n",
       "      <td>14.581404</td>\n",
       "      <td>Seafood, Asian, Filipino, Indian</td>\n",
       "      <td>...</td>\n",
       "      <td>Botswana Pula(P)</td>\n",
       "      <td>Yes</td>\n",
       "      <td>No</td>\n",
       "      <td>No</td>\n",
       "      <td>No</td>\n",
       "      <td>4</td>\n",
       "      <td>4.4</td>\n",
       "      <td>Green</td>\n",
       "      <td>Very Good</td>\n",
       "      <td>270</td>\n",
       "    </tr>\n",
       "    <tr>\n",
       "      <th>3</th>\n",
       "      <td>6318506</td>\n",
       "      <td>Ooma</td>\n",
       "      <td>162</td>\n",
       "      <td>Mandaluyong City</td>\n",
       "      <td>Third Floor, Mega Fashion Hall, SM Megamall, O...</td>\n",
       "      <td>SM Megamall, Ortigas, Mandaluyong City</td>\n",
       "      <td>SM Megamall, Ortigas, Mandaluyong City, Mandal...</td>\n",
       "      <td>121.056475</td>\n",
       "      <td>14.585318</td>\n",
       "      <td>Japanese, Sushi</td>\n",
       "      <td>...</td>\n",
       "      <td>Botswana Pula(P)</td>\n",
       "      <td>No</td>\n",
       "      <td>No</td>\n",
       "      <td>No</td>\n",
       "      <td>No</td>\n",
       "      <td>4</td>\n",
       "      <td>4.9</td>\n",
       "      <td>Dark Green</td>\n",
       "      <td>Excellent</td>\n",
       "      <td>365</td>\n",
       "    </tr>\n",
       "    <tr>\n",
       "      <th>4</th>\n",
       "      <td>6314302</td>\n",
       "      <td>Sambo Kojin</td>\n",
       "      <td>162</td>\n",
       "      <td>Mandaluyong City</td>\n",
       "      <td>Third Floor, Mega Atrium, SM Megamall, Ortigas...</td>\n",
       "      <td>SM Megamall, Ortigas, Mandaluyong City</td>\n",
       "      <td>SM Megamall, Ortigas, Mandaluyong City, Mandal...</td>\n",
       "      <td>121.057508</td>\n",
       "      <td>14.584450</td>\n",
       "      <td>Japanese, Korean</td>\n",
       "      <td>...</td>\n",
       "      <td>Botswana Pula(P)</td>\n",
       "      <td>Yes</td>\n",
       "      <td>No</td>\n",
       "      <td>No</td>\n",
       "      <td>No</td>\n",
       "      <td>4</td>\n",
       "      <td>4.8</td>\n",
       "      <td>Dark Green</td>\n",
       "      <td>Excellent</td>\n",
       "      <td>229</td>\n",
       "    </tr>\n",
       "    <tr>\n",
       "      <th>...</th>\n",
       "      <td>...</td>\n",
       "      <td>...</td>\n",
       "      <td>...</td>\n",
       "      <td>...</td>\n",
       "      <td>...</td>\n",
       "      <td>...</td>\n",
       "      <td>...</td>\n",
       "      <td>...</td>\n",
       "      <td>...</td>\n",
       "      <td>...</td>\n",
       "      <td>...</td>\n",
       "      <td>...</td>\n",
       "      <td>...</td>\n",
       "      <td>...</td>\n",
       "      <td>...</td>\n",
       "      <td>...</td>\n",
       "      <td>...</td>\n",
       "      <td>...</td>\n",
       "      <td>...</td>\n",
       "      <td>...</td>\n",
       "      <td>...</td>\n",
       "    </tr>\n",
       "    <tr>\n",
       "      <th>9546</th>\n",
       "      <td>5915730</td>\n",
       "      <td>Naml۱ Gurme</td>\n",
       "      <td>208</td>\n",
       "      <td>��stanbul</td>\n",
       "      <td>Kemanke�� Karamustafa Pa��a Mahallesi, R۱ht۱m ...</td>\n",
       "      <td>Karak�_y</td>\n",
       "      <td>Karak�_y, ��stanbul</td>\n",
       "      <td>28.977392</td>\n",
       "      <td>41.022793</td>\n",
       "      <td>Turkish</td>\n",
       "      <td>...</td>\n",
       "      <td>Turkish Lira(TL)</td>\n",
       "      <td>No</td>\n",
       "      <td>No</td>\n",
       "      <td>No</td>\n",
       "      <td>No</td>\n",
       "      <td>3</td>\n",
       "      <td>4.1</td>\n",
       "      <td>Green</td>\n",
       "      <td>Very Good</td>\n",
       "      <td>788</td>\n",
       "    </tr>\n",
       "    <tr>\n",
       "      <th>9547</th>\n",
       "      <td>5908749</td>\n",
       "      <td>Ceviz A��ac۱</td>\n",
       "      <td>208</td>\n",
       "      <td>��stanbul</td>\n",
       "      <td>Ko��uyolu Mahallesi, Muhittin ��st�_nda�� Cadd...</td>\n",
       "      <td>Ko��uyolu</td>\n",
       "      <td>Ko��uyolu, ��stanbul</td>\n",
       "      <td>29.041297</td>\n",
       "      <td>41.009847</td>\n",
       "      <td>World Cuisine, Patisserie, Cafe</td>\n",
       "      <td>...</td>\n",
       "      <td>Turkish Lira(TL)</td>\n",
       "      <td>No</td>\n",
       "      <td>No</td>\n",
       "      <td>No</td>\n",
       "      <td>No</td>\n",
       "      <td>3</td>\n",
       "      <td>4.2</td>\n",
       "      <td>Green</td>\n",
       "      <td>Very Good</td>\n",
       "      <td>1034</td>\n",
       "    </tr>\n",
       "    <tr>\n",
       "      <th>9548</th>\n",
       "      <td>5915807</td>\n",
       "      <td>Huqqa</td>\n",
       "      <td>208</td>\n",
       "      <td>��stanbul</td>\n",
       "      <td>Kuru�_e��me Mahallesi, Muallim Naci Caddesi, N...</td>\n",
       "      <td>Kuru�_e��me</td>\n",
       "      <td>Kuru�_e��me, ��stanbul</td>\n",
       "      <td>29.034640</td>\n",
       "      <td>41.055817</td>\n",
       "      <td>Italian, World Cuisine</td>\n",
       "      <td>...</td>\n",
       "      <td>Turkish Lira(TL)</td>\n",
       "      <td>No</td>\n",
       "      <td>No</td>\n",
       "      <td>No</td>\n",
       "      <td>No</td>\n",
       "      <td>4</td>\n",
       "      <td>3.7</td>\n",
       "      <td>Yellow</td>\n",
       "      <td>Good</td>\n",
       "      <td>661</td>\n",
       "    </tr>\n",
       "    <tr>\n",
       "      <th>9549</th>\n",
       "      <td>5916112</td>\n",
       "      <td>A���k Kahve</td>\n",
       "      <td>208</td>\n",
       "      <td>��stanbul</td>\n",
       "      <td>Kuru�_e��me Mahallesi, Muallim Naci Caddesi, N...</td>\n",
       "      <td>Kuru�_e��me</td>\n",
       "      <td>Kuru�_e��me, ��stanbul</td>\n",
       "      <td>29.036019</td>\n",
       "      <td>41.057979</td>\n",
       "      <td>Restaurant Cafe</td>\n",
       "      <td>...</td>\n",
       "      <td>Turkish Lira(TL)</td>\n",
       "      <td>No</td>\n",
       "      <td>No</td>\n",
       "      <td>No</td>\n",
       "      <td>No</td>\n",
       "      <td>4</td>\n",
       "      <td>4.0</td>\n",
       "      <td>Green</td>\n",
       "      <td>Very Good</td>\n",
       "      <td>901</td>\n",
       "    </tr>\n",
       "    <tr>\n",
       "      <th>9550</th>\n",
       "      <td>5927402</td>\n",
       "      <td>Walter's Coffee Roastery</td>\n",
       "      <td>208</td>\n",
       "      <td>��stanbul</td>\n",
       "      <td>Cafea��a Mahallesi, Bademalt۱ Sokak, No 21/B, ...</td>\n",
       "      <td>Moda</td>\n",
       "      <td>Moda, ��stanbul</td>\n",
       "      <td>29.026016</td>\n",
       "      <td>40.984776</td>\n",
       "      <td>Cafe</td>\n",
       "      <td>...</td>\n",
       "      <td>Turkish Lira(TL)</td>\n",
       "      <td>No</td>\n",
       "      <td>No</td>\n",
       "      <td>No</td>\n",
       "      <td>No</td>\n",
       "      <td>2</td>\n",
       "      <td>4.0</td>\n",
       "      <td>Green</td>\n",
       "      <td>Very Good</td>\n",
       "      <td>591</td>\n",
       "    </tr>\n",
       "  </tbody>\n",
       "</table>\n",
       "<p>9551 rows × 21 columns</p>\n",
       "</div>"
      ],
      "text/plain": [
       "      Restaurant ID           Restaurant Name  Country Code              City  \\\n",
       "0           6317637          Le Petit Souffle           162       Makati City   \n",
       "1           6304287          Izakaya Kikufuji           162       Makati City   \n",
       "2           6300002    Heat - Edsa Shangri-La           162  Mandaluyong City   \n",
       "3           6318506                      Ooma           162  Mandaluyong City   \n",
       "4           6314302               Sambo Kojin           162  Mandaluyong City   \n",
       "...             ...                       ...           ...               ...   \n",
       "9546        5915730               Naml۱ Gurme           208         ��stanbul   \n",
       "9547        5908749              Ceviz A��ac۱           208         ��stanbul   \n",
       "9548        5915807                     Huqqa           208         ��stanbul   \n",
       "9549        5916112               A���k Kahve           208         ��stanbul   \n",
       "9550        5927402  Walter's Coffee Roastery           208         ��stanbul   \n",
       "\n",
       "                                                Address  \\\n",
       "0     Third Floor, Century City Mall, Kalayaan Avenu...   \n",
       "1     Little Tokyo, 2277 Chino Roces Avenue, Legaspi...   \n",
       "2     Edsa Shangri-La, 1 Garden Way, Ortigas, Mandal...   \n",
       "3     Third Floor, Mega Fashion Hall, SM Megamall, O...   \n",
       "4     Third Floor, Mega Atrium, SM Megamall, Ortigas...   \n",
       "...                                                 ...   \n",
       "9546  Kemanke�� Karamustafa Pa��a Mahallesi, R۱ht۱m ...   \n",
       "9547  Ko��uyolu Mahallesi, Muhittin ��st�_nda�� Cadd...   \n",
       "9548  Kuru�_e��me Mahallesi, Muallim Naci Caddesi, N...   \n",
       "9549  Kuru�_e��me Mahallesi, Muallim Naci Caddesi, N...   \n",
       "9550  Cafea��a Mahallesi, Bademalt۱ Sokak, No 21/B, ...   \n",
       "\n",
       "                                        Locality  \\\n",
       "0      Century City Mall, Poblacion, Makati City   \n",
       "1     Little Tokyo, Legaspi Village, Makati City   \n",
       "2     Edsa Shangri-La, Ortigas, Mandaluyong City   \n",
       "3         SM Megamall, Ortigas, Mandaluyong City   \n",
       "4         SM Megamall, Ortigas, Mandaluyong City   \n",
       "...                                          ...   \n",
       "9546                                    Karak�_y   \n",
       "9547                                   Ko��uyolu   \n",
       "9548                                 Kuru�_e��me   \n",
       "9549                                 Kuru�_e��me   \n",
       "9550                                        Moda   \n",
       "\n",
       "                                       Locality Verbose   Longitude  \\\n",
       "0     Century City Mall, Poblacion, Makati City, Mak...  121.027535   \n",
       "1     Little Tokyo, Legaspi Village, Makati City, Ma...  121.014101   \n",
       "2     Edsa Shangri-La, Ortigas, Mandaluyong City, Ma...  121.056831   \n",
       "3     SM Megamall, Ortigas, Mandaluyong City, Mandal...  121.056475   \n",
       "4     SM Megamall, Ortigas, Mandaluyong City, Mandal...  121.057508   \n",
       "...                                                 ...         ...   \n",
       "9546                                Karak�_y, ��stanbul   28.977392   \n",
       "9547                               Ko��uyolu, ��stanbul   29.041297   \n",
       "9548                             Kuru�_e��me, ��stanbul   29.034640   \n",
       "9549                             Kuru�_e��me, ��stanbul   29.036019   \n",
       "9550                                    Moda, ��stanbul   29.026016   \n",
       "\n",
       "       Latitude                          Cuisines  ...          Currency  \\\n",
       "0     14.565443        French, Japanese, Desserts  ...  Botswana Pula(P)   \n",
       "1     14.553708                          Japanese  ...  Botswana Pula(P)   \n",
       "2     14.581404  Seafood, Asian, Filipino, Indian  ...  Botswana Pula(P)   \n",
       "3     14.585318                   Japanese, Sushi  ...  Botswana Pula(P)   \n",
       "4     14.584450                  Japanese, Korean  ...  Botswana Pula(P)   \n",
       "...         ...                               ...  ...               ...   \n",
       "9546  41.022793                           Turkish  ...  Turkish Lira(TL)   \n",
       "9547  41.009847   World Cuisine, Patisserie, Cafe  ...  Turkish Lira(TL)   \n",
       "9548  41.055817            Italian, World Cuisine  ...  Turkish Lira(TL)   \n",
       "9549  41.057979                   Restaurant Cafe  ...  Turkish Lira(TL)   \n",
       "9550  40.984776                              Cafe  ...  Turkish Lira(TL)   \n",
       "\n",
       "     Has Table booking Has Online delivery Is delivering now  \\\n",
       "0                  Yes                  No                No   \n",
       "1                  Yes                  No                No   \n",
       "2                  Yes                  No                No   \n",
       "3                   No                  No                No   \n",
       "4                  Yes                  No                No   \n",
       "...                ...                 ...               ...   \n",
       "9546                No                  No                No   \n",
       "9547                No                  No                No   \n",
       "9548                No                  No                No   \n",
       "9549                No                  No                No   \n",
       "9550                No                  No                No   \n",
       "\n",
       "     Switch to order menu Price range  Aggregate rating  Rating color  \\\n",
       "0                      No           3               4.8    Dark Green   \n",
       "1                      No           3               4.5    Dark Green   \n",
       "2                      No           4               4.4         Green   \n",
       "3                      No           4               4.9    Dark Green   \n",
       "4                      No           4               4.8    Dark Green   \n",
       "...                   ...         ...               ...           ...   \n",
       "9546                   No           3               4.1         Green   \n",
       "9547                   No           3               4.2         Green   \n",
       "9548                   No           4               3.7        Yellow   \n",
       "9549                   No           4               4.0         Green   \n",
       "9550                   No           2               4.0         Green   \n",
       "\n",
       "     Rating text Votes  \n",
       "0      Excellent   314  \n",
       "1      Excellent   591  \n",
       "2      Very Good   270  \n",
       "3      Excellent   365  \n",
       "4      Excellent   229  \n",
       "...          ...   ...  \n",
       "9546   Very Good   788  \n",
       "9547   Very Good  1034  \n",
       "9548        Good   661  \n",
       "9549   Very Good   901  \n",
       "9550   Very Good   591  \n",
       "\n",
       "[9551 rows x 21 columns]"
      ]
     },
     "execution_count": 2,
     "metadata": {},
     "output_type": "execute_result"
    }
   ],
   "source": [
    "df = pd.read_csv(r\"C:\\Users\\adity\\Downloads\\Cognifyz Internship Program\\Dataset .csv\")\n",
    "df"
   ]
  },
  {
   "cell_type": "code",
   "execution_count": 3,
   "id": "b7c2c989",
   "metadata": {},
   "outputs": [
    {
     "data": {
      "text/plain": [
       "(9551, 21)"
      ]
     },
     "execution_count": 3,
     "metadata": {},
     "output_type": "execute_result"
    }
   ],
   "source": [
    "df.shape"
   ]
  },
  {
   "cell_type": "code",
   "execution_count": 4,
   "id": "7962888e",
   "metadata": {},
   "outputs": [
    {
     "name": "stdout",
     "output_type": "stream",
     "text": [
      "<class 'pandas.core.frame.DataFrame'>\n",
      "RangeIndex: 9551 entries, 0 to 9550\n",
      "Data columns (total 21 columns):\n",
      " #   Column                Non-Null Count  Dtype  \n",
      "---  ------                --------------  -----  \n",
      " 0   Restaurant ID         9551 non-null   int64  \n",
      " 1   Restaurant Name       9551 non-null   object \n",
      " 2   Country Code          9551 non-null   int64  \n",
      " 3   City                  9551 non-null   object \n",
      " 4   Address               9551 non-null   object \n",
      " 5   Locality              9551 non-null   object \n",
      " 6   Locality Verbose      9551 non-null   object \n",
      " 7   Longitude             9551 non-null   float64\n",
      " 8   Latitude              9551 non-null   float64\n",
      " 9   Cuisines              9542 non-null   object \n",
      " 10  Average Cost for two  9551 non-null   int64  \n",
      " 11  Currency              9551 non-null   object \n",
      " 12  Has Table booking     9551 non-null   object \n",
      " 13  Has Online delivery   9551 non-null   object \n",
      " 14  Is delivering now     9551 non-null   object \n",
      " 15  Switch to order menu  9551 non-null   object \n",
      " 16  Price range           9551 non-null   int64  \n",
      " 17  Aggregate rating      9551 non-null   float64\n",
      " 18  Rating color          9551 non-null   object \n",
      " 19  Rating text           9551 non-null   object \n",
      " 20  Votes                 9551 non-null   int64  \n",
      "dtypes: float64(3), int64(5), object(13)\n",
      "memory usage: 1.5+ MB\n"
     ]
    }
   ],
   "source": [
    "df.info()"
   ]
  },
  {
   "cell_type": "code",
   "execution_count": 5,
   "id": "698e2ccb",
   "metadata": {},
   "outputs": [
    {
     "data": {
      "text/plain": [
       "Restaurant ID           0\n",
       "Restaurant Name         0\n",
       "Country Code            0\n",
       "City                    0\n",
       "Address                 0\n",
       "Locality                0\n",
       "Locality Verbose        0\n",
       "Longitude               0\n",
       "Latitude                0\n",
       "Cuisines                9\n",
       "Average Cost for two    0\n",
       "Currency                0\n",
       "Has Table booking       0\n",
       "Has Online delivery     0\n",
       "Is delivering now       0\n",
       "Switch to order menu    0\n",
       "Price range             0\n",
       "Aggregate rating        0\n",
       "Rating color            0\n",
       "Rating text             0\n",
       "Votes                   0\n",
       "dtype: int64"
      ]
     },
     "execution_count": 5,
     "metadata": {},
     "output_type": "execute_result"
    }
   ],
   "source": [
    "df.isna().sum()"
   ]
  },
  {
   "cell_type": "code",
   "execution_count": 6,
   "id": "4e82d130",
   "metadata": {},
   "outputs": [
    {
     "data": {
      "text/plain": [
       "np.int64(0)"
      ]
     },
     "execution_count": 6,
     "metadata": {},
     "output_type": "execute_result"
    }
   ],
   "source": [
    "df.duplicated().sum()"
   ]
  },
  {
   "cell_type": "markdown",
   "id": "b756ff15",
   "metadata": {},
   "source": [
    "# TASK 1: Restaurant Reviews\n",
    "# 1. Analyze the text reviews to identify the most common positive and negative keywords.\n",
    "# 2. Calculate the average length of reviews and explore if there is a relationship between review length and rating."
   ]
  },
  {
   "cell_type": "code",
   "execution_count": 7,
   "id": "a6cba009",
   "metadata": {},
   "outputs": [
    {
     "data": {
      "text/plain": [
       "Rating text\n",
       "Average      3737\n",
       "Not rated    2148\n",
       "Good         2100\n",
       "Very Good    1079\n",
       "Excellent     301\n",
       "Poor          186\n",
       "Name: count, dtype: int64"
      ]
     },
     "execution_count": 7,
     "metadata": {},
     "output_type": "execute_result"
    }
   ],
   "source": [
    "df['Rating text'].value_counts()"
   ]
  },
  {
   "cell_type": "code",
   "execution_count": 8,
   "id": "67d5e0fe",
   "metadata": {},
   "outputs": [
    {
     "data": {
      "application/vnd.microsoft.datawrangler.viewer.v0+json": {
       "columns": [
        {
         "name": "index",
         "rawType": "int64",
         "type": "integer"
        },
        {
         "name": "Restaurant ID",
         "rawType": "int64",
         "type": "integer"
        },
        {
         "name": "Restaurant Name",
         "rawType": "object",
         "type": "string"
        },
        {
         "name": "Country Code",
         "rawType": "int64",
         "type": "integer"
        },
        {
         "name": "City",
         "rawType": "object",
         "type": "string"
        },
        {
         "name": "Address",
         "rawType": "object",
         "type": "string"
        },
        {
         "name": "Locality",
         "rawType": "object",
         "type": "string"
        },
        {
         "name": "Locality Verbose",
         "rawType": "object",
         "type": "string"
        },
        {
         "name": "Longitude",
         "rawType": "float64",
         "type": "float"
        },
        {
         "name": "Latitude",
         "rawType": "float64",
         "type": "float"
        },
        {
         "name": "Cuisines",
         "rawType": "object",
         "type": "unknown"
        },
        {
         "name": "Average Cost for two",
         "rawType": "int64",
         "type": "integer"
        },
        {
         "name": "Currency",
         "rawType": "object",
         "type": "string"
        },
        {
         "name": "Has Table booking",
         "rawType": "object",
         "type": "string"
        },
        {
         "name": "Has Online delivery",
         "rawType": "object",
         "type": "string"
        },
        {
         "name": "Is delivering now",
         "rawType": "object",
         "type": "string"
        },
        {
         "name": "Switch to order menu",
         "rawType": "object",
         "type": "string"
        },
        {
         "name": "Price range",
         "rawType": "int64",
         "type": "integer"
        },
        {
         "name": "Aggregate rating",
         "rawType": "float64",
         "type": "float"
        },
        {
         "name": "Rating color",
         "rawType": "object",
         "type": "string"
        },
        {
         "name": "Rating text",
         "rawType": "object",
         "type": "string"
        },
        {
         "name": "Votes",
         "rawType": "int64",
         "type": "integer"
        }
       ],
       "conversionMethod": "pd.DataFrame",
       "ref": "9d31fdf1-69d3-4d83-bbf5-2217240da3dc",
       "rows": [
        [
         "0",
         "6317637",
         "Le Petit Souffle",
         "162",
         "Makati City",
         "Third Floor, Century City Mall, Kalayaan Avenue, Poblacion, Makati City",
         "Century City Mall, Poblacion, Makati City",
         "Century City Mall, Poblacion, Makati City, Makati City",
         "121.027535",
         "14.565443",
         "French, Japanese, Desserts",
         "1100",
         "Botswana Pula(P)",
         "Yes",
         "No",
         "No",
         "No",
         "3",
         "4.8",
         "Dark Green",
         "Excellent",
         "314"
        ],
        [
         "1",
         "6304287",
         "Izakaya Kikufuji",
         "162",
         "Makati City",
         "Little Tokyo, 2277 Chino Roces Avenue, Legaspi Village, Makati City",
         "Little Tokyo, Legaspi Village, Makati City",
         "Little Tokyo, Legaspi Village, Makati City, Makati City",
         "121.014101",
         "14.553708",
         "Japanese",
         "1200",
         "Botswana Pula(P)",
         "Yes",
         "No",
         "No",
         "No",
         "3",
         "4.5",
         "Dark Green",
         "Excellent",
         "591"
        ],
        [
         "2",
         "6300002",
         "Heat - Edsa Shangri-La",
         "162",
         "Mandaluyong City",
         "Edsa Shangri-La, 1 Garden Way, Ortigas, Mandaluyong City",
         "Edsa Shangri-La, Ortigas, Mandaluyong City",
         "Edsa Shangri-La, Ortigas, Mandaluyong City, Mandaluyong City",
         "121.056831",
         "14.581404",
         "Seafood, Asian, Filipino, Indian",
         "4000",
         "Botswana Pula(P)",
         "Yes",
         "No",
         "No",
         "No",
         "4",
         "4.4",
         "Green",
         "Very Good",
         "270"
        ],
        [
         "3",
         "6318506",
         "Ooma",
         "162",
         "Mandaluyong City",
         "Third Floor, Mega Fashion Hall, SM Megamall, Ortigas, Mandaluyong City",
         "SM Megamall, Ortigas, Mandaluyong City",
         "SM Megamall, Ortigas, Mandaluyong City, Mandaluyong City",
         "121.056475",
         "14.585318",
         "Japanese, Sushi",
         "1500",
         "Botswana Pula(P)",
         "No",
         "No",
         "No",
         "No",
         "4",
         "4.9",
         "Dark Green",
         "Excellent",
         "365"
        ],
        [
         "4",
         "6314302",
         "Sambo Kojin",
         "162",
         "Mandaluyong City",
         "Third Floor, Mega Atrium, SM Megamall, Ortigas, Mandaluyong City",
         "SM Megamall, Ortigas, Mandaluyong City",
         "SM Megamall, Ortigas, Mandaluyong City, Mandaluyong City",
         "121.057508",
         "14.58445",
         "Japanese, Korean",
         "1500",
         "Botswana Pula(P)",
         "Yes",
         "No",
         "No",
         "No",
         "4",
         "4.8",
         "Dark Green",
         "Excellent",
         "229"
        ],
        [
         "5",
         "18189371",
         "Din Tai Fung",
         "162",
         "Mandaluyong City",
         "Ground Floor, Mega Fashion Hall, SM Megamall, Ortigas, Mandaluyong City",
         "SM Megamall, Ortigas, Mandaluyong City",
         "SM Megamall, Ortigas, Mandaluyong City, Mandaluyong City",
         "121.056314",
         "14.583764",
         "Chinese",
         "1000",
         "Botswana Pula(P)",
         "No",
         "No",
         "No",
         "No",
         "3",
         "4.4",
         "Green",
         "Very Good",
         "336"
        ],
        [
         "6",
         "6300781",
         "Buffet 101",
         "162",
         "Pasay City",
         "Building K, SM By The Bay, Sunset Boulevard, Mall of Asia Complex (MOA), Pasay City",
         "SM by the Bay, Mall of Asia Complex, Pasay City",
         "SM by the Bay, Mall of Asia Complex, Pasay City, Pasay City",
         "120.9796667",
         "14.53133333",
         "Asian, European",
         "2000",
         "Botswana Pula(P)",
         "Yes",
         "No",
         "No",
         "No",
         "4",
         "4.0",
         "Green",
         "Very Good",
         "520"
        ],
        [
         "7",
         "6301290",
         "Vikings",
         "162",
         "Pasay City",
         "Building B, By The Bay, Seaside Boulevard, Mall of Asia Complex (MOA), Pasay City",
         "SM by the Bay, Mall of Asia Complex, Pasay City",
         "SM by the Bay, Mall of Asia Complex, Pasay City, Pasay City",
         "120.9793333",
         "14.54",
         "Seafood, Filipino, Asian, European",
         "2000",
         "Botswana Pula(P)",
         "Yes",
         "No",
         "No",
         "No",
         "4",
         "4.2",
         "Green",
         "Very Good",
         "677"
        ],
        [
         "8",
         "6300010",
         "Spiral - Sofitel Philippine Plaza Manila",
         "162",
         "Pasay City",
         "Plaza Level, Sofitel Philippine Plaza Manila, CCP Complex, Pasay City",
         "Sofitel Philippine Plaza Manila, Pasay City",
         "Sofitel Philippine Plaza Manila, Pasay City, Pasay City",
         "120.98009",
         "14.55299",
         "European, Asian, Indian",
         "6000",
         "Botswana Pula(P)",
         "Yes",
         "No",
         "No",
         "No",
         "4",
         "4.9",
         "Dark Green",
         "Excellent",
         "621"
        ],
        [
         "9",
         "6314987",
         "Locavore",
         "162",
         "Pasig City",
         "Brixton Technology Center, 10 Brixton Street, Kapitolyo, Pasig City",
         "Kapitolyo",
         "Kapitolyo, Pasig City",
         "121.056532",
         "14.572041",
         "Filipino",
         "1100",
         "Botswana Pula(P)",
         "Yes",
         "No",
         "No",
         "No",
         "3",
         "4.8",
         "Dark Green",
         "Excellent",
         "532"
        ],
        [
         "10",
         "6309903",
         "Silantro Fil-Mex",
         "162",
         "Pasig City",
         "75 East Capitol Drive, Kapitolyo, Pasig City",
         "Kapitolyo",
         "Kapitolyo, Pasig City",
         "121.057916",
         "14.567689",
         "Filipino, Mexican",
         "800",
         "Botswana Pula(P)",
         "No",
         "No",
         "No",
         "No",
         "3",
         "4.9",
         "Dark Green",
         "Excellent",
         "1070"
        ],
        [
         "11",
         "6309455",
         "Mad Mark's Creamery & Good Eats",
         "162",
         "Pasig City",
         "23 East Capitol Drive, Kapitolyo, Pasig City",
         "Kapitolyo",
         "Kapitolyo, Pasig City",
         "121.06082",
         "14.570849",
         "American, Ice Cream, Desserts",
         "900",
         "Botswana Pula(P)",
         "Yes",
         "No",
         "No",
         "No",
         "3",
         "4.2",
         "Green",
         "Very Good",
         "488"
        ],
        [
         "12",
         "6318433",
         "Silantro Fil-Mex",
         "162",
         "Quezon City",
         "Second Floor, UP Town Center, Katipunan Avenue, Diliman, Quezon City",
         "UP Town Center, Diliman, Quezon City",
         "UP Town Center, Diliman, Quezon City, Quezon City",
         "121.075419",
         "14.649503",
         "Filipino, Mexican",
         "800",
         "Botswana Pula(P)",
         "No",
         "No",
         "No",
         "No",
         "3",
         "4.8",
         "Dark Green",
         "Excellent",
         "294"
        ],
        [
         "13",
         "6310470",
         "Guevarra's",
         "162",
         "San Juan City",
         "387 P. Guevarra Corner Argonne Street, Addition Hills, San Juan City",
         "Addition Hills",
         "Addition Hills, San Juan City",
         "121.0335917",
         "14.59345",
         "Filipino",
         "1000",
         "Botswana Pula(P)",
         "Yes",
         "No",
         "No",
         "No",
         "3",
         "4.2",
         "Green",
         "Very Good",
         "458"
        ],
        [
         "14",
         "6314605",
         "Sodam Korean Restaurant",
         "162",
         "San Juan City",
         "17 J. Abad Santos Drive, Little Baguio, San Juan City",
         "Little Baguio",
         "Little Baguio, San Juan City",
         "121.03811",
         "14.59889",
         "Korean",
         "700",
         "Botswana Pula(P)",
         "No",
         "No",
         "No",
         "No",
         "3",
         "4.3",
         "Green",
         "Very Good",
         "223"
        ],
        [
         "15",
         "18185059",
         "Cafe Arabelle",
         "162",
         "Santa Rosa",
         "Ayala Mall, Solenad, Nuvali, Santa Rosa - Tagaytay Road, Don Jose, Santa Rosa",
         "Nuvali, Don Jose, Santa Rosa",
         "Nuvali, Don Jose, Santa Rosa, Santa Rosa",
         "121.05704",
         "14.237082",
         "Cafe, American, Italian, Filipino",
         "800",
         "Botswana Pula(P)",
         "No",
         "No",
         "No",
         "No",
         "3",
         "3.6",
         "Yellow",
         "Good",
         "29"
        ],
        [
         "16",
         "18182702",
         "Nonna's Pasta & Pizzeria",
         "162",
         "Santa Rosa",
         "Ground Floor, Building G, Solenad 3, Nuvali, Don Jose, Santa Rosa",
         "Solenad 3, Don Jose, Santa Rosa",
         "Solenad 3, Don Jose, Santa Rosa, Santa Rosa",
         "121.0565874",
         "14.23767897",
         "Italian, Pizza",
         "850",
         "Botswana Pula(P)",
         "No",
         "No",
         "No",
         "No",
         "3",
         "4.0",
         "Green",
         "Very Good",
         "72"
        ],
        [
         "17",
         "6318213",
         "Balay Dako",
         "162",
         "Tagaytay City",
         "Aguinaldo Highway, Tagaytay City",
         "Tagaytay City",
         "Tagaytay City, Tagaytay City",
         "120.951589",
         "14.101834",
         "Filipino",
         "1200",
         "Botswana Pula(P)",
         "Yes",
         "No",
         "No",
         "No",
         "3",
         "4.5",
         "Dark Green",
         "Excellent",
         "211"
        ],
        [
         "18",
         "18255654",
         "Hobing Korean Dessert Cafe",
         "162",
         "Taguig City",
         "Third Floor, BGC Stopover Pavillion, Rizal Drive Corner 31st Street, Bonifacio Global City, Taguig City",
         "BGC Stopover Pavillion, Bonifacio Global City",
         "BGC Stopover Pavillion, Bonifacio Global City, Taguig City",
         "121.045878",
         "14.55436",
         "Cafe, Korean, Desserts",
         "600",
         "Botswana Pula(P)",
         "No",
         "No",
         "No",
         "No",
         "2",
         "4.5",
         "Dark Green",
         "Excellent",
         "118"
        ],
        [
         "19",
         "6308205",
         "Wildflour Cafe + Bakery",
         "162",
         "Taguig City",
         "Ground Floor, Netlima Building, 4th Avenue Corner 26th Street, Bonifacio Global City, Taguig City",
         "Bonifacio Global City",
         "Bonifacio Global City, Taguig City",
         "121.04622",
         "14.549337",
         "Cafe, Bakery, American, Italian",
         "1500",
         "Botswana Pula(P)",
         "Yes",
         "No",
         "No",
         "No",
         "4",
         "4.4",
         "Green",
         "Very Good",
         "392"
        ],
        [
         "20",
         "6315438",
         "NIU by Vikings",
         "162",
         "Taguig City",
         "Sixth Floor, SM Aura Premier, C5 Road Corner 26th Street, Bonifacio Global City, Taguig City",
         "SM Aura Premier, Bonifacio Global City, Taguig City",
         "SM Aura Premier, Bonifacio Global City, Taguig City, Taguig City",
         "121.053725",
         "14.545858",
         "Seafood, American, Mediterranean, Japanese",
         "3000",
         "Botswana Pula(P)",
         "Yes",
         "No",
         "No",
         "No",
         "4",
         "4.7",
         "Dark Green",
         "Excellent",
         "535"
        ],
        [
         "21",
         "6310406",
         "The Food Hall by Todd English",
         "162",
         "Taguig City",
         "Fifth Floor, SM Aura Premier, C5 Corner 26th Street, Bonifacio Global City, Taguig City",
         "SM Aura Premier, Bonifacio Global City, Taguig City",
         "SM Aura Premier, Bonifacio Global City, Taguig City, Taguig City",
         "121.0534998",
         "14.54565535",
         "American, Asian, Italian, Seafood",
         "1800",
         "Botswana Pula(P)",
         "Yes",
         "No",
         "No",
         "No",
         "4",
         "4.5",
         "Dark Green",
         "Excellent",
         "618"
        ],
        [
         "23",
         "6601005",
         "Caf�� Daniel Briand",
         "30",
         "Bras�_lia",
         "SCLN 104, Bloco A, Loja 26, Asa Norte, Bras�_lia",
         "Asa Norte",
         "Asa Norte, Bras�_lia",
         "-47.88266667",
         "-15.7775",
         "Cafe",
         "30",
         "Brazilian Real(R$)",
         "No",
         "No",
         "No",
         "No",
         "1",
         "3.8",
         "Yellow",
         "Good",
         "9"
        ],
        [
         "24",
         "6600292",
         "Casa do Biscoito Mineiro",
         "30",
         "Bras�_lia",
         "SCLN 210, Bloco D, Loja 36/48, Asa Norte, Bras�_lia",
         "Asa Norte",
         "Asa Norte, Bras�_lia",
         "-47.88213611",
         "-15.75747222",
         "Bakery",
         "45",
         "Brazilian Real(R$)",
         "No",
         "No",
         "No",
         "No",
         "2",
         "3.7",
         "Yellow",
         "Good",
         "11"
        ],
        [
         "25",
         "6600441",
         "Maori",
         "30",
         "Bras�_lia",
         "CLN 110, Bloco D, Loja 28, Asa Norte, Bras�_lia",
         "Asa Norte",
         "Asa Norte, Bras�_lia",
         "-47.88816667",
         "-15.75883333",
         "Brazilian",
         "60",
         "Brazilian Real(R$)",
         "No",
         "No",
         "No",
         "No",
         "3",
         "3.8",
         "Yellow",
         "Good",
         "11"
        ],
        [
         "28",
         "6600214",
         "Beirute",
         "30",
         "Bras�_lia",
         "CLS 109, Bloco A, Loja 2/6, Asa Sul, Bras�_lia",
         "Asa Sul",
         "Asa Sul, Bras�_lia",
         "-47.9075",
         "-15.82",
         "Arabian",
         "90",
         "Brazilian Real(R$)",
         "No",
         "No",
         "No",
         "No",
         "3",
         "3.7",
         "Yellow",
         "Good",
         "8"
        ],
        [
         "29",
         "6601218",
         "New Koto",
         "30",
         "Bras�_lia",
         "SCS 212, Bloco B, Loja 26, Asa Sul, Bras�_lia",
         "Asa Sul",
         "Asa Sul, Bras�_lia",
         "-47.91016667",
         "-15.82733333",
         "Japanese",
         "200",
         "Brazilian Real(R$)",
         "No",
         "No",
         "No",
         "No",
         "4",
         "3.7",
         "Yellow",
         "Good",
         "5"
        ],
        [
         "31",
         "6600083",
         "Villa Tevere",
         "30",
         "Bras�_lia",
         "CLS 115, Bloco A, Loja 2, Asa Sul, Bras�_lia",
         "Asa Sul",
         "Asa Sul, Bras�_lia",
         "-47.92366667",
         "-15.83133333",
         "Italian",
         "150",
         "Brazilian Real(R$)",
         "No",
         "No",
         "No",
         "No",
         "4",
         "4.1",
         "Green",
         "Very Good",
         "12"
        ],
        [
         "33",
         "6601361",
         "Buena Carne",
         "30",
         "Bras�_lia",
         "Avenida Arauc��rias, 1325, Loja 19, �guas Claras, Bras�_lia",
         "�guas Claras",
         "�guas Claras, Bras�_lia",
         "-48.01909167",
         "-15.839775",
         "Bar Food, Brazilian",
         "60",
         "Brazilian Real(R$)",
         "No",
         "No",
         "No",
         "No",
         "3",
         "3.6",
         "Yellow",
         "Good",
         "9"
        ],
        [
         "34",
         "6601602",
         "Taco Pep",
         "30",
         "Bras�_lia",
         "Vila Malls, Avenida das Castanheiras, Lote 1060, �guas Claras, Bras�_lia",
         "�guas Claras",
         "�guas Claras, Bras�_lia",
         "-48.01666667",
         "-15.83483333",
         "Mexican, Grill",
         "100",
         "Brazilian Real(R$)",
         "No",
         "No",
         "No",
         "No",
         "4",
         "4.3",
         "Green",
         "Very Good",
         "29"
        ],
        [
         "35",
         "6601589",
         "Coco Bambu",
         "30",
         "Bras�_lia",
         "Bras�_lia Shopping - Piso 2, SCN 5, Bloco A, Asa Norte, Bras�_lia",
         "Bras�_lia Shopping, Asa Norte",
         "Bras�_lia Shopping, Asa Norte, Bras�_lia",
         "-47.889",
         "-15.7865",
         "International",
         "230",
         "Brazilian Real(R$)",
         "No",
         "No",
         "No",
         "No",
         "4",
         "4.2",
         "Green",
         "Very Good",
         "17"
        ],
        [
         "36",
         "6601862",
         "Tayp��",
         "30",
         "Bras�_lia",
         "Fashion Park, Shis Ql 17, Bloco G, Loja 208, Lago Sul, Bras�_lia",
         "Lago Sul",
         "Lago Sul, Bras�_lia",
         "-47.872359",
         "-15.860621",
         "Peruvian, Latin American",
         "100",
         "Brazilian Real(R$)",
         "No",
         "No",
         "No",
         "No",
         "4",
         "3.6",
         "Yellow",
         "Good",
         "5"
        ],
        [
         "37",
         "6601595",
         "Outback Steakhouse",
         "30",
         "Bras�_lia",
         "ParkShopping - Piso 2, SAI/SO, �rea 6580, Guar�� I, Bras�_lia",
         "ParkShopping, Guar�� I",
         "ParkShopping, Guar�� I, Bras�_lia",
         "-47.95628333",
         "-15.83451389",
         "American, Grill",
         "150",
         "Brazilian Real(R$)",
         "No",
         "No",
         "No",
         "No",
         "4",
         "4.0",
         "Green",
         "Very Good",
         "10"
        ],
        [
         "39",
         "6600427",
         "Coco Bambu",
         "30",
         "Bras�_lia",
         "SCES, Trecho 2, Conjunto 13/36, Setor de Clubes Esportivos Sul, Bras�_lia",
         "Setor De Clubes Esportivos Sul",
         "Setor De Clubes Esportivos Sul, Bras�_lia",
         "-47.8685",
         "-15.819",
         "International",
         "230",
         "Brazilian Real(R$)",
         "No",
         "No",
         "No",
         "No",
         "4",
         "4.9",
         "Dark Green",
         "Excellent",
         "30"
        ],
        [
         "41",
         "6601457",
         "Brazilian American Burgers",
         "30",
         "Bras�_lia",
         "CLSN 301, Bloco C, Loja 86, Sudoeste, Bras�_lia",
         "Sudoeste",
         "Sudoeste, Bras�_lia",
         "-47.92102778",
         "-15.79753056",
         "American, Burger",
         "50",
         "Brazilian Real(R$)",
         "No",
         "No",
         "No",
         "No",
         "2",
         "3.6",
         "Yellow",
         "Good",
         "9"
        ],
        [
         "42",
         "7303219",
         "Pesqueiro Eco Gourmet",
         "30",
         "Rio de Janeiro",
         "Praia da Barra da Tijuca, Avenida L�_cio Costa, Ilha 25, Barra da Tijuca, Rio de Janeiro",
         "Barra da Tijuca",
         "Barra da Tijuca, Rio de Janeiro",
         "-43.377",
         "-23.0115",
         "Seafood, Bar Food, Brazilian",
         "140",
         "Brazilian Real(R$)",
         "No",
         "No",
         "No",
         "No",
         "4",
         "4.0",
         "Green",
         "Very Good",
         "7"
        ],
        [
         "43",
         "7304307",
         "Confeitaria Colombo",
         "30",
         "Rio de Janeiro",
         "Rua Gon�_alves Dias, 32, Centro, Rio de Janeiro",
         "Centro",
         "Centro, Rio de Janeiro",
         "-43.178826",
         "-22.905293",
         "Desserts, Cafe",
         "100",
         "Brazilian Real(R$)",
         "No",
         "No",
         "No",
         "No",
         "4",
         "4.8",
         "Dark Green",
         "Excellent",
         "29"
        ],
        [
         "44",
         "7301215",
         "Bibi",
         "30",
         "Rio de Janeiro",
         "Rua Santa Clara, 36, Copabana, Rio de Janeiro",
         "Copacabana",
         "Copacabana, Rio de Janeiro",
         "-43.18669167",
         "-22.97207222",
         "Juices, Healthy Food",
         "60",
         "Brazilian Real(R$)",
         "No",
         "No",
         "No",
         "No",
         "3",
         "4.7",
         "Dark Green",
         "Excellent",
         "24"
        ],
        [
         "45",
         "7300596",
         "Cervantes",
         "30",
         "Rio de Janeiro",
         "Avenida Prado Junior, 335 B, Copacabana, Rio de Janeiro",
         "Copacabana",
         "Copacabana, Rio de Janeiro",
         "-43.17583333",
         "-22.96216667",
         "Beverages, Bar Food, Fast Food",
         "90",
         "Brazilian Real(R$)",
         "No",
         "No",
         "No",
         "No",
         "3",
         "4.5",
         "Dark Green",
         "Excellent",
         "29"
        ],
        [
         "46",
         "7300612",
         "Amir",
         "30",
         "Rio de Janeiro",
         "Rua Ronald de Carvalho, 55, Copacabana, Rio de Janeiro",
         "Copacabana",
         "Copacabana, Rio de Janeiro",
         "-43.176",
         "-22.96516667",
         "Lebanese",
         "170",
         "Brazilian Real(R$)",
         "No",
         "No",
         "No",
         "No",
         "4",
         "4.2",
         "Green",
         "Very Good",
         "11"
        ],
        [
         "47",
         "7300704",
         "TT Burger",
         "30",
         "Rio de Janeiro",
         "Galeria River, Rua Francisco Otaviano, 67, Copacabana, Rio de Janeiro",
         "Galeria River, Copacabana",
         "Galeria River, Copacabana, Rio de Janeiro",
         "-43.191",
         "-22.98683333",
         "Burger",
         "60",
         "Brazilian Real(R$)",
         "No",
         "No",
         "No",
         "No",
         "3",
         "4.8",
         "Dark Green",
         "Excellent",
         "19"
        ],
        [
         "48",
         "7300955",
         "Braseiro da G��vea",
         "30",
         "Rio de Janeiro",
         "Pra�_a Santos Dumont, 116, G��vea, Rio de Janeiro",
         "G��vea",
         "G��vea, Rio de Janeiro",
         "-43.227042",
         "-22.973507",
         "Brazilian, Bar Food",
         "100",
         "Brazilian Real(R$)",
         "No",
         "No",
         "No",
         "No",
         "4",
         "4.9",
         "Dark Green",
         "Excellent",
         "40"
        ],
        [
         "49",
         "7300521",
         "Balada Mix",
         "30",
         "Rio de Janeiro",
         "Rua An�_bal de Mendon�_a, 37, Ipanema, Rio de Janeiro",
         "Ipanema",
         "Ipanema, Rio de Janeiro",
         "-43.211425",
         "-22.98520833",
         "Brazilian, Healthy Food, Juices, Pizza",
         "90",
         "Brazilian Real(R$)",
         "No",
         "No",
         "No",
         "No",
         "3",
         "4.6",
         "Dark Green",
         "Excellent",
         "21"
        ],
        [
         "50",
         "7300515",
         "Garota de Ipanema",
         "30",
         "Rio de Janeiro",
         "Rua Vinicius de Moraes, 49, Ipanema, Rio de Janeiro",
         "Ipanema",
         "Ipanema, Rio de Janeiro",
         "-43.203",
         "-22.98533333",
         "Brazilian, Bar Food",
         "120",
         "Brazilian Real(R$)",
         "No",
         "No",
         "No",
         "No",
         "4",
         "4.9",
         "Dark Green",
         "Excellent",
         "49"
        ],
        [
         "51",
         "7300483",
         "Zaz�� Bistr�� Tropical",
         "30",
         "Rio de Janeiro",
         "Rua Joana Ang��lica, 40, Ipanema, Rio de Janeiro",
         "Ipanema",
         "Ipanema, Rio de Janeiro",
         "-43.20520833",
         "-22.98531944",
         "Brazilian",
         "170",
         "Brazilian Real(R$)",
         "No",
         "No",
         "No",
         "No",
         "4",
         "4.6",
         "Dark Green",
         "Excellent",
         "21"
        ],
        [
         "52",
         "7301064",
         "Fil�� de Ouro",
         "30",
         "Rio de Janeiro",
         "Rua Jardim Bot��nico, 731, Jardim Bot��nico, Lagoa, Rio de Janeiro",
         "Lagoa",
         "Lagoa, Rio de Janeiro",
         "-43.219563",
         "-22.966647",
         "Brazilian",
         "90",
         "Brazilian Real(R$)",
         "No",
         "No",
         "No",
         "No",
         "3",
         "4.3",
         "Green",
         "Very Good",
         "14"
        ],
        [
         "53",
         "7304312",
         "D.O.C Ristorante",
         "30",
         "Rio de Janeiro",
         "Le Monde, Bloco 3, Lojas A/B, Avenida das Am��ricas, 3500, Barra da Tijuca, Rio de Janeiro",
         "Le Monde, Barra da Tijuca",
         "Le Monde, Barra da Tijuca, Rio de Janeiro",
         "-43.34879167",
         "-22.99991111",
         "Italian",
         "150",
         "Brazilian Real(R$)",
         "No",
         "No",
         "No",
         "No",
         "4",
         "4.0",
         "Green",
         "Very Good",
         "5"
        ],
        [
         "54",
         "7300004",
         "Sushi Leblon",
         "30",
         "Rio de Janeiro",
         "Rua Dias Ferreira, 256, Leblon, Rio de Janeiro",
         "Leblon",
         "Leblon, Rio de Janeiro",
         "-43.227",
         "-22.98416667",
         "Japanese",
         "250",
         "Brazilian Real(R$)",
         "No",
         "No",
         "No",
         "No",
         "4",
         "4.6",
         "Dark Green",
         "Excellent",
         "25"
        ],
        [
         "55",
         "7300868",
         "Talho Capixaba",
         "30",
         "Rio de Janeiro",
         "Avenida Ataulfo de Paiva, 1022, Lojas A e B, Leblon, Rio de Janeiro",
         "Leblon",
         "Leblon, Rio de Janeiro",
         "-43.22566667",
         "-22.98516667",
         "Bakery, Sandwich, Brazilian",
         "120",
         "Brazilian Real(R$)",
         "No",
         "No",
         "No",
         "No",
         "4",
         "4.4",
         "Green",
         "Very Good",
         "13"
        ],
        [
         "56",
         "7302637",
         "Leme Light",
         "30",
         "Rio de Janeiro",
         "Rua Gustavo Sampaio, 798, Leme, Rio de Janeiro",
         "Leme",
         "Leme, Rio de Janeiro",
         "-43.17279167",
         "-22.963925",
         "Brazilian",
         "40",
         "Brazilian Real(R$)",
         "No",
         "No",
         "No",
         "No",
         "2",
         "4.2",
         "Green",
         "Very Good",
         "7"
        ]
       ],
       "shape": {
        "columns": 21,
        "rows": 3480
       }
      },
      "text/html": [
       "<div>\n",
       "<style scoped>\n",
       "    .dataframe tbody tr th:only-of-type {\n",
       "        vertical-align: middle;\n",
       "    }\n",
       "\n",
       "    .dataframe tbody tr th {\n",
       "        vertical-align: top;\n",
       "    }\n",
       "\n",
       "    .dataframe thead th {\n",
       "        text-align: right;\n",
       "    }\n",
       "</style>\n",
       "<table border=\"1\" class=\"dataframe\">\n",
       "  <thead>\n",
       "    <tr style=\"text-align: right;\">\n",
       "      <th></th>\n",
       "      <th>Restaurant ID</th>\n",
       "      <th>Restaurant Name</th>\n",
       "      <th>Country Code</th>\n",
       "      <th>City</th>\n",
       "      <th>Address</th>\n",
       "      <th>Locality</th>\n",
       "      <th>Locality Verbose</th>\n",
       "      <th>Longitude</th>\n",
       "      <th>Latitude</th>\n",
       "      <th>Cuisines</th>\n",
       "      <th>...</th>\n",
       "      <th>Currency</th>\n",
       "      <th>Has Table booking</th>\n",
       "      <th>Has Online delivery</th>\n",
       "      <th>Is delivering now</th>\n",
       "      <th>Switch to order menu</th>\n",
       "      <th>Price range</th>\n",
       "      <th>Aggregate rating</th>\n",
       "      <th>Rating color</th>\n",
       "      <th>Rating text</th>\n",
       "      <th>Votes</th>\n",
       "    </tr>\n",
       "  </thead>\n",
       "  <tbody>\n",
       "    <tr>\n",
       "      <th>0</th>\n",
       "      <td>6317637</td>\n",
       "      <td>Le Petit Souffle</td>\n",
       "      <td>162</td>\n",
       "      <td>Makati City</td>\n",
       "      <td>Third Floor, Century City Mall, Kalayaan Avenu...</td>\n",
       "      <td>Century City Mall, Poblacion, Makati City</td>\n",
       "      <td>Century City Mall, Poblacion, Makati City, Mak...</td>\n",
       "      <td>121.027535</td>\n",
       "      <td>14.565443</td>\n",
       "      <td>French, Japanese, Desserts</td>\n",
       "      <td>...</td>\n",
       "      <td>Botswana Pula(P)</td>\n",
       "      <td>Yes</td>\n",
       "      <td>No</td>\n",
       "      <td>No</td>\n",
       "      <td>No</td>\n",
       "      <td>3</td>\n",
       "      <td>4.8</td>\n",
       "      <td>Dark Green</td>\n",
       "      <td>Excellent</td>\n",
       "      <td>314</td>\n",
       "    </tr>\n",
       "    <tr>\n",
       "      <th>1</th>\n",
       "      <td>6304287</td>\n",
       "      <td>Izakaya Kikufuji</td>\n",
       "      <td>162</td>\n",
       "      <td>Makati City</td>\n",
       "      <td>Little Tokyo, 2277 Chino Roces Avenue, Legaspi...</td>\n",
       "      <td>Little Tokyo, Legaspi Village, Makati City</td>\n",
       "      <td>Little Tokyo, Legaspi Village, Makati City, Ma...</td>\n",
       "      <td>121.014101</td>\n",
       "      <td>14.553708</td>\n",
       "      <td>Japanese</td>\n",
       "      <td>...</td>\n",
       "      <td>Botswana Pula(P)</td>\n",
       "      <td>Yes</td>\n",
       "      <td>No</td>\n",
       "      <td>No</td>\n",
       "      <td>No</td>\n",
       "      <td>3</td>\n",
       "      <td>4.5</td>\n",
       "      <td>Dark Green</td>\n",
       "      <td>Excellent</td>\n",
       "      <td>591</td>\n",
       "    </tr>\n",
       "    <tr>\n",
       "      <th>2</th>\n",
       "      <td>6300002</td>\n",
       "      <td>Heat - Edsa Shangri-La</td>\n",
       "      <td>162</td>\n",
       "      <td>Mandaluyong City</td>\n",
       "      <td>Edsa Shangri-La, 1 Garden Way, Ortigas, Mandal...</td>\n",
       "      <td>Edsa Shangri-La, Ortigas, Mandaluyong City</td>\n",
       "      <td>Edsa Shangri-La, Ortigas, Mandaluyong City, Ma...</td>\n",
       "      <td>121.056831</td>\n",
       "      <td>14.581404</td>\n",
       "      <td>Seafood, Asian, Filipino, Indian</td>\n",
       "      <td>...</td>\n",
       "      <td>Botswana Pula(P)</td>\n",
       "      <td>Yes</td>\n",
       "      <td>No</td>\n",
       "      <td>No</td>\n",
       "      <td>No</td>\n",
       "      <td>4</td>\n",
       "      <td>4.4</td>\n",
       "      <td>Green</td>\n",
       "      <td>Very Good</td>\n",
       "      <td>270</td>\n",
       "    </tr>\n",
       "    <tr>\n",
       "      <th>3</th>\n",
       "      <td>6318506</td>\n",
       "      <td>Ooma</td>\n",
       "      <td>162</td>\n",
       "      <td>Mandaluyong City</td>\n",
       "      <td>Third Floor, Mega Fashion Hall, SM Megamall, O...</td>\n",
       "      <td>SM Megamall, Ortigas, Mandaluyong City</td>\n",
       "      <td>SM Megamall, Ortigas, Mandaluyong City, Mandal...</td>\n",
       "      <td>121.056475</td>\n",
       "      <td>14.585318</td>\n",
       "      <td>Japanese, Sushi</td>\n",
       "      <td>...</td>\n",
       "      <td>Botswana Pula(P)</td>\n",
       "      <td>No</td>\n",
       "      <td>No</td>\n",
       "      <td>No</td>\n",
       "      <td>No</td>\n",
       "      <td>4</td>\n",
       "      <td>4.9</td>\n",
       "      <td>Dark Green</td>\n",
       "      <td>Excellent</td>\n",
       "      <td>365</td>\n",
       "    </tr>\n",
       "    <tr>\n",
       "      <th>4</th>\n",
       "      <td>6314302</td>\n",
       "      <td>Sambo Kojin</td>\n",
       "      <td>162</td>\n",
       "      <td>Mandaluyong City</td>\n",
       "      <td>Third Floor, Mega Atrium, SM Megamall, Ortigas...</td>\n",
       "      <td>SM Megamall, Ortigas, Mandaluyong City</td>\n",
       "      <td>SM Megamall, Ortigas, Mandaluyong City, Mandal...</td>\n",
       "      <td>121.057508</td>\n",
       "      <td>14.584450</td>\n",
       "      <td>Japanese, Korean</td>\n",
       "      <td>...</td>\n",
       "      <td>Botswana Pula(P)</td>\n",
       "      <td>Yes</td>\n",
       "      <td>No</td>\n",
       "      <td>No</td>\n",
       "      <td>No</td>\n",
       "      <td>4</td>\n",
       "      <td>4.8</td>\n",
       "      <td>Dark Green</td>\n",
       "      <td>Excellent</td>\n",
       "      <td>229</td>\n",
       "    </tr>\n",
       "    <tr>\n",
       "      <th>...</th>\n",
       "      <td>...</td>\n",
       "      <td>...</td>\n",
       "      <td>...</td>\n",
       "      <td>...</td>\n",
       "      <td>...</td>\n",
       "      <td>...</td>\n",
       "      <td>...</td>\n",
       "      <td>...</td>\n",
       "      <td>...</td>\n",
       "      <td>...</td>\n",
       "      <td>...</td>\n",
       "      <td>...</td>\n",
       "      <td>...</td>\n",
       "      <td>...</td>\n",
       "      <td>...</td>\n",
       "      <td>...</td>\n",
       "      <td>...</td>\n",
       "      <td>...</td>\n",
       "      <td>...</td>\n",
       "      <td>...</td>\n",
       "      <td>...</td>\n",
       "    </tr>\n",
       "    <tr>\n",
       "      <th>9546</th>\n",
       "      <td>5915730</td>\n",
       "      <td>Naml۱ Gurme</td>\n",
       "      <td>208</td>\n",
       "      <td>��stanbul</td>\n",
       "      <td>Kemanke�� Karamustafa Pa��a Mahallesi, R۱ht۱m ...</td>\n",
       "      <td>Karak�_y</td>\n",
       "      <td>Karak�_y, ��stanbul</td>\n",
       "      <td>28.977392</td>\n",
       "      <td>41.022793</td>\n",
       "      <td>Turkish</td>\n",
       "      <td>...</td>\n",
       "      <td>Turkish Lira(TL)</td>\n",
       "      <td>No</td>\n",
       "      <td>No</td>\n",
       "      <td>No</td>\n",
       "      <td>No</td>\n",
       "      <td>3</td>\n",
       "      <td>4.1</td>\n",
       "      <td>Green</td>\n",
       "      <td>Very Good</td>\n",
       "      <td>788</td>\n",
       "    </tr>\n",
       "    <tr>\n",
       "      <th>9547</th>\n",
       "      <td>5908749</td>\n",
       "      <td>Ceviz A��ac۱</td>\n",
       "      <td>208</td>\n",
       "      <td>��stanbul</td>\n",
       "      <td>Ko��uyolu Mahallesi, Muhittin ��st�_nda�� Cadd...</td>\n",
       "      <td>Ko��uyolu</td>\n",
       "      <td>Ko��uyolu, ��stanbul</td>\n",
       "      <td>29.041297</td>\n",
       "      <td>41.009847</td>\n",
       "      <td>World Cuisine, Patisserie, Cafe</td>\n",
       "      <td>...</td>\n",
       "      <td>Turkish Lira(TL)</td>\n",
       "      <td>No</td>\n",
       "      <td>No</td>\n",
       "      <td>No</td>\n",
       "      <td>No</td>\n",
       "      <td>3</td>\n",
       "      <td>4.2</td>\n",
       "      <td>Green</td>\n",
       "      <td>Very Good</td>\n",
       "      <td>1034</td>\n",
       "    </tr>\n",
       "    <tr>\n",
       "      <th>9548</th>\n",
       "      <td>5915807</td>\n",
       "      <td>Huqqa</td>\n",
       "      <td>208</td>\n",
       "      <td>��stanbul</td>\n",
       "      <td>Kuru�_e��me Mahallesi, Muallim Naci Caddesi, N...</td>\n",
       "      <td>Kuru�_e��me</td>\n",
       "      <td>Kuru�_e��me, ��stanbul</td>\n",
       "      <td>29.034640</td>\n",
       "      <td>41.055817</td>\n",
       "      <td>Italian, World Cuisine</td>\n",
       "      <td>...</td>\n",
       "      <td>Turkish Lira(TL)</td>\n",
       "      <td>No</td>\n",
       "      <td>No</td>\n",
       "      <td>No</td>\n",
       "      <td>No</td>\n",
       "      <td>4</td>\n",
       "      <td>3.7</td>\n",
       "      <td>Yellow</td>\n",
       "      <td>Good</td>\n",
       "      <td>661</td>\n",
       "    </tr>\n",
       "    <tr>\n",
       "      <th>9549</th>\n",
       "      <td>5916112</td>\n",
       "      <td>A���k Kahve</td>\n",
       "      <td>208</td>\n",
       "      <td>��stanbul</td>\n",
       "      <td>Kuru�_e��me Mahallesi, Muallim Naci Caddesi, N...</td>\n",
       "      <td>Kuru�_e��me</td>\n",
       "      <td>Kuru�_e��me, ��stanbul</td>\n",
       "      <td>29.036019</td>\n",
       "      <td>41.057979</td>\n",
       "      <td>Restaurant Cafe</td>\n",
       "      <td>...</td>\n",
       "      <td>Turkish Lira(TL)</td>\n",
       "      <td>No</td>\n",
       "      <td>No</td>\n",
       "      <td>No</td>\n",
       "      <td>No</td>\n",
       "      <td>4</td>\n",
       "      <td>4.0</td>\n",
       "      <td>Green</td>\n",
       "      <td>Very Good</td>\n",
       "      <td>901</td>\n",
       "    </tr>\n",
       "    <tr>\n",
       "      <th>9550</th>\n",
       "      <td>5927402</td>\n",
       "      <td>Walter's Coffee Roastery</td>\n",
       "      <td>208</td>\n",
       "      <td>��stanbul</td>\n",
       "      <td>Cafea��a Mahallesi, Bademalt۱ Sokak, No 21/B, ...</td>\n",
       "      <td>Moda</td>\n",
       "      <td>Moda, ��stanbul</td>\n",
       "      <td>29.026016</td>\n",
       "      <td>40.984776</td>\n",
       "      <td>Cafe</td>\n",
       "      <td>...</td>\n",
       "      <td>Turkish Lira(TL)</td>\n",
       "      <td>No</td>\n",
       "      <td>No</td>\n",
       "      <td>No</td>\n",
       "      <td>No</td>\n",
       "      <td>2</td>\n",
       "      <td>4.0</td>\n",
       "      <td>Green</td>\n",
       "      <td>Very Good</td>\n",
       "      <td>591</td>\n",
       "    </tr>\n",
       "  </tbody>\n",
       "</table>\n",
       "<p>3480 rows × 21 columns</p>\n",
       "</div>"
      ],
      "text/plain": [
       "      Restaurant ID           Restaurant Name  Country Code              City  \\\n",
       "0           6317637          Le Petit Souffle           162       Makati City   \n",
       "1           6304287          Izakaya Kikufuji           162       Makati City   \n",
       "2           6300002    Heat - Edsa Shangri-La           162  Mandaluyong City   \n",
       "3           6318506                      Ooma           162  Mandaluyong City   \n",
       "4           6314302               Sambo Kojin           162  Mandaluyong City   \n",
       "...             ...                       ...           ...               ...   \n",
       "9546        5915730               Naml۱ Gurme           208         ��stanbul   \n",
       "9547        5908749              Ceviz A��ac۱           208         ��stanbul   \n",
       "9548        5915807                     Huqqa           208         ��stanbul   \n",
       "9549        5916112               A���k Kahve           208         ��stanbul   \n",
       "9550        5927402  Walter's Coffee Roastery           208         ��stanbul   \n",
       "\n",
       "                                                Address  \\\n",
       "0     Third Floor, Century City Mall, Kalayaan Avenu...   \n",
       "1     Little Tokyo, 2277 Chino Roces Avenue, Legaspi...   \n",
       "2     Edsa Shangri-La, 1 Garden Way, Ortigas, Mandal...   \n",
       "3     Third Floor, Mega Fashion Hall, SM Megamall, O...   \n",
       "4     Third Floor, Mega Atrium, SM Megamall, Ortigas...   \n",
       "...                                                 ...   \n",
       "9546  Kemanke�� Karamustafa Pa��a Mahallesi, R۱ht۱m ...   \n",
       "9547  Ko��uyolu Mahallesi, Muhittin ��st�_nda�� Cadd...   \n",
       "9548  Kuru�_e��me Mahallesi, Muallim Naci Caddesi, N...   \n",
       "9549  Kuru�_e��me Mahallesi, Muallim Naci Caddesi, N...   \n",
       "9550  Cafea��a Mahallesi, Bademalt۱ Sokak, No 21/B, ...   \n",
       "\n",
       "                                        Locality  \\\n",
       "0      Century City Mall, Poblacion, Makati City   \n",
       "1     Little Tokyo, Legaspi Village, Makati City   \n",
       "2     Edsa Shangri-La, Ortigas, Mandaluyong City   \n",
       "3         SM Megamall, Ortigas, Mandaluyong City   \n",
       "4         SM Megamall, Ortigas, Mandaluyong City   \n",
       "...                                          ...   \n",
       "9546                                    Karak�_y   \n",
       "9547                                   Ko��uyolu   \n",
       "9548                                 Kuru�_e��me   \n",
       "9549                                 Kuru�_e��me   \n",
       "9550                                        Moda   \n",
       "\n",
       "                                       Locality Verbose   Longitude  \\\n",
       "0     Century City Mall, Poblacion, Makati City, Mak...  121.027535   \n",
       "1     Little Tokyo, Legaspi Village, Makati City, Ma...  121.014101   \n",
       "2     Edsa Shangri-La, Ortigas, Mandaluyong City, Ma...  121.056831   \n",
       "3     SM Megamall, Ortigas, Mandaluyong City, Mandal...  121.056475   \n",
       "4     SM Megamall, Ortigas, Mandaluyong City, Mandal...  121.057508   \n",
       "...                                                 ...         ...   \n",
       "9546                                Karak�_y, ��stanbul   28.977392   \n",
       "9547                               Ko��uyolu, ��stanbul   29.041297   \n",
       "9548                             Kuru�_e��me, ��stanbul   29.034640   \n",
       "9549                             Kuru�_e��me, ��stanbul   29.036019   \n",
       "9550                                    Moda, ��stanbul   29.026016   \n",
       "\n",
       "       Latitude                          Cuisines  ...          Currency  \\\n",
       "0     14.565443        French, Japanese, Desserts  ...  Botswana Pula(P)   \n",
       "1     14.553708                          Japanese  ...  Botswana Pula(P)   \n",
       "2     14.581404  Seafood, Asian, Filipino, Indian  ...  Botswana Pula(P)   \n",
       "3     14.585318                   Japanese, Sushi  ...  Botswana Pula(P)   \n",
       "4     14.584450                  Japanese, Korean  ...  Botswana Pula(P)   \n",
       "...         ...                               ...  ...               ...   \n",
       "9546  41.022793                           Turkish  ...  Turkish Lira(TL)   \n",
       "9547  41.009847   World Cuisine, Patisserie, Cafe  ...  Turkish Lira(TL)   \n",
       "9548  41.055817            Italian, World Cuisine  ...  Turkish Lira(TL)   \n",
       "9549  41.057979                   Restaurant Cafe  ...  Turkish Lira(TL)   \n",
       "9550  40.984776                              Cafe  ...  Turkish Lira(TL)   \n",
       "\n",
       "     Has Table booking Has Online delivery Is delivering now  \\\n",
       "0                  Yes                  No                No   \n",
       "1                  Yes                  No                No   \n",
       "2                  Yes                  No                No   \n",
       "3                   No                  No                No   \n",
       "4                  Yes                  No                No   \n",
       "...                ...                 ...               ...   \n",
       "9546                No                  No                No   \n",
       "9547                No                  No                No   \n",
       "9548                No                  No                No   \n",
       "9549                No                  No                No   \n",
       "9550                No                  No                No   \n",
       "\n",
       "     Switch to order menu Price range  Aggregate rating  Rating color  \\\n",
       "0                      No           3               4.8    Dark Green   \n",
       "1                      No           3               4.5    Dark Green   \n",
       "2                      No           4               4.4         Green   \n",
       "3                      No           4               4.9    Dark Green   \n",
       "4                      No           4               4.8    Dark Green   \n",
       "...                   ...         ...               ...           ...   \n",
       "9546                   No           3               4.1         Green   \n",
       "9547                   No           3               4.2         Green   \n",
       "9548                   No           4               3.7        Yellow   \n",
       "9549                   No           4               4.0         Green   \n",
       "9550                   No           2               4.0         Green   \n",
       "\n",
       "     Rating text Votes  \n",
       "0      Excellent   314  \n",
       "1      Excellent   591  \n",
       "2      Very Good   270  \n",
       "3      Excellent   365  \n",
       "4      Excellent   229  \n",
       "...          ...   ...  \n",
       "9546   Very Good   788  \n",
       "9547   Very Good  1034  \n",
       "9548        Good   661  \n",
       "9549   Very Good   901  \n",
       "9550   Very Good   591  \n",
       "\n",
       "[3480 rows x 21 columns]"
      ]
     },
     "execution_count": 8,
     "metadata": {},
     "output_type": "execute_result"
    }
   ],
   "source": [
    "pos_df = pd.DataFrame()\n",
    "pos_df = df[df['Rating text'].isin(['Excellent', 'Very Good', 'Good'])]\n",
    "pos_df"
   ]
  },
  {
   "cell_type": "code",
   "execution_count": 9,
   "id": "b4983a8c",
   "metadata": {},
   "outputs": [
    {
     "data": {
      "application/vnd.microsoft.datawrangler.viewer.v0+json": {
       "columns": [
        {
         "name": "index",
         "rawType": "int64",
         "type": "integer"
        },
        {
         "name": "Restaurant ID",
         "rawType": "int64",
         "type": "integer"
        },
        {
         "name": "Restaurant Name",
         "rawType": "object",
         "type": "string"
        },
        {
         "name": "Country Code",
         "rawType": "int64",
         "type": "integer"
        },
        {
         "name": "City",
         "rawType": "object",
         "type": "string"
        },
        {
         "name": "Address",
         "rawType": "object",
         "type": "string"
        },
        {
         "name": "Locality",
         "rawType": "object",
         "type": "string"
        },
        {
         "name": "Locality Verbose",
         "rawType": "object",
         "type": "string"
        },
        {
         "name": "Longitude",
         "rawType": "float64",
         "type": "float"
        },
        {
         "name": "Latitude",
         "rawType": "float64",
         "type": "float"
        },
        {
         "name": "Cuisines",
         "rawType": "object",
         "type": "string"
        },
        {
         "name": "Average Cost for two",
         "rawType": "int64",
         "type": "integer"
        },
        {
         "name": "Currency",
         "rawType": "object",
         "type": "string"
        },
        {
         "name": "Has Table booking",
         "rawType": "object",
         "type": "string"
        },
        {
         "name": "Has Online delivery",
         "rawType": "object",
         "type": "string"
        },
        {
         "name": "Is delivering now",
         "rawType": "object",
         "type": "string"
        },
        {
         "name": "Switch to order menu",
         "rawType": "object",
         "type": "string"
        },
        {
         "name": "Price range",
         "rawType": "int64",
         "type": "integer"
        },
        {
         "name": "Aggregate rating",
         "rawType": "float64",
         "type": "float"
        },
        {
         "name": "Rating color",
         "rawType": "object",
         "type": "string"
        },
        {
         "name": "Rating text",
         "rawType": "object",
         "type": "string"
        },
        {
         "name": "Votes",
         "rawType": "int64",
         "type": "integer"
        }
       ],
       "conversionMethod": "pd.DataFrame",
       "ref": "557a4b68-c712-4da1-93ed-fe7cd2d3d86c",
       "rows": [
        [
         "312",
         "17374978",
         "Troll Tavern",
         "216",
         "Gainesville",
         "8590 N Main St Ste B, Helen, GA 30545",
         "Helen",
         "Helen, Gainesville",
         "-83.7334",
         "34.7021",
         "Burger, German, Sandwich",
         "25",
         "Dollar($)",
         "No",
         "No",
         "No",
         "No",
         "2",
         "2.2",
         "Red",
         "Poor",
         "108"
        ],
        [
         "344",
         "17482142",
         "Triangle Restaurant",
         "216",
         "Mc Millan",
         "21053 State Hwy M28, Mc Millan, MI 49853",
         "Mc Millan",
         "Mc Millan, Mc Millan",
         "-85.7363",
         "46.3718",
         "Breakfast, Burger",
         "10",
         "Dollar($)",
         "No",
         "No",
         "No",
         "No",
         "1",
         "2.4",
         "Red",
         "Poor",
         "17"
        ],
        [
         "348",
         "16613059",
         "Poets Cafe",
         "14",
         "Montville",
         "167 Main St, Montville, QLD",
         "Montville",
         "Montville, Montville",
         "152.893735",
         "-26.690462",
         "Coffee and Tea, Modern Australian",
         "30",
         "Dollar($)",
         "No",
         "No",
         "No",
         "No",
         "3",
         "2.4",
         "Red",
         "Poor",
         "193"
        ],
        [
         "613",
         "5600961",
         "Pizza Hut",
         "214",
         "Sharjah",
         "Next to Safeer Mall, Al Nahda, Sharjah",
         "Al Nahda",
         "Al Nahda, Sharjah",
         "55.37454341",
         "25.30564046",
         "Fast Food, Pizza",
         "80",
         "Emirati Diram(AED)",
         "No",
         "No",
         "No",
         "No",
         "3",
         "2.4",
         "Red",
         "Poor",
         "154"
        ],
        [
         "890",
         "311051",
         "KFC",
         "1",
         "Faridabad",
         "Shops 21-22, 2nd Floor, Crown Interiorz Mall, Sector 35, Faridabad",
         "Crown Interiorz Mall, Sector 35, Faridabad",
         "Crown Interiorz Mall, Sector 35, Faridabad, Faridabad",
         "77.30706006",
         "28.46980656",
         "American, Fast Food, Burger",
         "500",
         "Indian Rupees(Rs.)",
         "No",
         "Yes",
         "No",
         "No",
         "2",
         "2.1",
         "Red",
         "Poor",
         "57"
        ],
        [
         "896",
         "8128",
         "Mirage Restro Bar",
         "1",
         "Faridabad",
         "2nd Floor, Crown Plaza Mall, Sector 15-A, Sector 15, Faridabad",
         "Crown Plaza Mall, Sector 15, Faridabad",
         "Crown Plaza Mall, Sector 15, Faridabad, Faridabad",
         "77.3131025",
         "28.3978083",
         "North Indian, Mughlai",
         "1000",
         "Indian Rupees(Rs.)",
         "Yes",
         "No",
         "No",
         "No",
         "3",
         "2.4",
         "Red",
         "Poor",
         "25"
        ],
        [
         "1138",
         "1683",
         "Pind Balluchi",
         "1",
         "Ghaziabad",
         "Shop 34-40, Level 3, Shipra Mall, Gulmohar Road, Indirapuram, Ghaziabad",
         "Shipra Mall, Indirapuram",
         "Shipra Mall, Indirapuram, Ghaziabad",
         "77.37016473",
         "28.63397039",
         "North Indian, Mughlai",
         "1000",
         "Indian Rupees(Rs.)",
         "Yes",
         "Yes",
         "No",
         "No",
         "3",
         "1.8",
         "Red",
         "Poor",
         "322"
        ],
        [
         "1247",
         "306134",
         "The Wine Company",
         "1",
         "Gurgaon",
         "Cyber Hub, DLF Cyber City, Gurgaon",
         "Cyber Hub, DLF Cyber City",
         "Cyber Hub, DLF Cyber City, Gurgaon",
         "77.0890476",
         "28.4962285",
         "Italian, European",
         "2000",
         "Indian Rupees(Rs.)",
         "Yes",
         "No",
         "No",
         "No",
         "4",
         "2.4",
         "Red",
         "Poor",
         "2412"
        ],
        [
         "1263",
         "225",
         "Domino's Pizza",
         "1",
         "Gurgaon",
         "UGF/RTC 9, Building 8, Tower C, DLF- 2, DLF Cyber City, Gurgaon",
         "DLF Cyber City",
         "DLF Cyber City, Gurgaon",
         "77.0890476",
         "28.4945253",
         "Pizza, Fast Food",
         "700",
         "Indian Rupees(Rs.)",
         "No",
         "No",
         "No",
         "No",
         "2",
         "2.4",
         "Red",
         "Poor",
         "125"
        ],
        [
         "1278",
         "4620",
         "Sugar & Spice - Le Marche",
         "1",
         "Gurgaon",
         "SG-84 & 85, DLF Galleria, DLF Phase 4, Gurgaon",
         "DLF Galleria, DLF Phase 4",
         "DLF Galleria, DLF Phase 4, Gurgaon",
         "77.0812241",
         "28.4671487",
         "Bakery, Fast Food",
         "800",
         "Indian Rupees(Rs.)",
         "No",
         "No",
         "No",
         "No",
         "2",
         "2.4",
         "Red",
         "Poor",
         "88"
        ],
        [
         "1296",
         "311116",
         "KFC",
         "1",
         "Gurgaon",
         "MS-44, Upper Ground Floor, DLF Mega Mall, DLF Phase 1, Gurgaon",
         "DLF Mega Mall, DLF Phase 1",
         "DLF Mega Mall, DLF Phase 1, Gurgaon",
         "77.09351432",
         "28.47650794",
         "American, Fast Food, Burger",
         "500",
         "Indian Rupees(Rs.)",
         "No",
         "Yes",
         "No",
         "No",
         "2",
         "2.2",
         "Red",
         "Poor",
         "73"
        ],
        [
         "1395",
         "4172",
         "Aahar",
         "1",
         "Gurgaon",
         "U-6/50, DLF Phase 3, Gurgaon",
         "DLF Phase 3",
         "DLF Phase 3, Gurgaon",
         "77.0943256",
         "28.492384",
         "North Indian, South Indian, Chinese",
         "400",
         "Indian Rupees(Rs.)",
         "No",
         "Yes",
         "No",
         "No",
         "1",
         "2.0",
         "Red",
         "Poor",
         "60"
        ],
        [
         "1396",
         "310525",
         "Chicken Bytes",
         "1",
         "Gurgaon",
         "Shop 4, U-6/50, DLF Phase 3, Gurgaon",
         "DLF Phase 3",
         "DLF Phase 3, Gurgaon",
         "77.094263",
         "28.4923373",
         "North Indian, Mughlai, Chinese",
         "500",
         "Indian Rupees(Rs.)",
         "No",
         "Yes",
         "No",
         "No",
         "2",
         "2.1",
         "Red",
         "Poor",
         "34"
        ],
        [
         "1397",
         "300054",
         "Flying Cakes",
         "1",
         "Gurgaon",
         "Shop 3, U-6/50, DLF Phase 3, Gurgaon",
         "DLF Phase 3",
         "DLF Phase 3, Gurgaon",
         "77.0943529",
         "28.4924355",
         "Bakery",
         "350",
         "Indian Rupees(Rs.)",
         "No",
         "Yes",
         "No",
         "No",
         "1",
         "2.2",
         "Red",
         "Poor",
         "136"
        ],
        [
         "1398",
         "301278",
         "Punjabi Tadka",
         "1",
         "Gurgaon",
         "U-16/24, DLF Phase 3, Gurgaon",
         "DLF Phase 3",
         "DLF Phase 3, Gurgaon",
         "77.0937234",
         "28.4914786",
         "North Indian",
         "500",
         "Indian Rupees(Rs.)",
         "No",
         "No",
         "No",
         "No",
         "2",
         "2.2",
         "Red",
         "Poor",
         "43"
        ],
        [
         "1549",
         "892",
         "Green's",
         "1",
         "Gurgaon",
         "SCO 23, Housing Board Shopping Complex, Saraswati Vihar, MG Road, Gurgaon",
         "MG Road",
         "MG Road, Gurgaon",
         "77.0824381",
         "28.4757372",
         "Chinese, North Indian, South Indian, Street Food",
         "350",
         "Indian Rupees(Rs.)",
         "No",
         "Yes",
         "No",
         "No",
         "1",
         "2.3",
         "Red",
         "Poor",
         "31"
        ],
        [
         "1550",
         "2056",
         "New Zaika",
         "1",
         "Gurgaon",
         "IFFCO Chowk, MG Road, Gurgaon",
         "MG Road",
         "MG Road, Gurgaon",
         "77.0692631",
         "28.477294",
         "North Indian, Chinese",
         "600",
         "Indian Rupees(Rs.)",
         "No",
         "No",
         "No",
         "No",
         "2",
         "2.4",
         "Red",
         "Poor",
         "35"
        ],
        [
         "1582",
         "18082232",
         "Chicago Pizza",
         "1",
         "Gurgaon",
         "FC-08B, Food Court, 3rd Floor, MGF Metropolitan, MG Road, Gurgaon",
         "MGF Metropolitan Mall, MG Road",
         "MGF Metropolitan Mall, MG Road, Gurgaon",
         "77.080144",
         "28.4803174",
         "Pizza",
         "600",
         "Indian Rupees(Rs.)",
         "No",
         "No",
         "No",
         "No",
         "2",
         "2.3",
         "Red",
         "Poor",
         "29"
        ],
        [
         "1583",
         "3585",
         "Suburbia - The Empire",
         "1",
         "Gurgaon",
         "2nd Floor, MGF Metropolitan Mall, MG Road, Gurgaon",
         "MGF Metropolitan Mall, MG Road",
         "MGF Metropolitan Mall, MG Road, Gurgaon",
         "77.0802349",
         "28.4811283",
         "Continental, European, North Indian",
         "1800",
         "Indian Rupees(Rs.)",
         "Yes",
         "No",
         "No",
         "No",
         "3",
         "2.1",
         "Red",
         "Poor",
         "90"
        ],
        [
         "1584",
         "305698",
         "Viva Hyderabad",
         "1",
         "Gurgaon",
         "Food Court, 3rd Floor, MGF Metropolitan Mall",
         "MGF Metropolitan Mall, MG Road",
         "MGF Metropolitan Mall, MG Road, Gurgaon",
         "77.0802124",
         "28.4803866",
         "Biryani, North Indian",
         "600",
         "Indian Rupees(Rs.)",
         "No",
         "Yes",
         "No",
         "No",
         "2",
         "2.3",
         "Red",
         "Poor",
         "34"
        ],
        [
         "1629",
         "3603",
         "Pizza Hut Delivery",
         "1",
         "Gurgaon",
         "11, Ground Floor, Omaxe Gurgaon Mall, Sohna Road, Gurgaon",
         "Omaxe Celebration Mall, Sohna Road, Gurgaon",
         "Omaxe Celebration Mall, Sohna Road, Gurgaon, Gurgaon",
         "77.0432685",
         "28.4109555",
         "Italian, Pizza, Fast Food",
         "800",
         "Indian Rupees(Rs.)",
         "No",
         "Yes",
         "No",
         "No",
         "2",
         "2.2",
         "Red",
         "Poor",
         "93"
        ],
        [
         "1631",
         "230",
         "Domino's Pizza",
         "1",
         "Gurgaon",
         "4-C, Ground Floor, Omaxe Gurgaon Mall, Sohna Road, Gurgaon",
         "Omaxe Gurgaon Mall",
         "Omaxe Gurgaon Mall, Gurgaon",
         "77.0431785",
         "28.4113952",
         "Pizza, Fast Food",
         "700",
         "Indian Rupees(Rs.)",
         "No",
         "No",
         "No",
         "No",
         "2",
         "2.4",
         "Red",
         "Poor",
         "112"
        ],
        [
         "1711",
         "3909",
         "Viva Hyderabad",
         "1",
         "Gurgaon",
         "Food Court, 3rd Floor, Raheja Mall, Sohna Road, Gurgaon",
         "Raheja Mall, Sohna Road",
         "Raheja Mall, Sohna Road, Gurgaon",
         "77.0394902",
         "28.4234142",
         "Biryani, North Indian",
         "600",
         "Indian Rupees(Rs.)",
         "No",
         "Yes",
         "No",
         "No",
         "2",
         "2.3",
         "Red",
         "Poor",
         "32"
        ],
        [
         "1716",
         "3953",
         "Club Prison",
         "1",
         "Gurgaon",
         "305 & 306, 3rd Floor, Sahara Mall, MG Road, Gurgaon",
         "Sahara Mall, MG Road",
         "Sahara Mall, MG Road, Gurgaon",
         "77.0865747",
         "28.4797207",
         "Finger Food",
         "1800",
         "Indian Rupees(Rs.)",
         "No",
         "No",
         "No",
         "No",
         "3",
         "2.4",
         "Red",
         "Poor",
         "53"
        ],
        [
         "1769",
         "18025110",
         "Captain Bill$ Deliverz",
         "1",
         "Gurgaon",
         "Near Main Market, Sector 14, Gurgaon",
         "Sector 14",
         "Sector 14, Gurgaon",
         "77.0476588",
         "28.4738648",
         "North Indian, Chinese, Fast Food",
         "1000",
         "Indian Rupees(Rs.)",
         "No",
         "Yes",
         "Yes",
         "No",
         "3",
         "2.4",
         "Red",
         "Poor",
         "23"
        ],
        [
         "1770",
         "308223",
         "China Hut",
         "1",
         "Gurgaon",
         "Shop No-3 Near Choudhary Tent House New Mata Road Rajiv Nagar, Sector 14, Gurgaon",
         "Sector 14",
         "Sector 14, Gurgaon",
         "77.0376289",
         "28.4758573",
         "Chinese, Fast Food",
         "300",
         "Indian Rupees(Rs.)",
         "No",
         "No",
         "No",
         "No",
         "1",
         "2.4",
         "Red",
         "Poor",
         "18"
        ],
        [
         "1771",
         "6832",
         "G Dot",
         "1",
         "Gurgaon",
         "Opposite Lt. Atul Kataria Memorial School, Mata Sheetla Mandir Road, Sector 14, Gurgaon",
         "Sector 14",
         "Sector 14, Gurgaon",
         "77.0338227",
         "28.4785399",
         "North Indian, South Indian, Chinese",
         "400",
         "Indian Rupees(Rs.)",
         "No",
         "Yes",
         "No",
         "No",
         "1",
         "2.4",
         "Red",
         "Poor",
         "26"
        ],
        [
         "1905",
         "18354665",
         "Flying Cakes",
         "1",
         "Gurgaon",
         "Main Huda Market, Sector 40, Near, Sector 31, Gurgaon",
         "Sector 31",
         "Sector 31, Gurgaon",
         "77.0571362",
         "28.4497559",
         "Bakery",
         "350",
         "Indian Rupees(Rs.)",
         "No",
         "Yes",
         "No",
         "No",
         "1",
         "2.4",
         "Red",
         "Poor",
         "13"
        ],
        [
         "1960",
         "894",
         "Raj Restaurant",
         "1",
         "Gurgaon",
         "10, Green Woods Plaza, Green Wood City, Sector 45, Gurgaon",
         "Sector 45",
         "Sector 45, Gurgaon",
         "77.0596229",
         "28.4448577",
         "Chinese, North Indian, Mughlai",
         "700",
         "Indian Rupees(Rs.)",
         "No",
         "Yes",
         "No",
         "No",
         "2",
         "2.4",
         "Red",
         "Poor",
         "92"
        ],
        [
         "1966",
         "18363062",
         "Grill King Kabab & Curries",
         "1",
         "Gurgaon",
         "Shop 1, La Mart, La Laguna Society, Golf Course Road, Sector 54, Gurgaon",
         "Sector 54",
         "Sector 54, Gurgaon",
         "77.1042435",
         "28.4372591",
         "North Indian, Chinese",
         "500",
         "Indian Rupees(Rs.)",
         "No",
         "Yes",
         "No",
         "No",
         "2",
         "2.4",
         "Red",
         "Poor",
         "20"
        ],
        [
         "2018",
         "306540",
         "Chawla's�_",
         "1",
         "Gurgaon",
         "2nd Floor, Community Centre, Devinder Vihar, Sector 56, Gurgaon",
         "Sector 56",
         "Sector 56, Gurgaon",
         "77.0921967",
         "28.430031",
         "North Indian, Mughlai, Chinese",
         "800",
         "Indian Rupees(Rs.)",
         "No",
         "No",
         "No",
         "No",
         "2",
         "2.2",
         "Red",
         "Poor",
         "66"
        ],
        [
         "2019",
         "304524",
         "Chy - Na Express",
         "1",
         "Gurgaon",
         "Shop 104, HUDA Market, Sector 56, Gurgaon",
         "Sector 56",
         "Sector 56, Gurgaon",
         "77.0990285",
         "28.4249219",
         "Chinese",
         "400",
         "Indian Rupees(Rs.)",
         "No",
         "Yes",
         "No",
         "No",
         "1",
         "2.2",
         "Red",
         "Poor",
         "46"
        ],
        [
         "2020",
         "2087",
         "Kwality",
         "1",
         "Gurgaon",
         "85, HUDA Market, Sector 56, Gurgaon",
         "Sector 56",
         "Sector 56, Gurgaon",
         "77.0992084",
         "28.4251185",
         "Chinese, Mughlai, North Indian",
         "650",
         "Indian Rupees(Rs.)",
         "No",
         "No",
         "No",
         "No",
         "2",
         "2.4",
         "Red",
         "Poor",
         "52"
        ],
        [
         "2084",
         "6877",
         "Domino's Pizza",
         "1",
         "Gurgaon",
         "30, Ground Floor, ILD Trade Center, Sohna Road, Gurgaon",
         "Sohna Road",
         "Sohna Road, Gurgaon",
         "77.0393103",
         "28.4248315",
         "Pizza, Fast Food",
         "700",
         "Indian Rupees(Rs.)",
         "No",
         "No",
         "No",
         "No",
         "2",
         "2.3",
         "Red",
         "Poor",
         "70"
        ],
        [
         "2085",
         "306975",
         "KB's Icecream & Kulfis",
         "1",
         "Gurgaon",
         "2, Opposite Omaxe Mall, CD Chowk, Sohna Road, Gurgaon",
         "Sohna Road",
         "Sohna Road, Gurgaon",
         "77.0418292",
         "28.4116239",
         "Ice Cream",
         "200",
         "Indian Rupees(Rs.)",
         "No",
         "Yes",
         "No",
         "No",
         "1",
         "2.3",
         "Red",
         "Poor",
         "26"
        ],
        [
         "2086",
         "18014135",
         "Wah Ji Wah",
         "1",
         "Gurgaon",
         "Shop 1A, Subhash Chowk, Near Omaxe Celebration Mall, Sohna Road, Gurgaon",
         "Sohna Road",
         "Sohna Road, Gurgaon",
         "77.0371694",
         "28.4270829",
         "North Indian",
         "450",
         "Indian Rupees(Rs.)",
         "No",
         "No",
         "No",
         "No",
         "1",
         "2.4",
         "Red",
         "Poor",
         "42"
        ],
        [
         "2141",
         "313275",
         "Chin Chow",
         "1",
         "Gurgaon",
         "UGH-180, 1st Floor, Vyapar Kendra, Sushant Lok, Gurgaon",
         "Sushant Lok",
         "Sushant Lok, Gurgaon",
         "77.0840118",
         "28.4601546",
         "Chinese",
         "550",
         "Indian Rupees(Rs.)",
         "No",
         "No",
         "No",
         "No",
         "2",
         "2.4",
         "Red",
         "Poor",
         "38"
        ],
        [
         "2163",
         "312555",
         "WoW - Vada Pav & More",
         "1",
         "Gurgaon",
         "Shop 137-D, Ground Floor, Sushant Shopping Arcade, Sushant Lok, Gurgaon",
         "Sushant Shopping Arcade, Sushant Lok, Gurgaon",
         "Sushant Shopping Arcade, Sushant Lok, Gurgaon, Gurgaon",
         "77.0789039",
         "28.4605516",
         "Street Food, Fast Food",
         "300",
         "Indian Rupees(Rs.)",
         "No",
         "Yes",
         "No",
         "No",
         "1",
         "2.2",
         "Red",
         "Poor",
         "41"
        ],
        [
         "2251",
         "309308",
         "Chai Point",
         "1",
         "Gurgaon",
         "Unitech Infospace, Sector 21, Gurgaon",
         "Unitech Infospace, Sector 21, Gurgaon",
         "Unitech Infospace, Sector 21, Gurgaon, Gurgaon",
         "77.0717813",
         "28.5099843",
         "Tea, Fast Food",
         "200",
         "Indian Rupees(Rs.)",
         "No",
         "Yes",
         "No",
         "No",
         "1",
         "2.4",
         "Red",
         "Poor",
         "49"
        ],
        [
         "2276",
         "1454",
         "Curry 'n' Phulka",
         "1",
         "Gurgaon",
         "GF-1, Vyapar Kendra, Block C, Sushant Lok, Gurgaon",
         "Vyapar Kendra, Sushant Lok",
         "Vyapar Kendra, Sushant Lok, Gurgaon",
         "77.0837421",
         "28.4607562",
         "North Indian, Chinese",
         "400",
         "Indian Rupees(Rs.)",
         "No",
         "Yes",
         "No",
         "No",
         "1",
         "2.4",
         "Red",
         "Poor",
         "83"
        ],
        [
         "2277",
         "6775",
         "Wah Ji Wah",
         "1",
         "Gurgaon",
         "100, Ground Floor, Vyapar Kendra, C Block, Phase 1, Sushant Lok, Gurgaon",
         "Vyapar Kendra, Sushant Lok",
         "Vyapar Kendra, Sushant Lok, Gurgaon",
         "77.0832256",
         "28.4605726",
         "North Indian",
         "400",
         "Indian Rupees(Rs.)",
         "No",
         "Yes",
         "No",
         "No",
         "1",
         "2.2",
         "Red",
         "Poor",
         "142"
        ],
        [
         "2537",
         "3300707",
         "KFC",
         "1",
         "Nagpur",
         "G1-G2, Ground Floor, Eternity Mall, Variety Square, Amravati Road, Sitabuldi, Nagpur",
         "Sitabuldi",
         "Sitabuldi, Nagpur",
         "79.08040556",
         "21.14353333",
         "American, Fast Food",
         "550",
         "Indian Rupees(Rs.)",
         "No",
         "Yes",
         "No",
         "No",
         "2",
         "2.2",
         "Red",
         "Poor",
         "147"
        ],
        [
         "2570",
         "2853",
         "Delhi Darbar",
         "1",
         "New Delhi",
         "84, Main Road, Adchini, New Delhi",
         "Adchini",
         "Adchini, New Delhi",
         "77.19696745",
         "28.53576259",
         "Chinese, North Indian",
         "500",
         "Indian Rupees(Rs.)",
         "No",
         "No",
         "No",
         "No",
         "2",
         "2.2",
         "Red",
         "Poor",
         "77"
        ],
        [
         "2589",
         "306761",
         "Jaiveer Naan & Chaap",
         "1",
         "New Delhi",
         "Shop 95, Aggarwal City Plaza, Near M2K, Rohini, New Delhi",
         "Aggarwal City Plaza, Rohini",
         "Aggarwal City Plaza, Rohini, New Delhi",
         "77.1176368",
         "28.7004261",
         "North Indian, Fast Food",
         "500",
         "Indian Rupees(Rs.)",
         "No",
         "Yes",
         "No",
         "No",
         "2",
         "2.2",
         "Red",
         "Poor",
         "79"
        ],
        [
         "2621",
         "306795",
         "Shree Rathnam",
         "1",
         "New Delhi",
         "D1, First Floor, Abhishek Tower, Alaknanda, New Delhi",
         "Alaknanda",
         "Alaknanda, New Delhi",
         "77.2543449",
         "28.5255985",
         "South Indian, North Indian, Chinese",
         "800",
         "Indian Rupees(Rs.)",
         "No",
         "Yes",
         "No",
         "No",
         "2",
         "2.4",
         "Red",
         "Poor",
         "31"
        ],
        [
         "2726",
         "5296",
         "Chhabra Sweets",
         "1",
         "New Delhi",
         "26, Central Market, Ashok Vihar Phase 1, New Delhi",
         "Ashok Vihar Phase 1",
         "Ashok Vihar Phase 1, New Delhi",
         "77.1723764",
         "28.6939921",
         "Mithai",
         "100",
         "Indian Rupees(Rs.)",
         "No",
         "No",
         "No",
         "No",
         "1",
         "2.4",
         "Red",
         "Poor",
         "15"
        ],
        [
         "2767",
         "18249122",
         "Habibi Express",
         "1",
         "New Delhi",
         "47-48, Bengali Market, Barakhamba Road, New Delhi",
         "Barakhamba Road",
         "Barakhamba Road, New Delhi",
         "77.232182",
         "28.6291992",
         "Lebanese, Arabian, Moroccan",
         "750",
         "Indian Rupees(Rs.)",
         "No",
         "Yes",
         "No",
         "No",
         "2",
         "2.3",
         "Red",
         "Poor",
         "55"
        ],
        [
         "2782",
         "3269",
         "RPM",
         "1",
         "New Delhi",
         "40, Basant Lok Market, Vasant Vihar, New Delhi",
         "Basant Lok Market, Vasant Vihar",
         "Basant Lok Market, Vasant Vihar, New Delhi",
         "77.16416772",
         "28.55756561",
         "Finger Food",
         "1800",
         "Indian Rupees(Rs.)",
         "Yes",
         "No",
         "No",
         "No",
         "3",
         "2.4",
         "Red",
         "Poor",
         "92"
        ],
        [
         "2794",
         "8388",
         "Domino's Pizza",
         "1",
         "New Delhi",
         "30, 31, & 32, Upper Ground Floor, Ansal Chambers-1, Bhikaji Cama Place, New Delhi",
         "Bhikaji Cama Place",
         "Bhikaji Cama Place, New Delhi",
         "77.18894932",
         "28.56902165",
         "Pizza, Fast Food",
         "700",
         "Indian Rupees(Rs.)",
         "No",
         "No",
         "No",
         "No",
         "2",
         "2.4",
         "Red",
         "Poor",
         "71"
        ],
        [
         "2795",
         "3465",
         "Southy",
         "1",
         "New Delhi",
         "UG-60, Ansal Chamber 2, Bhikaji Cama Place, New Delhi",
         "Bhikaji Cama Place",
         "Bhikaji Cama Place, New Delhi",
         "77.18844105",
         "28.56823664",
         "South Indian",
         "400",
         "Indian Rupees(Rs.)",
         "No",
         "Yes",
         "No",
         "No",
         "1",
         "2.4",
         "Red",
         "Poor",
         "33"
        ]
       ],
       "shape": {
        "columns": 21,
        "rows": 186
       }
      },
      "text/html": [
       "<div>\n",
       "<style scoped>\n",
       "    .dataframe tbody tr th:only-of-type {\n",
       "        vertical-align: middle;\n",
       "    }\n",
       "\n",
       "    .dataframe tbody tr th {\n",
       "        vertical-align: top;\n",
       "    }\n",
       "\n",
       "    .dataframe thead th {\n",
       "        text-align: right;\n",
       "    }\n",
       "</style>\n",
       "<table border=\"1\" class=\"dataframe\">\n",
       "  <thead>\n",
       "    <tr style=\"text-align: right;\">\n",
       "      <th></th>\n",
       "      <th>Restaurant ID</th>\n",
       "      <th>Restaurant Name</th>\n",
       "      <th>Country Code</th>\n",
       "      <th>City</th>\n",
       "      <th>Address</th>\n",
       "      <th>Locality</th>\n",
       "      <th>Locality Verbose</th>\n",
       "      <th>Longitude</th>\n",
       "      <th>Latitude</th>\n",
       "      <th>Cuisines</th>\n",
       "      <th>...</th>\n",
       "      <th>Currency</th>\n",
       "      <th>Has Table booking</th>\n",
       "      <th>Has Online delivery</th>\n",
       "      <th>Is delivering now</th>\n",
       "      <th>Switch to order menu</th>\n",
       "      <th>Price range</th>\n",
       "      <th>Aggregate rating</th>\n",
       "      <th>Rating color</th>\n",
       "      <th>Rating text</th>\n",
       "      <th>Votes</th>\n",
       "    </tr>\n",
       "  </thead>\n",
       "  <tbody>\n",
       "    <tr>\n",
       "      <th>312</th>\n",
       "      <td>17374978</td>\n",
       "      <td>Troll Tavern</td>\n",
       "      <td>216</td>\n",
       "      <td>Gainesville</td>\n",
       "      <td>8590 N Main St Ste B, Helen, GA 30545</td>\n",
       "      <td>Helen</td>\n",
       "      <td>Helen, Gainesville</td>\n",
       "      <td>-83.733400</td>\n",
       "      <td>34.702100</td>\n",
       "      <td>Burger, German, Sandwich</td>\n",
       "      <td>...</td>\n",
       "      <td>Dollar($)</td>\n",
       "      <td>No</td>\n",
       "      <td>No</td>\n",
       "      <td>No</td>\n",
       "      <td>No</td>\n",
       "      <td>2</td>\n",
       "      <td>2.2</td>\n",
       "      <td>Red</td>\n",
       "      <td>Poor</td>\n",
       "      <td>108</td>\n",
       "    </tr>\n",
       "    <tr>\n",
       "      <th>344</th>\n",
       "      <td>17482142</td>\n",
       "      <td>Triangle Restaurant</td>\n",
       "      <td>216</td>\n",
       "      <td>Mc Millan</td>\n",
       "      <td>21053 State Hwy M28, Mc Millan, MI 49853</td>\n",
       "      <td>Mc Millan</td>\n",
       "      <td>Mc Millan, Mc Millan</td>\n",
       "      <td>-85.736300</td>\n",
       "      <td>46.371800</td>\n",
       "      <td>Breakfast, Burger</td>\n",
       "      <td>...</td>\n",
       "      <td>Dollar($)</td>\n",
       "      <td>No</td>\n",
       "      <td>No</td>\n",
       "      <td>No</td>\n",
       "      <td>No</td>\n",
       "      <td>1</td>\n",
       "      <td>2.4</td>\n",
       "      <td>Red</td>\n",
       "      <td>Poor</td>\n",
       "      <td>17</td>\n",
       "    </tr>\n",
       "    <tr>\n",
       "      <th>348</th>\n",
       "      <td>16613059</td>\n",
       "      <td>Poets Cafe</td>\n",
       "      <td>14</td>\n",
       "      <td>Montville</td>\n",
       "      <td>167 Main St, Montville, QLD</td>\n",
       "      <td>Montville</td>\n",
       "      <td>Montville, Montville</td>\n",
       "      <td>152.893735</td>\n",
       "      <td>-26.690462</td>\n",
       "      <td>Coffee and Tea, Modern Australian</td>\n",
       "      <td>...</td>\n",
       "      <td>Dollar($)</td>\n",
       "      <td>No</td>\n",
       "      <td>No</td>\n",
       "      <td>No</td>\n",
       "      <td>No</td>\n",
       "      <td>3</td>\n",
       "      <td>2.4</td>\n",
       "      <td>Red</td>\n",
       "      <td>Poor</td>\n",
       "      <td>193</td>\n",
       "    </tr>\n",
       "    <tr>\n",
       "      <th>613</th>\n",
       "      <td>5600961</td>\n",
       "      <td>Pizza Hut</td>\n",
       "      <td>214</td>\n",
       "      <td>Sharjah</td>\n",
       "      <td>Next to Safeer Mall, Al Nahda, Sharjah</td>\n",
       "      <td>Al Nahda</td>\n",
       "      <td>Al Nahda, Sharjah</td>\n",
       "      <td>55.374543</td>\n",
       "      <td>25.305640</td>\n",
       "      <td>Fast Food, Pizza</td>\n",
       "      <td>...</td>\n",
       "      <td>Emirati Diram(AED)</td>\n",
       "      <td>No</td>\n",
       "      <td>No</td>\n",
       "      <td>No</td>\n",
       "      <td>No</td>\n",
       "      <td>3</td>\n",
       "      <td>2.4</td>\n",
       "      <td>Red</td>\n",
       "      <td>Poor</td>\n",
       "      <td>154</td>\n",
       "    </tr>\n",
       "    <tr>\n",
       "      <th>890</th>\n",
       "      <td>311051</td>\n",
       "      <td>KFC</td>\n",
       "      <td>1</td>\n",
       "      <td>Faridabad</td>\n",
       "      <td>Shops 21-22, 2nd Floor, Crown Interiorz Mall, ...</td>\n",
       "      <td>Crown Interiorz Mall, Sector 35, Faridabad</td>\n",
       "      <td>Crown Interiorz Mall, Sector 35, Faridabad, Fa...</td>\n",
       "      <td>77.307060</td>\n",
       "      <td>28.469807</td>\n",
       "      <td>American, Fast Food, Burger</td>\n",
       "      <td>...</td>\n",
       "      <td>Indian Rupees(Rs.)</td>\n",
       "      <td>No</td>\n",
       "      <td>Yes</td>\n",
       "      <td>No</td>\n",
       "      <td>No</td>\n",
       "      <td>2</td>\n",
       "      <td>2.1</td>\n",
       "      <td>Red</td>\n",
       "      <td>Poor</td>\n",
       "      <td>57</td>\n",
       "    </tr>\n",
       "    <tr>\n",
       "      <th>...</th>\n",
       "      <td>...</td>\n",
       "      <td>...</td>\n",
       "      <td>...</td>\n",
       "      <td>...</td>\n",
       "      <td>...</td>\n",
       "      <td>...</td>\n",
       "      <td>...</td>\n",
       "      <td>...</td>\n",
       "      <td>...</td>\n",
       "      <td>...</td>\n",
       "      <td>...</td>\n",
       "      <td>...</td>\n",
       "      <td>...</td>\n",
       "      <td>...</td>\n",
       "      <td>...</td>\n",
       "      <td>...</td>\n",
       "      <td>...</td>\n",
       "      <td>...</td>\n",
       "      <td>...</td>\n",
       "      <td>...</td>\n",
       "      <td>...</td>\n",
       "    </tr>\n",
       "    <tr>\n",
       "      <th>9104</th>\n",
       "      <td>2979</td>\n",
       "      <td>Chopaal</td>\n",
       "      <td>1</td>\n",
       "      <td>Noida</td>\n",
       "      <td>A-2, 3rd Floor, The Great India Place Mall, Se...</td>\n",
       "      <td>The Great India Place, Sector 38</td>\n",
       "      <td>The Great India Place, Sector 38, Noida</td>\n",
       "      <td>77.325308</td>\n",
       "      <td>28.567150</td>\n",
       "      <td>Chinese, North Indian, South Indian, Fast Food</td>\n",
       "      <td>...</td>\n",
       "      <td>Indian Rupees(Rs.)</td>\n",
       "      <td>No</td>\n",
       "      <td>No</td>\n",
       "      <td>No</td>\n",
       "      <td>No</td>\n",
       "      <td>1</td>\n",
       "      <td>2.0</td>\n",
       "      <td>Red</td>\n",
       "      <td>Poor</td>\n",
       "      <td>161</td>\n",
       "    </tr>\n",
       "    <tr>\n",
       "      <th>9105</th>\n",
       "      <td>3237</td>\n",
       "      <td>Club Ice Cube</td>\n",
       "      <td>1</td>\n",
       "      <td>Noida</td>\n",
       "      <td>313, 3rd Floor, The Great India Place Mall, Se...</td>\n",
       "      <td>The Great India Place, Sector 38</td>\n",
       "      <td>The Great India Place, Sector 38, Noida</td>\n",
       "      <td>77.326475</td>\n",
       "      <td>28.568067</td>\n",
       "      <td>North Indian, Continental, Chinese</td>\n",
       "      <td>...</td>\n",
       "      <td>Indian Rupees(Rs.)</td>\n",
       "      <td>Yes</td>\n",
       "      <td>No</td>\n",
       "      <td>No</td>\n",
       "      <td>No</td>\n",
       "      <td>4</td>\n",
       "      <td>2.0</td>\n",
       "      <td>Red</td>\n",
       "      <td>Poor</td>\n",
       "      <td>230</td>\n",
       "    </tr>\n",
       "    <tr>\n",
       "      <th>9106</th>\n",
       "      <td>2025</td>\n",
       "      <td>Moti Mahal Delux Tandoori Trail</td>\n",
       "      <td>1</td>\n",
       "      <td>Noida</td>\n",
       "      <td>Food Court, The Great India Place Mall, Sector...</td>\n",
       "      <td>The Great India Place, Sector 38</td>\n",
       "      <td>The Great India Place, Sector 38, Noida</td>\n",
       "      <td>77.325445</td>\n",
       "      <td>28.567040</td>\n",
       "      <td>North Indian, Mughlai</td>\n",
       "      <td>...</td>\n",
       "      <td>Indian Rupees(Rs.)</td>\n",
       "      <td>Yes</td>\n",
       "      <td>Yes</td>\n",
       "      <td>No</td>\n",
       "      <td>No</td>\n",
       "      <td>3</td>\n",
       "      <td>2.0</td>\n",
       "      <td>Red</td>\n",
       "      <td>Poor</td>\n",
       "      <td>108</td>\n",
       "    </tr>\n",
       "    <tr>\n",
       "      <th>9306</th>\n",
       "      <td>7001208</td>\n",
       "      <td>De Fontein Belgian Beer Cafe</td>\n",
       "      <td>148</td>\n",
       "      <td>Auckland</td>\n",
       "      <td>75-79 Tamaki Drive, Mission Bay, Auckland</td>\n",
       "      <td>Mission Bay</td>\n",
       "      <td>Mission Bay, Auckland</td>\n",
       "      <td>174.832089</td>\n",
       "      <td>-36.848315</td>\n",
       "      <td>European</td>\n",
       "      <td>...</td>\n",
       "      <td>NewZealand($)</td>\n",
       "      <td>No</td>\n",
       "      <td>No</td>\n",
       "      <td>No</td>\n",
       "      <td>No</td>\n",
       "      <td>4</td>\n",
       "      <td>2.3</td>\n",
       "      <td>Red</td>\n",
       "      <td>Poor</td>\n",
       "      <td>402</td>\n",
       "    </tr>\n",
       "    <tr>\n",
       "      <th>9498</th>\n",
       "      <td>5800634</td>\n",
       "      <td>Elite Indian Restaurant</td>\n",
       "      <td>191</td>\n",
       "      <td>Colombo</td>\n",
       "      <td>124, New Bullers Road, Bambalapitiya, Colombo 04</td>\n",
       "      <td>Bambalapitiya, Colombo 04</td>\n",
       "      <td>Bambalapitiya, Colombo 04, Colombo</td>\n",
       "      <td>79.857830</td>\n",
       "      <td>6.896084</td>\n",
       "      <td>North Indian, Chinese, Sri Lankan</td>\n",
       "      <td>...</td>\n",
       "      <td>Sri Lankan Rupee(LKR)</td>\n",
       "      <td>No</td>\n",
       "      <td>No</td>\n",
       "      <td>No</td>\n",
       "      <td>No</td>\n",
       "      <td>2</td>\n",
       "      <td>2.4</td>\n",
       "      <td>Red</td>\n",
       "      <td>Poor</td>\n",
       "      <td>240</td>\n",
       "    </tr>\n",
       "  </tbody>\n",
       "</table>\n",
       "<p>186 rows × 21 columns</p>\n",
       "</div>"
      ],
      "text/plain": [
       "      Restaurant ID                  Restaurant Name  Country Code  \\\n",
       "312        17374978                     Troll Tavern           216   \n",
       "344        17482142              Triangle Restaurant           216   \n",
       "348        16613059                       Poets Cafe            14   \n",
       "613         5600961                        Pizza Hut           214   \n",
       "890          311051                              KFC             1   \n",
       "...             ...                              ...           ...   \n",
       "9104           2979                          Chopaal             1   \n",
       "9105           3237                    Club Ice Cube             1   \n",
       "9106           2025  Moti Mahal Delux Tandoori Trail             1   \n",
       "9306        7001208     De Fontein Belgian Beer Cafe           148   \n",
       "9498        5800634          Elite Indian Restaurant           191   \n",
       "\n",
       "             City                                            Address  \\\n",
       "312   Gainesville              8590 N Main St Ste B, Helen, GA 30545   \n",
       "344     Mc Millan           21053 State Hwy M28, Mc Millan, MI 49853   \n",
       "348     Montville                        167 Main St, Montville, QLD   \n",
       "613       Sharjah             Next to Safeer Mall, Al Nahda, Sharjah   \n",
       "890     Faridabad  Shops 21-22, 2nd Floor, Crown Interiorz Mall, ...   \n",
       "...           ...                                                ...   \n",
       "9104        Noida  A-2, 3rd Floor, The Great India Place Mall, Se...   \n",
       "9105        Noida  313, 3rd Floor, The Great India Place Mall, Se...   \n",
       "9106        Noida  Food Court, The Great India Place Mall, Sector...   \n",
       "9306     Auckland          75-79 Tamaki Drive, Mission Bay, Auckland   \n",
       "9498      Colombo   124, New Bullers Road, Bambalapitiya, Colombo 04   \n",
       "\n",
       "                                        Locality  \\\n",
       "312                                        Helen   \n",
       "344                                    Mc Millan   \n",
       "348                                    Montville   \n",
       "613                                     Al Nahda   \n",
       "890   Crown Interiorz Mall, Sector 35, Faridabad   \n",
       "...                                          ...   \n",
       "9104            The Great India Place, Sector 38   \n",
       "9105            The Great India Place, Sector 38   \n",
       "9106            The Great India Place, Sector 38   \n",
       "9306                                 Mission Bay   \n",
       "9498                   Bambalapitiya, Colombo 04   \n",
       "\n",
       "                                       Locality Verbose   Longitude  \\\n",
       "312                                  Helen, Gainesville  -83.733400   \n",
       "344                                Mc Millan, Mc Millan  -85.736300   \n",
       "348                                Montville, Montville  152.893735   \n",
       "613                                   Al Nahda, Sharjah   55.374543   \n",
       "890   Crown Interiorz Mall, Sector 35, Faridabad, Fa...   77.307060   \n",
       "...                                                 ...         ...   \n",
       "9104            The Great India Place, Sector 38, Noida   77.325308   \n",
       "9105            The Great India Place, Sector 38, Noida   77.326475   \n",
       "9106            The Great India Place, Sector 38, Noida   77.325445   \n",
       "9306                              Mission Bay, Auckland  174.832089   \n",
       "9498                 Bambalapitiya, Colombo 04, Colombo   79.857830   \n",
       "\n",
       "       Latitude                                        Cuisines  ...  \\\n",
       "312   34.702100                        Burger, German, Sandwich  ...   \n",
       "344   46.371800                               Breakfast, Burger  ...   \n",
       "348  -26.690462               Coffee and Tea, Modern Australian  ...   \n",
       "613   25.305640                                Fast Food, Pizza  ...   \n",
       "890   28.469807                     American, Fast Food, Burger  ...   \n",
       "...         ...                                             ...  ...   \n",
       "9104  28.567150  Chinese, North Indian, South Indian, Fast Food  ...   \n",
       "9105  28.568067              North Indian, Continental, Chinese  ...   \n",
       "9106  28.567040                           North Indian, Mughlai  ...   \n",
       "9306 -36.848315                                        European  ...   \n",
       "9498   6.896084               North Indian, Chinese, Sri Lankan  ...   \n",
       "\n",
       "                   Currency Has Table booking Has Online delivery  \\\n",
       "312               Dollar($)                No                  No   \n",
       "344               Dollar($)                No                  No   \n",
       "348               Dollar($)                No                  No   \n",
       "613      Emirati Diram(AED)                No                  No   \n",
       "890      Indian Rupees(Rs.)                No                 Yes   \n",
       "...                     ...               ...                 ...   \n",
       "9104     Indian Rupees(Rs.)                No                  No   \n",
       "9105     Indian Rupees(Rs.)               Yes                  No   \n",
       "9106     Indian Rupees(Rs.)               Yes                 Yes   \n",
       "9306          NewZealand($)                No                  No   \n",
       "9498  Sri Lankan Rupee(LKR)                No                  No   \n",
       "\n",
       "     Is delivering now Switch to order menu Price range  Aggregate rating  \\\n",
       "312                 No                   No           2               2.2   \n",
       "344                 No                   No           1               2.4   \n",
       "348                 No                   No           3               2.4   \n",
       "613                 No                   No           3               2.4   \n",
       "890                 No                   No           2               2.1   \n",
       "...                ...                  ...         ...               ...   \n",
       "9104                No                   No           1               2.0   \n",
       "9105                No                   No           4               2.0   \n",
       "9106                No                   No           3               2.0   \n",
       "9306                No                   No           4               2.3   \n",
       "9498                No                   No           2               2.4   \n",
       "\n",
       "      Rating color Rating text Votes  \n",
       "312            Red        Poor   108  \n",
       "344            Red        Poor    17  \n",
       "348            Red        Poor   193  \n",
       "613            Red        Poor   154  \n",
       "890            Red        Poor    57  \n",
       "...            ...         ...   ...  \n",
       "9104           Red        Poor   161  \n",
       "9105           Red        Poor   230  \n",
       "9106           Red        Poor   108  \n",
       "9306           Red        Poor   402  \n",
       "9498           Red        Poor   240  \n",
       "\n",
       "[186 rows x 21 columns]"
      ]
     },
     "execution_count": 9,
     "metadata": {},
     "output_type": "execute_result"
    }
   ],
   "source": [
    "neg_df = pd.DataFrame()\n",
    "neg_df = df[df['Rating text'].isin(['Poor'])]\n",
    "neg_df"
   ]
  },
  {
   "cell_type": "code",
   "execution_count": 10,
   "id": "13a05f8b",
   "metadata": {},
   "outputs": [
    {
     "data": {
      "text/plain": [
       "Rating text\n",
       "Good         2100\n",
       "Very Good    1079\n",
       "Excellent     301\n",
       "Name: count, dtype: int64"
      ]
     },
     "execution_count": 10,
     "metadata": {},
     "output_type": "execute_result"
    }
   ],
   "source": [
    "pos_plot = pos_df['Rating text'].value_counts() \n",
    "pos_plot"
   ]
  },
  {
   "cell_type": "code",
   "execution_count": 11,
   "id": "b9618bfe",
   "metadata": {},
   "outputs": [
    {
     "data": {
      "text/plain": [
       "Rating text\n",
       "Poor    186\n",
       "Name: count, dtype: int64"
      ]
     },
     "execution_count": 11,
     "metadata": {},
     "output_type": "execute_result"
    }
   ],
   "source": [
    "neg_plot = neg_df['Rating text'].value_counts()\n",
    "neg_plot"
   ]
  },
  {
   "cell_type": "code",
   "execution_count": 12,
   "id": "ab4cde9d",
   "metadata": {},
   "outputs": [
    {
     "data": {
      "application/vnd.plotly.v1+json": {
       "config": {
        "plotlyServerURL": "https://plot.ly"
       },
       "data": [
        {
         "hovertemplate": "x=%{x}<br>y=%{y}<extra></extra>",
         "legendgroup": "",
         "marker": {
          "color": "#636efa",
          "pattern": {
           "shape": ""
          }
         },
         "name": "",
         "orientation": "h",
         "showlegend": false,
         "textposition": "auto",
         "type": "bar",
         "x": {
          "bdata": "NAg3BC0B",
          "dtype": "i2"
         },
         "xaxis": "x",
         "y": [
          "Good",
          "Very Good",
          "Excellent"
         ],
         "yaxis": "y"
        }
       ],
       "layout": {
        "barmode": "relative",
        "legend": {
         "tracegroupgap": 0
        },
        "margin": {
         "t": 60
        },
        "template": {
         "data": {
          "bar": [
           {
            "error_x": {
             "color": "#2a3f5f"
            },
            "error_y": {
             "color": "#2a3f5f"
            },
            "marker": {
             "line": {
              "color": "#E5ECF6",
              "width": 0.5
             },
             "pattern": {
              "fillmode": "overlay",
              "size": 10,
              "solidity": 0.2
             }
            },
            "type": "bar"
           }
          ],
          "barpolar": [
           {
            "marker": {
             "line": {
              "color": "#E5ECF6",
              "width": 0.5
             },
             "pattern": {
              "fillmode": "overlay",
              "size": 10,
              "solidity": 0.2
             }
            },
            "type": "barpolar"
           }
          ],
          "carpet": [
           {
            "aaxis": {
             "endlinecolor": "#2a3f5f",
             "gridcolor": "white",
             "linecolor": "white",
             "minorgridcolor": "white",
             "startlinecolor": "#2a3f5f"
            },
            "baxis": {
             "endlinecolor": "#2a3f5f",
             "gridcolor": "white",
             "linecolor": "white",
             "minorgridcolor": "white",
             "startlinecolor": "#2a3f5f"
            },
            "type": "carpet"
           }
          ],
          "choropleth": [
           {
            "colorbar": {
             "outlinewidth": 0,
             "ticks": ""
            },
            "type": "choropleth"
           }
          ],
          "contour": [
           {
            "colorbar": {
             "outlinewidth": 0,
             "ticks": ""
            },
            "colorscale": [
             [
              0,
              "#0d0887"
             ],
             [
              0.1111111111111111,
              "#46039f"
             ],
             [
              0.2222222222222222,
              "#7201a8"
             ],
             [
              0.3333333333333333,
              "#9c179e"
             ],
             [
              0.4444444444444444,
              "#bd3786"
             ],
             [
              0.5555555555555556,
              "#d8576b"
             ],
             [
              0.6666666666666666,
              "#ed7953"
             ],
             [
              0.7777777777777778,
              "#fb9f3a"
             ],
             [
              0.8888888888888888,
              "#fdca26"
             ],
             [
              1,
              "#f0f921"
             ]
            ],
            "type": "contour"
           }
          ],
          "contourcarpet": [
           {
            "colorbar": {
             "outlinewidth": 0,
             "ticks": ""
            },
            "type": "contourcarpet"
           }
          ],
          "heatmap": [
           {
            "colorbar": {
             "outlinewidth": 0,
             "ticks": ""
            },
            "colorscale": [
             [
              0,
              "#0d0887"
             ],
             [
              0.1111111111111111,
              "#46039f"
             ],
             [
              0.2222222222222222,
              "#7201a8"
             ],
             [
              0.3333333333333333,
              "#9c179e"
             ],
             [
              0.4444444444444444,
              "#bd3786"
             ],
             [
              0.5555555555555556,
              "#d8576b"
             ],
             [
              0.6666666666666666,
              "#ed7953"
             ],
             [
              0.7777777777777778,
              "#fb9f3a"
             ],
             [
              0.8888888888888888,
              "#fdca26"
             ],
             [
              1,
              "#f0f921"
             ]
            ],
            "type": "heatmap"
           }
          ],
          "histogram": [
           {
            "marker": {
             "pattern": {
              "fillmode": "overlay",
              "size": 10,
              "solidity": 0.2
             }
            },
            "type": "histogram"
           }
          ],
          "histogram2d": [
           {
            "colorbar": {
             "outlinewidth": 0,
             "ticks": ""
            },
            "colorscale": [
             [
              0,
              "#0d0887"
             ],
             [
              0.1111111111111111,
              "#46039f"
             ],
             [
              0.2222222222222222,
              "#7201a8"
             ],
             [
              0.3333333333333333,
              "#9c179e"
             ],
             [
              0.4444444444444444,
              "#bd3786"
             ],
             [
              0.5555555555555556,
              "#d8576b"
             ],
             [
              0.6666666666666666,
              "#ed7953"
             ],
             [
              0.7777777777777778,
              "#fb9f3a"
             ],
             [
              0.8888888888888888,
              "#fdca26"
             ],
             [
              1,
              "#f0f921"
             ]
            ],
            "type": "histogram2d"
           }
          ],
          "histogram2dcontour": [
           {
            "colorbar": {
             "outlinewidth": 0,
             "ticks": ""
            },
            "colorscale": [
             [
              0,
              "#0d0887"
             ],
             [
              0.1111111111111111,
              "#46039f"
             ],
             [
              0.2222222222222222,
              "#7201a8"
             ],
             [
              0.3333333333333333,
              "#9c179e"
             ],
             [
              0.4444444444444444,
              "#bd3786"
             ],
             [
              0.5555555555555556,
              "#d8576b"
             ],
             [
              0.6666666666666666,
              "#ed7953"
             ],
             [
              0.7777777777777778,
              "#fb9f3a"
             ],
             [
              0.8888888888888888,
              "#fdca26"
             ],
             [
              1,
              "#f0f921"
             ]
            ],
            "type": "histogram2dcontour"
           }
          ],
          "mesh3d": [
           {
            "colorbar": {
             "outlinewidth": 0,
             "ticks": ""
            },
            "type": "mesh3d"
           }
          ],
          "parcoords": [
           {
            "line": {
             "colorbar": {
              "outlinewidth": 0,
              "ticks": ""
             }
            },
            "type": "parcoords"
           }
          ],
          "pie": [
           {
            "automargin": true,
            "type": "pie"
           }
          ],
          "scatter": [
           {
            "fillpattern": {
             "fillmode": "overlay",
             "size": 10,
             "solidity": 0.2
            },
            "type": "scatter"
           }
          ],
          "scatter3d": [
           {
            "line": {
             "colorbar": {
              "outlinewidth": 0,
              "ticks": ""
             }
            },
            "marker": {
             "colorbar": {
              "outlinewidth": 0,
              "ticks": ""
             }
            },
            "type": "scatter3d"
           }
          ],
          "scattercarpet": [
           {
            "marker": {
             "colorbar": {
              "outlinewidth": 0,
              "ticks": ""
             }
            },
            "type": "scattercarpet"
           }
          ],
          "scattergeo": [
           {
            "marker": {
             "colorbar": {
              "outlinewidth": 0,
              "ticks": ""
             }
            },
            "type": "scattergeo"
           }
          ],
          "scattergl": [
           {
            "marker": {
             "colorbar": {
              "outlinewidth": 0,
              "ticks": ""
             }
            },
            "type": "scattergl"
           }
          ],
          "scattermap": [
           {
            "marker": {
             "colorbar": {
              "outlinewidth": 0,
              "ticks": ""
             }
            },
            "type": "scattermap"
           }
          ],
          "scattermapbox": [
           {
            "marker": {
             "colorbar": {
              "outlinewidth": 0,
              "ticks": ""
             }
            },
            "type": "scattermapbox"
           }
          ],
          "scatterpolar": [
           {
            "marker": {
             "colorbar": {
              "outlinewidth": 0,
              "ticks": ""
             }
            },
            "type": "scatterpolar"
           }
          ],
          "scatterpolargl": [
           {
            "marker": {
             "colorbar": {
              "outlinewidth": 0,
              "ticks": ""
             }
            },
            "type": "scatterpolargl"
           }
          ],
          "scatterternary": [
           {
            "marker": {
             "colorbar": {
              "outlinewidth": 0,
              "ticks": ""
             }
            },
            "type": "scatterternary"
           }
          ],
          "surface": [
           {
            "colorbar": {
             "outlinewidth": 0,
             "ticks": ""
            },
            "colorscale": [
             [
              0,
              "#0d0887"
             ],
             [
              0.1111111111111111,
              "#46039f"
             ],
             [
              0.2222222222222222,
              "#7201a8"
             ],
             [
              0.3333333333333333,
              "#9c179e"
             ],
             [
              0.4444444444444444,
              "#bd3786"
             ],
             [
              0.5555555555555556,
              "#d8576b"
             ],
             [
              0.6666666666666666,
              "#ed7953"
             ],
             [
              0.7777777777777778,
              "#fb9f3a"
             ],
             [
              0.8888888888888888,
              "#fdca26"
             ],
             [
              1,
              "#f0f921"
             ]
            ],
            "type": "surface"
           }
          ],
          "table": [
           {
            "cells": {
             "fill": {
              "color": "#EBF0F8"
             },
             "line": {
              "color": "white"
             }
            },
            "header": {
             "fill": {
              "color": "#C8D4E3"
             },
             "line": {
              "color": "white"
             }
            },
            "type": "table"
           }
          ]
         },
         "layout": {
          "annotationdefaults": {
           "arrowcolor": "#2a3f5f",
           "arrowhead": 0,
           "arrowwidth": 1
          },
          "autotypenumbers": "strict",
          "coloraxis": {
           "colorbar": {
            "outlinewidth": 0,
            "ticks": ""
           }
          },
          "colorscale": {
           "diverging": [
            [
             0,
             "#8e0152"
            ],
            [
             0.1,
             "#c51b7d"
            ],
            [
             0.2,
             "#de77ae"
            ],
            [
             0.3,
             "#f1b6da"
            ],
            [
             0.4,
             "#fde0ef"
            ],
            [
             0.5,
             "#f7f7f7"
            ],
            [
             0.6,
             "#e6f5d0"
            ],
            [
             0.7,
             "#b8e186"
            ],
            [
             0.8,
             "#7fbc41"
            ],
            [
             0.9,
             "#4d9221"
            ],
            [
             1,
             "#276419"
            ]
           ],
           "sequential": [
            [
             0,
             "#0d0887"
            ],
            [
             0.1111111111111111,
             "#46039f"
            ],
            [
             0.2222222222222222,
             "#7201a8"
            ],
            [
             0.3333333333333333,
             "#9c179e"
            ],
            [
             0.4444444444444444,
             "#bd3786"
            ],
            [
             0.5555555555555556,
             "#d8576b"
            ],
            [
             0.6666666666666666,
             "#ed7953"
            ],
            [
             0.7777777777777778,
             "#fb9f3a"
            ],
            [
             0.8888888888888888,
             "#fdca26"
            ],
            [
             1,
             "#f0f921"
            ]
           ],
           "sequentialminus": [
            [
             0,
             "#0d0887"
            ],
            [
             0.1111111111111111,
             "#46039f"
            ],
            [
             0.2222222222222222,
             "#7201a8"
            ],
            [
             0.3333333333333333,
             "#9c179e"
            ],
            [
             0.4444444444444444,
             "#bd3786"
            ],
            [
             0.5555555555555556,
             "#d8576b"
            ],
            [
             0.6666666666666666,
             "#ed7953"
            ],
            [
             0.7777777777777778,
             "#fb9f3a"
            ],
            [
             0.8888888888888888,
             "#fdca26"
            ],
            [
             1,
             "#f0f921"
            ]
           ]
          },
          "colorway": [
           "#636efa",
           "#EF553B",
           "#00cc96",
           "#ab63fa",
           "#FFA15A",
           "#19d3f3",
           "#FF6692",
           "#B6E880",
           "#FF97FF",
           "#FECB52"
          ],
          "font": {
           "color": "#2a3f5f"
          },
          "geo": {
           "bgcolor": "white",
           "lakecolor": "white",
           "landcolor": "#E5ECF6",
           "showlakes": true,
           "showland": true,
           "subunitcolor": "white"
          },
          "hoverlabel": {
           "align": "left"
          },
          "hovermode": "closest",
          "mapbox": {
           "style": "light"
          },
          "paper_bgcolor": "white",
          "plot_bgcolor": "#E5ECF6",
          "polar": {
           "angularaxis": {
            "gridcolor": "white",
            "linecolor": "white",
            "ticks": ""
           },
           "bgcolor": "#E5ECF6",
           "radialaxis": {
            "gridcolor": "white",
            "linecolor": "white",
            "ticks": ""
           }
          },
          "scene": {
           "xaxis": {
            "backgroundcolor": "#E5ECF6",
            "gridcolor": "white",
            "gridwidth": 2,
            "linecolor": "white",
            "showbackground": true,
            "ticks": "",
            "zerolinecolor": "white"
           },
           "yaxis": {
            "backgroundcolor": "#E5ECF6",
            "gridcolor": "white",
            "gridwidth": 2,
            "linecolor": "white",
            "showbackground": true,
            "ticks": "",
            "zerolinecolor": "white"
           },
           "zaxis": {
            "backgroundcolor": "#E5ECF6",
            "gridcolor": "white",
            "gridwidth": 2,
            "linecolor": "white",
            "showbackground": true,
            "ticks": "",
            "zerolinecolor": "white"
           }
          },
          "shapedefaults": {
           "line": {
            "color": "#2a3f5f"
           }
          },
          "ternary": {
           "aaxis": {
            "gridcolor": "white",
            "linecolor": "white",
            "ticks": ""
           },
           "baxis": {
            "gridcolor": "white",
            "linecolor": "white",
            "ticks": ""
           },
           "bgcolor": "#E5ECF6",
           "caxis": {
            "gridcolor": "white",
            "linecolor": "white",
            "ticks": ""
           }
          },
          "title": {
           "x": 0.05
          },
          "xaxis": {
           "automargin": true,
           "gridcolor": "white",
           "linecolor": "white",
           "ticks": "",
           "title": {
            "standoff": 15
           },
           "zerolinecolor": "white",
           "zerolinewidth": 2
          },
          "yaxis": {
           "automargin": true,
           "gridcolor": "white",
           "linecolor": "white",
           "ticks": "",
           "title": {
            "standoff": 15
           },
           "zerolinecolor": "white",
           "zerolinewidth": 2
          }
         }
        },
        "xaxis": {
         "anchor": "y",
         "domain": [
          0,
          1
         ],
         "title": {
          "text": "x"
         }
        },
        "yaxis": {
         "anchor": "x",
         "domain": [
          0,
          1
         ],
         "title": {
          "text": "y"
         }
        }
       }
      }
     },
     "metadata": {},
     "output_type": "display_data"
    }
   ],
   "source": [
    "fig = px.bar(x = pos_plot.values,y = pos_plot.index)\n",
    "fig.show()"
   ]
  },
  {
   "cell_type": "code",
   "execution_count": 13,
   "id": "2ee7e66a",
   "metadata": {},
   "outputs": [
    {
     "data": {
      "application/vnd.plotly.v1+json": {
       "config": {
        "plotlyServerURL": "https://plot.ly"
       },
       "data": [
        {
         "hovertemplate": "x=%{x}<br>y=%{y}<extra></extra>",
         "legendgroup": "",
         "marker": {
          "color": "#636efa",
          "pattern": {
           "shape": ""
          }
         },
         "name": "",
         "orientation": "h",
         "showlegend": false,
         "textposition": "auto",
         "type": "bar",
         "x": {
          "bdata": "ugA=",
          "dtype": "i2"
         },
         "xaxis": "x",
         "y": [
          "Poor"
         ],
         "yaxis": "y"
        }
       ],
       "layout": {
        "barmode": "relative",
        "legend": {
         "tracegroupgap": 0
        },
        "margin": {
         "t": 60
        },
        "template": {
         "data": {
          "bar": [
           {
            "error_x": {
             "color": "#2a3f5f"
            },
            "error_y": {
             "color": "#2a3f5f"
            },
            "marker": {
             "line": {
              "color": "#E5ECF6",
              "width": 0.5
             },
             "pattern": {
              "fillmode": "overlay",
              "size": 10,
              "solidity": 0.2
             }
            },
            "type": "bar"
           }
          ],
          "barpolar": [
           {
            "marker": {
             "line": {
              "color": "#E5ECF6",
              "width": 0.5
             },
             "pattern": {
              "fillmode": "overlay",
              "size": 10,
              "solidity": 0.2
             }
            },
            "type": "barpolar"
           }
          ],
          "carpet": [
           {
            "aaxis": {
             "endlinecolor": "#2a3f5f",
             "gridcolor": "white",
             "linecolor": "white",
             "minorgridcolor": "white",
             "startlinecolor": "#2a3f5f"
            },
            "baxis": {
             "endlinecolor": "#2a3f5f",
             "gridcolor": "white",
             "linecolor": "white",
             "minorgridcolor": "white",
             "startlinecolor": "#2a3f5f"
            },
            "type": "carpet"
           }
          ],
          "choropleth": [
           {
            "colorbar": {
             "outlinewidth": 0,
             "ticks": ""
            },
            "type": "choropleth"
           }
          ],
          "contour": [
           {
            "colorbar": {
             "outlinewidth": 0,
             "ticks": ""
            },
            "colorscale": [
             [
              0,
              "#0d0887"
             ],
             [
              0.1111111111111111,
              "#46039f"
             ],
             [
              0.2222222222222222,
              "#7201a8"
             ],
             [
              0.3333333333333333,
              "#9c179e"
             ],
             [
              0.4444444444444444,
              "#bd3786"
             ],
             [
              0.5555555555555556,
              "#d8576b"
             ],
             [
              0.6666666666666666,
              "#ed7953"
             ],
             [
              0.7777777777777778,
              "#fb9f3a"
             ],
             [
              0.8888888888888888,
              "#fdca26"
             ],
             [
              1,
              "#f0f921"
             ]
            ],
            "type": "contour"
           }
          ],
          "contourcarpet": [
           {
            "colorbar": {
             "outlinewidth": 0,
             "ticks": ""
            },
            "type": "contourcarpet"
           }
          ],
          "heatmap": [
           {
            "colorbar": {
             "outlinewidth": 0,
             "ticks": ""
            },
            "colorscale": [
             [
              0,
              "#0d0887"
             ],
             [
              0.1111111111111111,
              "#46039f"
             ],
             [
              0.2222222222222222,
              "#7201a8"
             ],
             [
              0.3333333333333333,
              "#9c179e"
             ],
             [
              0.4444444444444444,
              "#bd3786"
             ],
             [
              0.5555555555555556,
              "#d8576b"
             ],
             [
              0.6666666666666666,
              "#ed7953"
             ],
             [
              0.7777777777777778,
              "#fb9f3a"
             ],
             [
              0.8888888888888888,
              "#fdca26"
             ],
             [
              1,
              "#f0f921"
             ]
            ],
            "type": "heatmap"
           }
          ],
          "histogram": [
           {
            "marker": {
             "pattern": {
              "fillmode": "overlay",
              "size": 10,
              "solidity": 0.2
             }
            },
            "type": "histogram"
           }
          ],
          "histogram2d": [
           {
            "colorbar": {
             "outlinewidth": 0,
             "ticks": ""
            },
            "colorscale": [
             [
              0,
              "#0d0887"
             ],
             [
              0.1111111111111111,
              "#46039f"
             ],
             [
              0.2222222222222222,
              "#7201a8"
             ],
             [
              0.3333333333333333,
              "#9c179e"
             ],
             [
              0.4444444444444444,
              "#bd3786"
             ],
             [
              0.5555555555555556,
              "#d8576b"
             ],
             [
              0.6666666666666666,
              "#ed7953"
             ],
             [
              0.7777777777777778,
              "#fb9f3a"
             ],
             [
              0.8888888888888888,
              "#fdca26"
             ],
             [
              1,
              "#f0f921"
             ]
            ],
            "type": "histogram2d"
           }
          ],
          "histogram2dcontour": [
           {
            "colorbar": {
             "outlinewidth": 0,
             "ticks": ""
            },
            "colorscale": [
             [
              0,
              "#0d0887"
             ],
             [
              0.1111111111111111,
              "#46039f"
             ],
             [
              0.2222222222222222,
              "#7201a8"
             ],
             [
              0.3333333333333333,
              "#9c179e"
             ],
             [
              0.4444444444444444,
              "#bd3786"
             ],
             [
              0.5555555555555556,
              "#d8576b"
             ],
             [
              0.6666666666666666,
              "#ed7953"
             ],
             [
              0.7777777777777778,
              "#fb9f3a"
             ],
             [
              0.8888888888888888,
              "#fdca26"
             ],
             [
              1,
              "#f0f921"
             ]
            ],
            "type": "histogram2dcontour"
           }
          ],
          "mesh3d": [
           {
            "colorbar": {
             "outlinewidth": 0,
             "ticks": ""
            },
            "type": "mesh3d"
           }
          ],
          "parcoords": [
           {
            "line": {
             "colorbar": {
              "outlinewidth": 0,
              "ticks": ""
             }
            },
            "type": "parcoords"
           }
          ],
          "pie": [
           {
            "automargin": true,
            "type": "pie"
           }
          ],
          "scatter": [
           {
            "fillpattern": {
             "fillmode": "overlay",
             "size": 10,
             "solidity": 0.2
            },
            "type": "scatter"
           }
          ],
          "scatter3d": [
           {
            "line": {
             "colorbar": {
              "outlinewidth": 0,
              "ticks": ""
             }
            },
            "marker": {
             "colorbar": {
              "outlinewidth": 0,
              "ticks": ""
             }
            },
            "type": "scatter3d"
           }
          ],
          "scattercarpet": [
           {
            "marker": {
             "colorbar": {
              "outlinewidth": 0,
              "ticks": ""
             }
            },
            "type": "scattercarpet"
           }
          ],
          "scattergeo": [
           {
            "marker": {
             "colorbar": {
              "outlinewidth": 0,
              "ticks": ""
             }
            },
            "type": "scattergeo"
           }
          ],
          "scattergl": [
           {
            "marker": {
             "colorbar": {
              "outlinewidth": 0,
              "ticks": ""
             }
            },
            "type": "scattergl"
           }
          ],
          "scattermap": [
           {
            "marker": {
             "colorbar": {
              "outlinewidth": 0,
              "ticks": ""
             }
            },
            "type": "scattermap"
           }
          ],
          "scattermapbox": [
           {
            "marker": {
             "colorbar": {
              "outlinewidth": 0,
              "ticks": ""
             }
            },
            "type": "scattermapbox"
           }
          ],
          "scatterpolar": [
           {
            "marker": {
             "colorbar": {
              "outlinewidth": 0,
              "ticks": ""
             }
            },
            "type": "scatterpolar"
           }
          ],
          "scatterpolargl": [
           {
            "marker": {
             "colorbar": {
              "outlinewidth": 0,
              "ticks": ""
             }
            },
            "type": "scatterpolargl"
           }
          ],
          "scatterternary": [
           {
            "marker": {
             "colorbar": {
              "outlinewidth": 0,
              "ticks": ""
             }
            },
            "type": "scatterternary"
           }
          ],
          "surface": [
           {
            "colorbar": {
             "outlinewidth": 0,
             "ticks": ""
            },
            "colorscale": [
             [
              0,
              "#0d0887"
             ],
             [
              0.1111111111111111,
              "#46039f"
             ],
             [
              0.2222222222222222,
              "#7201a8"
             ],
             [
              0.3333333333333333,
              "#9c179e"
             ],
             [
              0.4444444444444444,
              "#bd3786"
             ],
             [
              0.5555555555555556,
              "#d8576b"
             ],
             [
              0.6666666666666666,
              "#ed7953"
             ],
             [
              0.7777777777777778,
              "#fb9f3a"
             ],
             [
              0.8888888888888888,
              "#fdca26"
             ],
             [
              1,
              "#f0f921"
             ]
            ],
            "type": "surface"
           }
          ],
          "table": [
           {
            "cells": {
             "fill": {
              "color": "#EBF0F8"
             },
             "line": {
              "color": "white"
             }
            },
            "header": {
             "fill": {
              "color": "#C8D4E3"
             },
             "line": {
              "color": "white"
             }
            },
            "type": "table"
           }
          ]
         },
         "layout": {
          "annotationdefaults": {
           "arrowcolor": "#2a3f5f",
           "arrowhead": 0,
           "arrowwidth": 1
          },
          "autotypenumbers": "strict",
          "coloraxis": {
           "colorbar": {
            "outlinewidth": 0,
            "ticks": ""
           }
          },
          "colorscale": {
           "diverging": [
            [
             0,
             "#8e0152"
            ],
            [
             0.1,
             "#c51b7d"
            ],
            [
             0.2,
             "#de77ae"
            ],
            [
             0.3,
             "#f1b6da"
            ],
            [
             0.4,
             "#fde0ef"
            ],
            [
             0.5,
             "#f7f7f7"
            ],
            [
             0.6,
             "#e6f5d0"
            ],
            [
             0.7,
             "#b8e186"
            ],
            [
             0.8,
             "#7fbc41"
            ],
            [
             0.9,
             "#4d9221"
            ],
            [
             1,
             "#276419"
            ]
           ],
           "sequential": [
            [
             0,
             "#0d0887"
            ],
            [
             0.1111111111111111,
             "#46039f"
            ],
            [
             0.2222222222222222,
             "#7201a8"
            ],
            [
             0.3333333333333333,
             "#9c179e"
            ],
            [
             0.4444444444444444,
             "#bd3786"
            ],
            [
             0.5555555555555556,
             "#d8576b"
            ],
            [
             0.6666666666666666,
             "#ed7953"
            ],
            [
             0.7777777777777778,
             "#fb9f3a"
            ],
            [
             0.8888888888888888,
             "#fdca26"
            ],
            [
             1,
             "#f0f921"
            ]
           ],
           "sequentialminus": [
            [
             0,
             "#0d0887"
            ],
            [
             0.1111111111111111,
             "#46039f"
            ],
            [
             0.2222222222222222,
             "#7201a8"
            ],
            [
             0.3333333333333333,
             "#9c179e"
            ],
            [
             0.4444444444444444,
             "#bd3786"
            ],
            [
             0.5555555555555556,
             "#d8576b"
            ],
            [
             0.6666666666666666,
             "#ed7953"
            ],
            [
             0.7777777777777778,
             "#fb9f3a"
            ],
            [
             0.8888888888888888,
             "#fdca26"
            ],
            [
             1,
             "#f0f921"
            ]
           ]
          },
          "colorway": [
           "#636efa",
           "#EF553B",
           "#00cc96",
           "#ab63fa",
           "#FFA15A",
           "#19d3f3",
           "#FF6692",
           "#B6E880",
           "#FF97FF",
           "#FECB52"
          ],
          "font": {
           "color": "#2a3f5f"
          },
          "geo": {
           "bgcolor": "white",
           "lakecolor": "white",
           "landcolor": "#E5ECF6",
           "showlakes": true,
           "showland": true,
           "subunitcolor": "white"
          },
          "hoverlabel": {
           "align": "left"
          },
          "hovermode": "closest",
          "mapbox": {
           "style": "light"
          },
          "paper_bgcolor": "white",
          "plot_bgcolor": "#E5ECF6",
          "polar": {
           "angularaxis": {
            "gridcolor": "white",
            "linecolor": "white",
            "ticks": ""
           },
           "bgcolor": "#E5ECF6",
           "radialaxis": {
            "gridcolor": "white",
            "linecolor": "white",
            "ticks": ""
           }
          },
          "scene": {
           "xaxis": {
            "backgroundcolor": "#E5ECF6",
            "gridcolor": "white",
            "gridwidth": 2,
            "linecolor": "white",
            "showbackground": true,
            "ticks": "",
            "zerolinecolor": "white"
           },
           "yaxis": {
            "backgroundcolor": "#E5ECF6",
            "gridcolor": "white",
            "gridwidth": 2,
            "linecolor": "white",
            "showbackground": true,
            "ticks": "",
            "zerolinecolor": "white"
           },
           "zaxis": {
            "backgroundcolor": "#E5ECF6",
            "gridcolor": "white",
            "gridwidth": 2,
            "linecolor": "white",
            "showbackground": true,
            "ticks": "",
            "zerolinecolor": "white"
           }
          },
          "shapedefaults": {
           "line": {
            "color": "#2a3f5f"
           }
          },
          "ternary": {
           "aaxis": {
            "gridcolor": "white",
            "linecolor": "white",
            "ticks": ""
           },
           "baxis": {
            "gridcolor": "white",
            "linecolor": "white",
            "ticks": ""
           },
           "bgcolor": "#E5ECF6",
           "caxis": {
            "gridcolor": "white",
            "linecolor": "white",
            "ticks": ""
           }
          },
          "title": {
           "x": 0.05
          },
          "xaxis": {
           "automargin": true,
           "gridcolor": "white",
           "linecolor": "white",
           "ticks": "",
           "title": {
            "standoff": 15
           },
           "zerolinecolor": "white",
           "zerolinewidth": 2
          },
          "yaxis": {
           "automargin": true,
           "gridcolor": "white",
           "linecolor": "white",
           "ticks": "",
           "title": {
            "standoff": 15
           },
           "zerolinecolor": "white",
           "zerolinewidth": 2
          }
         }
        },
        "xaxis": {
         "anchor": "y",
         "domain": [
          0,
          1
         ],
         "title": {
          "text": "x"
         }
        },
        "yaxis": {
         "anchor": "x",
         "domain": [
          0,
          1
         ],
         "title": {
          "text": "y"
         }
        }
       }
      }
     },
     "metadata": {},
     "output_type": "display_data"
    }
   ],
   "source": [
    "img = px.bar(x = neg_plot.values,y = neg_plot.index)\n",
    "img.show()"
   ]
  },
  {
   "cell_type": "markdown",
   "id": "dd84933e",
   "metadata": {},
   "source": [
    "# So here we were asked to do the text analysis like we were asked to Analyze the text reviews to identify the most common positive and negative keywords so for the text analysis I have used the isin function like first I saw the content of the Rating text columns using value_counts function so there I found like the complete review was not given it was in the form of Excellent, Very Good, Good, Average and Poor so in order to analyze this I used the isin function first I created data frames for positive and negative review respectively and named them as the pos_df and neg_df an and I used the isin function there basically in python for text analysis isin function is used extensively so I have also used the same and segregated the positive I have grouped Excellent, Very Good and Good in the pos_df and poor in the neg_df and after doing this I checked the pos_df value_counts and felt that plotting it would give a clear inference so I created a object for it named pos_df where and for the plot I used x = pos_plot.values and for y = pos_plot.index the same I have done for neg_plot also as shown in the above cell "
   ]
  },
  {
   "cell_type": "code",
   "execution_count": 46,
   "id": "f743f194",
   "metadata": {},
   "outputs": [
    {
     "data": {
      "text/plain": [
       "Rating text\n",
       "Excellent    851.770764\n",
       "Very Good    520.458758\n",
       "Good         229.351429\n",
       "Poor          90.715054\n",
       "Average       48.249130\n",
       "Not rated      0.870112\n",
       "Name: Votes, dtype: float64"
      ]
     },
     "execution_count": 46,
     "metadata": {},
     "output_type": "execute_result"
    }
   ],
   "source": [
    "# 2. Calculate the average length of reviews and explore if there is a relationship between review length and rating.\n",
    "avg_Votes = df.groupby('Rating text')['Votes'].mean().sort_values(ascending=False)\n",
    "avg_Votes"
   ]
  },
  {
   "cell_type": "code",
   "execution_count": 52,
   "id": "d968fd4d",
   "metadata": {},
   "outputs": [
    {
     "data": {
      "image/png": "[encoded data removed]",
      "text/plain": [
       "<Figure size 640x480 with 1 Axes>"
      ]
     },
     "metadata": {},
     "output_type": "display_data"
    }
   ],
   "source": [
    "plot = sns.barplot(x = avg_Votes.index, y = avg_Votes.values)\n",
    "for x in plot.containers:\n",
    "    plot.bar_label(x)\n",
    "plt.ylabel(\"Average votes\")\n",
    "plt.xlabel(\"Rating text\")\n",
    "plt.show()"
   ]
  },
  {
   "cell_type": "markdown",
   "id": "9952ba1e",
   "metadata": {},
   "source": [
    "# Here first we have done the groupby on rating text and applied mean to the Votes column and further using barplot we have plotted it as shown in the above cells"
   ]
  },
  {
   "cell_type": "markdown",
   "id": "13bfc6e5",
   "metadata": {},
   "source": [
    "# LEVEL 3 TASK 1 COMPLETED SUCCESSFULLY "
   ]
  },
  {
   "cell_type": "markdown",
   "id": "82dc1e1c",
   "metadata": {},
   "source": [
    "# Task 2: Votes Analysis\n",
    "# 1. Identify the restaurants with the highest and lowest number of votes.\n",
    "# 2. Analyze if there is a correlation between the number of votes and the rating of a restaurant."
   ]
  },
  {
   "cell_type": "code",
   "execution_count": 15,
   "id": "cc672043",
   "metadata": {},
   "outputs": [
    {
     "data": {
      "application/vnd.microsoft.datawrangler.viewer.v0+json": {
       "columns": [
        {
         "name": "Restaurant Name",
         "rawType": "object",
         "type": "string"
        },
        {
         "name": "Votes",
         "rawType": "int64",
         "type": "integer"
        }
       ],
       "conversionMethod": "pd.DataFrame",
       "ref": "2e209642-9b35-4257-82c1-ef79428d3164",
       "rows": [
        [
         "Toit",
         "10934"
        ],
        [
         "Truffles",
         "9667"
        ],
        [
         "Hauz Khas Social",
         "7931"
        ],
        [
         "Peter Cat",
         "7574"
        ],
        [
         "AB's - Absolute Barbecues",
         "6907"
        ]
       ],
       "shape": {
        "columns": 1,
        "rows": 5
       }
      },
      "text/html": [
       "<div>\n",
       "<style scoped>\n",
       "    .dataframe tbody tr th:only-of-type {\n",
       "        vertical-align: middle;\n",
       "    }\n",
       "\n",
       "    .dataframe tbody tr th {\n",
       "        vertical-align: top;\n",
       "    }\n",
       "\n",
       "    .dataframe thead th {\n",
       "        text-align: right;\n",
       "    }\n",
       "</style>\n",
       "<table border=\"1\" class=\"dataframe\">\n",
       "  <thead>\n",
       "    <tr style=\"text-align: right;\">\n",
       "      <th></th>\n",
       "      <th>Votes</th>\n",
       "    </tr>\n",
       "    <tr>\n",
       "      <th>Restaurant Name</th>\n",
       "      <th></th>\n",
       "    </tr>\n",
       "  </thead>\n",
       "  <tbody>\n",
       "    <tr>\n",
       "      <th>Toit</th>\n",
       "      <td>10934</td>\n",
       "    </tr>\n",
       "    <tr>\n",
       "      <th>Truffles</th>\n",
       "      <td>9667</td>\n",
       "    </tr>\n",
       "    <tr>\n",
       "      <th>Hauz Khas Social</th>\n",
       "      <td>7931</td>\n",
       "    </tr>\n",
       "    <tr>\n",
       "      <th>Peter Cat</th>\n",
       "      <td>7574</td>\n",
       "    </tr>\n",
       "    <tr>\n",
       "      <th>AB's - Absolute Barbecues</th>\n",
       "      <td>6907</td>\n",
       "    </tr>\n",
       "  </tbody>\n",
       "</table>\n",
       "</div>"
      ],
      "text/plain": [
       "                           Votes\n",
       "Restaurant Name                 \n",
       "Toit                       10934\n",
       "Truffles                    9667\n",
       "Hauz Khas Social            7931\n",
       "Peter Cat                   7574\n",
       "AB's - Absolute Barbecues   6907"
      ]
     },
     "execution_count": 15,
     "metadata": {},
     "output_type": "execute_result"
    }
   ],
   "source": [
    "# 1. Identify the restaurants with the highest and lowest number of votes.\n",
    "highest_votes = df.groupby('Restaurant Name').agg({'Votes':'max'}).sort_values(by='Votes',ascending=False)\n",
    "highest_votes.head()"
   ]
  },
  {
   "cell_type": "code",
   "execution_count": 16,
   "id": "353d82a7",
   "metadata": {},
   "outputs": [
    {
     "data": {
      "application/vnd.microsoft.datawrangler.viewer.v0+json": {
       "columns": [
        {
         "name": "Restaurant Name",
         "rawType": "object",
         "type": "string"
        },
        {
         "name": "Votes",
         "rawType": "int64",
         "type": "integer"
        }
       ],
       "conversionMethod": "pd.DataFrame",
       "ref": "35732d26-3c29-444e-980c-a0de18a6515f",
       "rows": [
        [
         "Cafe Lounge",
         "0"
        ],
        [
         "Cafe Krisa",
         "0"
        ],
        [
         "Cafe Hot Pot",
         "0"
        ],
        [
         "Cafe Point",
         "0"
        ],
        [
         "Cafe Treat",
         "0"
        ]
       ],
       "shape": {
        "columns": 1,
        "rows": 5
       }
      },
      "text/html": [
       "<div>\n",
       "<style scoped>\n",
       "    .dataframe tbody tr th:only-of-type {\n",
       "        vertical-align: middle;\n",
       "    }\n",
       "\n",
       "    .dataframe tbody tr th {\n",
       "        vertical-align: top;\n",
       "    }\n",
       "\n",
       "    .dataframe thead th {\n",
       "        text-align: right;\n",
       "    }\n",
       "</style>\n",
       "<table border=\"1\" class=\"dataframe\">\n",
       "  <thead>\n",
       "    <tr style=\"text-align: right;\">\n",
       "      <th></th>\n",
       "      <th>Votes</th>\n",
       "    </tr>\n",
       "    <tr>\n",
       "      <th>Restaurant Name</th>\n",
       "      <th></th>\n",
       "    </tr>\n",
       "  </thead>\n",
       "  <tbody>\n",
       "    <tr>\n",
       "      <th>Cafe Lounge</th>\n",
       "      <td>0</td>\n",
       "    </tr>\n",
       "    <tr>\n",
       "      <th>Cafe Krisa</th>\n",
       "      <td>0</td>\n",
       "    </tr>\n",
       "    <tr>\n",
       "      <th>Cafe Hot Pot</th>\n",
       "      <td>0</td>\n",
       "    </tr>\n",
       "    <tr>\n",
       "      <th>Cafe Point</th>\n",
       "      <td>0</td>\n",
       "    </tr>\n",
       "    <tr>\n",
       "      <th>Cafe Treat</th>\n",
       "      <td>0</td>\n",
       "    </tr>\n",
       "  </tbody>\n",
       "</table>\n",
       "</div>"
      ],
      "text/plain": [
       "                 Votes\n",
       "Restaurant Name       \n",
       "Cafe Lounge          0\n",
       "Cafe Krisa           0\n",
       "Cafe Hot Pot         0\n",
       "Cafe Point           0\n",
       "Cafe Treat           0"
      ]
     },
     "execution_count": 16,
     "metadata": {},
     "output_type": "execute_result"
    }
   ],
   "source": [
    "lowest_votes= df.groupby('Restaurant Name').agg({'Votes':'min'}).sort_values(by='Votes')\n",
    "lowest_votes.head()"
   ]
  },
  {
   "cell_type": "markdown",
   "id": "1b5244bc",
   "metadata": {},
   "source": [
    "# So here we were asked to Identify the restaurants with the highest and lowest number of votes. \n",
    "# So the restaurant with the highest votes and lowest votes is as follows: \n",
    "# --> *Toit 10934* \n",
    "# --> *Cafe Lounge 0* and many more restaurants are given with 0 votes "
   ]
  },
  {
   "cell_type": "code",
   "execution_count": 17,
   "id": "f5f663a2",
   "metadata": {},
   "outputs": [],
   "source": [
    "# 2.Analyze if there is a correlation between the number of votes and the rating of a restaurant.\n",
    "C = df[['Votes','Aggregate rating']].corr()"
   ]
  },
  {
   "cell_type": "code",
   "execution_count": 18,
   "id": "e5f5daac",
   "metadata": {},
   "outputs": [
    {
     "data": {
      "image/png": "[encoded data removed]",
      "text/plain": [
       "<Figure size 1500x1000 with 2 Axes>"
      ]
     },
     "metadata": {},
     "output_type": "display_data"
    }
   ],
   "source": [
    "plt.figure(figsize=(15,10))\n",
    "sns.heatmap(C,annot=True)\n",
    "plt.show()"
   ]
  },
  {
   "cell_type": "markdown",
   "id": "38e015df",
   "metadata": {},
   "source": [
    "# So here we were asked to Analyze if there is a correlation between the number of votes and the rating of a restaurant.\n",
    "# So for that we have first applied the corr function to the votes and rating column and then plotted a heat map as shown above.\n",
    "# The conclusion from the heatmap is that there is a positive correlation which exits b/w the Votes and aggregate rating i.e., higher the rating higher is the votes"
   ]
  },
  {
   "cell_type": "markdown",
   "id": "6230bb54",
   "metadata": {},
   "source": [
    "# *LEVEL 3 TASK 2 COMPLETED SUCCESSFULLY*"
   ]
  },
  {
   "cell_type": "markdown",
   "id": "6d8c4ff9",
   "metadata": {},
   "source": [
    "# TASK 3: Price Range vs. Online Delivery and Table Booking\n",
    "# 1.Analyze if there is a relationship between the price range and the availability of online delivery and table booking.\n",
    "# 2.Determine if higher-priced restaurants are more likely to offer these services."
   ]
  },
  {
   "cell_type": "code",
   "execution_count": 19,
   "id": "366d3059",
   "metadata": {},
   "outputs": [
    {
     "data": {
      "application/vnd.microsoft.datawrangler.viewer.v0+json": {
       "columns": [
        {
         "name": "index",
         "rawType": "int64",
         "type": "integer"
        },
        {
         "name": "Price range",
         "rawType": "int64",
         "type": "integer"
        },
        {
         "name": "Has Table booking",
         "rawType": "object",
         "type": "string"
        },
        {
         "name": "Has Online delivery",
         "rawType": "object",
         "type": "string"
        }
       ],
       "conversionMethod": "pd.DataFrame",
       "ref": "cb5116c3-fd9a-4fc9-b192-3b1a285c4f48",
       "rows": [
        [
         "0",
         "3",
         "Yes",
         "No"
        ],
        [
         "1",
         "3",
         "Yes",
         "No"
        ],
        [
         "2",
         "4",
         "Yes",
         "No"
        ],
        [
         "3",
         "4",
         "No",
         "No"
        ],
        [
         "4",
         "4",
         "Yes",
         "No"
        ],
        [
         "5",
         "3",
         "No",
         "No"
        ],
        [
         "6",
         "4",
         "Yes",
         "No"
        ],
        [
         "7",
         "4",
         "Yes",
         "No"
        ],
        [
         "8",
         "4",
         "Yes",
         "No"
        ],
        [
         "9",
         "3",
         "Yes",
         "No"
        ],
        [
         "10",
         "3",
         "No",
         "No"
        ],
        [
         "11",
         "3",
         "Yes",
         "No"
        ],
        [
         "12",
         "3",
         "No",
         "No"
        ],
        [
         "13",
         "3",
         "Yes",
         "No"
        ],
        [
         "14",
         "3",
         "No",
         "No"
        ],
        [
         "15",
         "3",
         "No",
         "No"
        ],
        [
         "16",
         "3",
         "No",
         "No"
        ],
        [
         "17",
         "3",
         "Yes",
         "No"
        ],
        [
         "18",
         "2",
         "No",
         "No"
        ],
        [
         "19",
         "4",
         "Yes",
         "No"
        ],
        [
         "20",
         "4",
         "Yes",
         "No"
        ],
        [
         "21",
         "4",
         "Yes",
         "No"
        ],
        [
         "22",
         "2",
         "No",
         "No"
        ],
        [
         "23",
         "1",
         "No",
         "No"
        ],
        [
         "24",
         "2",
         "No",
         "No"
        ],
        [
         "25",
         "3",
         "No",
         "No"
        ],
        [
         "26",
         "2",
         "No",
         "No"
        ],
        [
         "27",
         "3",
         "No",
         "No"
        ],
        [
         "28",
         "3",
         "No",
         "No"
        ],
        [
         "29",
         "4",
         "No",
         "No"
        ],
        [
         "30",
         "1",
         "No",
         "No"
        ],
        [
         "31",
         "4",
         "No",
         "No"
        ],
        [
         "32",
         "4",
         "No",
         "No"
        ],
        [
         "33",
         "3",
         "No",
         "No"
        ],
        [
         "34",
         "4",
         "No",
         "No"
        ],
        [
         "35",
         "4",
         "No",
         "No"
        ],
        [
         "36",
         "4",
         "No",
         "No"
        ],
        [
         "37",
         "4",
         "No",
         "No"
        ],
        [
         "38",
         "4",
         "No",
         "No"
        ],
        [
         "39",
         "4",
         "No",
         "No"
        ],
        [
         "40",
         "4",
         "No",
         "No"
        ],
        [
         "41",
         "2",
         "No",
         "No"
        ],
        [
         "42",
         "4",
         "No",
         "No"
        ],
        [
         "43",
         "4",
         "No",
         "No"
        ],
        [
         "44",
         "3",
         "No",
         "No"
        ],
        [
         "45",
         "3",
         "No",
         "No"
        ],
        [
         "46",
         "4",
         "No",
         "No"
        ],
        [
         "47",
         "3",
         "No",
         "No"
        ],
        [
         "48",
         "4",
         "No",
         "No"
        ],
        [
         "49",
         "3",
         "No",
         "No"
        ]
       ],
       "shape": {
        "columns": 3,
        "rows": 9551
       }
      },
      "text/html": [
       "<div>\n",
       "<style scoped>\n",
       "    .dataframe tbody tr th:only-of-type {\n",
       "        vertical-align: middle;\n",
       "    }\n",
       "\n",
       "    .dataframe tbody tr th {\n",
       "        vertical-align: top;\n",
       "    }\n",
       "\n",
       "    .dataframe thead th {\n",
       "        text-align: right;\n",
       "    }\n",
       "</style>\n",
       "<table border=\"1\" class=\"dataframe\">\n",
       "  <thead>\n",
       "    <tr style=\"text-align: right;\">\n",
       "      <th></th>\n",
       "      <th>Price range</th>\n",
       "      <th>Has Table booking</th>\n",
       "      <th>Has Online delivery</th>\n",
       "    </tr>\n",
       "  </thead>\n",
       "  <tbody>\n",
       "    <tr>\n",
       "      <th>0</th>\n",
       "      <td>3</td>\n",
       "      <td>Yes</td>\n",
       "      <td>No</td>\n",
       "    </tr>\n",
       "    <tr>\n",
       "      <th>1</th>\n",
       "      <td>3</td>\n",
       "      <td>Yes</td>\n",
       "      <td>No</td>\n",
       "    </tr>\n",
       "    <tr>\n",
       "      <th>2</th>\n",
       "      <td>4</td>\n",
       "      <td>Yes</td>\n",
       "      <td>No</td>\n",
       "    </tr>\n",
       "    <tr>\n",
       "      <th>3</th>\n",
       "      <td>4</td>\n",
       "      <td>No</td>\n",
       "      <td>No</td>\n",
       "    </tr>\n",
       "    <tr>\n",
       "      <th>4</th>\n",
       "      <td>4</td>\n",
       "      <td>Yes</td>\n",
       "      <td>No</td>\n",
       "    </tr>\n",
       "    <tr>\n",
       "      <th>...</th>\n",
       "      <td>...</td>\n",
       "      <td>...</td>\n",
       "      <td>...</td>\n",
       "    </tr>\n",
       "    <tr>\n",
       "      <th>9546</th>\n",
       "      <td>3</td>\n",
       "      <td>No</td>\n",
       "      <td>No</td>\n",
       "    </tr>\n",
       "    <tr>\n",
       "      <th>9547</th>\n",
       "      <td>3</td>\n",
       "      <td>No</td>\n",
       "      <td>No</td>\n",
       "    </tr>\n",
       "    <tr>\n",
       "      <th>9548</th>\n",
       "      <td>4</td>\n",
       "      <td>No</td>\n",
       "      <td>No</td>\n",
       "    </tr>\n",
       "    <tr>\n",
       "      <th>9549</th>\n",
       "      <td>4</td>\n",
       "      <td>No</td>\n",
       "      <td>No</td>\n",
       "    </tr>\n",
       "    <tr>\n",
       "      <th>9550</th>\n",
       "      <td>2</td>\n",
       "      <td>No</td>\n",
       "      <td>No</td>\n",
       "    </tr>\n",
       "  </tbody>\n",
       "</table>\n",
       "<p>9551 rows × 3 columns</p>\n",
       "</div>"
      ],
      "text/plain": [
       "      Price range Has Table booking Has Online delivery\n",
       "0               3               Yes                  No\n",
       "1               3               Yes                  No\n",
       "2               4               Yes                  No\n",
       "3               4                No                  No\n",
       "4               4               Yes                  No\n",
       "...           ...               ...                 ...\n",
       "9546            3                No                  No\n",
       "9547            3                No                  No\n",
       "9548            4                No                  No\n",
       "9549            4                No                  No\n",
       "9550            2                No                  No\n",
       "\n",
       "[9551 rows x 3 columns]"
      ]
     },
     "execution_count": 19,
     "metadata": {},
     "output_type": "execute_result"
    }
   ],
   "source": [
    "# 1.Analyze if there is a relationship between the price range and the availability of online delivery and table booking.\n",
    "df[['Price range','Has Table booking','Has Online delivery']]"
   ]
  },
  {
   "cell_type": "code",
   "execution_count": 20,
   "id": "2d0e7990",
   "metadata": {},
   "outputs": [
    {
     "data": {
      "text/plain": [
       "Has Online delivery\n",
       "No     7100\n",
       "Yes    2451\n",
       "Name: count, dtype: int64"
      ]
     },
     "execution_count": 20,
     "metadata": {},
     "output_type": "execute_result"
    }
   ],
   "source": [
    "df['Has Online delivery'].value_counts()"
   ]
  },
  {
   "cell_type": "code",
   "execution_count": 21,
   "id": "a8d678d4",
   "metadata": {},
   "outputs": [
    {
     "data": {
      "text/plain": [
       "Has Table booking\n",
       "No     8393\n",
       "Yes    1158\n",
       "Name: count, dtype: int64"
      ]
     },
     "execution_count": 21,
     "metadata": {},
     "output_type": "execute_result"
    }
   ],
   "source": [
    "df['Has Table booking'].value_counts()"
   ]
  },
  {
   "cell_type": "code",
   "execution_count": 22,
   "id": "994f71c8",
   "metadata": {},
   "outputs": [
    {
     "name": "stdout",
     "output_type": "stream",
     "text": [
      "The percentage of restaurants that provide the online delivery service: 25.662234321013504\n"
     ]
    }
   ],
   "source": [
    "# Checking the % of restaurants that provide online delivery service \n",
    "total_hds = 2451 \n",
    "percentage_hds = (total_hds/9551)\n",
    "print(\"The percentage of restaurants that provide the online delivery service:\",percentage_hds*100)"
   ]
  },
  {
   "cell_type": "code",
   "execution_count": 23,
   "id": "d8c4a84c",
   "metadata": {},
   "outputs": [
    {
     "name": "stdout",
     "output_type": "stream",
     "text": [
      "The percentage of restaurants that provide the table booking facility: 12.124384881164275\n"
     ]
    }
   ],
   "source": [
    "# Checking the % of restaurants that table booking facility\n",
    "total_htb = 1158\n",
    "percentage_htb = (total_htb/9551)\n",
    "print(\"The percentage of restaurants that provide the table booking facility:\",percentage_htb*100)"
   ]
  },
  {
   "cell_type": "code",
   "execution_count": 24,
   "id": "b1810cac",
   "metadata": {},
   "outputs": [
    {
     "data": {
      "image/png": "[encoded data removed]",
      "text/plain": [
       "<Figure size 640x480 with 1 Axes>"
      ]
     },
     "metadata": {},
     "output_type": "display_data"
    }
   ],
   "source": [
    "ax = sns.barplot(x = df['Has Online delivery'], y = df['Price range'],hue=df['Has Table booking'])\n",
    "for x in ax.containers:\n",
    "    ax.bar_label(x)\n",
    "plt.show()"
   ]
  },
  {
   "cell_type": "code",
   "execution_count": 27,
   "id": "fd108232",
   "metadata": {},
   "outputs": [
    {
     "name": "stdout",
     "output_type": "stream",
     "text": [
      "<class 'pandas.core.frame.DataFrame'>\n",
      "RangeIndex: 9551 entries, 0 to 9550\n",
      "Data columns (total 21 columns):\n",
      " #   Column                Non-Null Count  Dtype  \n",
      "---  ------                --------------  -----  \n",
      " 0   Restaurant ID         9551 non-null   int64  \n",
      " 1   Restaurant Name       9551 non-null   object \n",
      " 2   Country Code          9551 non-null   int64  \n",
      " 3   City                  9551 non-null   object \n",
      " 4   Address               9551 non-null   object \n",
      " 5   Locality              9551 non-null   object \n",
      " 6   Locality Verbose      9551 non-null   object \n",
      " 7   Longitude             9551 non-null   float64\n",
      " 8   Latitude              9551 non-null   float64\n",
      " 9   Cuisines              9542 non-null   object \n",
      " 10  Average Cost for two  9551 non-null   int64  \n",
      " 11  Currency              9551 non-null   object \n",
      " 12  Has Table booking     9551 non-null   object \n",
      " 13  Has Online delivery   9551 non-null   object \n",
      " 14  Is delivering now     9551 non-null   object \n",
      " 15  Switch to order menu  9551 non-null   object \n",
      " 16  Price range           9551 non-null   int64  \n",
      " 17  Aggregate rating      9551 non-null   float64\n",
      " 18  Rating color          9551 non-null   object \n",
      " 19  Rating text           9551 non-null   object \n",
      " 20  Votes                 9551 non-null   int64  \n",
      "dtypes: float64(3), int64(5), object(13)\n",
      "memory usage: 1.5+ MB\n"
     ]
    }
   ],
   "source": [
    "df.info()"
   ]
  },
  {
   "cell_type": "code",
   "execution_count": 29,
   "id": "77894f23",
   "metadata": {},
   "outputs": [
    {
     "data": {
      "text/plain": [
       "0        True\n",
       "1        True\n",
       "2        True\n",
       "3        True\n",
       "4        True\n",
       "        ...  \n",
       "9546     True\n",
       "9547     True\n",
       "9548     True\n",
       "9549     True\n",
       "9550    False\n",
       "Name: Price range, Length: 9551, dtype: bool"
      ]
     },
     "execution_count": 29,
     "metadata": {},
     "output_type": "execute_result"
    }
   ],
   "source": [
    "# 2.Determine if higher-priced restaurants are more likely to offer these services. \n",
    "df['Price range']>=3"
   ]
  },
  {
   "cell_type": "code",
   "execution_count": 39,
   "id": "1f66bd42",
   "metadata": {},
   "outputs": [
    {
     "data": {
      "application/vnd.microsoft.datawrangler.viewer.v0+json": {
       "columns": [
        {
         "name": "index",
         "rawType": "int64",
         "type": "integer"
        },
        {
         "name": "Restaurant ID",
         "rawType": "int64",
         "type": "integer"
        },
        {
         "name": "Restaurant Name",
         "rawType": "object",
         "type": "string"
        },
        {
         "name": "Country Code",
         "rawType": "int64",
         "type": "integer"
        },
        {
         "name": "City",
         "rawType": "object",
         "type": "string"
        },
        {
         "name": "Address",
         "rawType": "object",
         "type": "string"
        },
        {
         "name": "Locality",
         "rawType": "object",
         "type": "string"
        },
        {
         "name": "Locality Verbose",
         "rawType": "object",
         "type": "string"
        },
        {
         "name": "Longitude",
         "rawType": "float64",
         "type": "float"
        },
        {
         "name": "Latitude",
         "rawType": "float64",
         "type": "float"
        },
        {
         "name": "Cuisines",
         "rawType": "object",
         "type": "unknown"
        },
        {
         "name": "Average Cost for two",
         "rawType": "int64",
         "type": "integer"
        },
        {
         "name": "Currency",
         "rawType": "object",
         "type": "string"
        },
        {
         "name": "Has Table booking",
         "rawType": "object",
         "type": "string"
        },
        {
         "name": "Has Online delivery",
         "rawType": "object",
         "type": "string"
        },
        {
         "name": "Is delivering now",
         "rawType": "object",
         "type": "string"
        },
        {
         "name": "Switch to order menu",
         "rawType": "object",
         "type": "string"
        },
        {
         "name": "Price range",
         "rawType": "int64",
         "type": "integer"
        },
        {
         "name": "Aggregate rating",
         "rawType": "float64",
         "type": "float"
        },
        {
         "name": "Rating color",
         "rawType": "object",
         "type": "string"
        },
        {
         "name": "Rating text",
         "rawType": "object",
         "type": "string"
        },
        {
         "name": "Votes",
         "rawType": "int64",
         "type": "integer"
        }
       ],
       "conversionMethod": "pd.DataFrame",
       "ref": "818a3183-27f6-4843-b901-2e48f2384a62",
       "rows": [
        [
         "0",
         "6317637",
         "Le Petit Souffle",
         "162",
         "Makati City",
         "Third Floor, Century City Mall, Kalayaan Avenue, Poblacion, Makati City",
         "Century City Mall, Poblacion, Makati City",
         "Century City Mall, Poblacion, Makati City, Makati City",
         "121.027535",
         "14.565443",
         "French, Japanese, Desserts",
         "1100",
         "Botswana Pula(P)",
         "Yes",
         "No",
         "No",
         "No",
         "3",
         "4.8",
         "Dark Green",
         "Excellent",
         "314"
        ],
        [
         "1",
         "6304287",
         "Izakaya Kikufuji",
         "162",
         "Makati City",
         "Little Tokyo, 2277 Chino Roces Avenue, Legaspi Village, Makati City",
         "Little Tokyo, Legaspi Village, Makati City",
         "Little Tokyo, Legaspi Village, Makati City, Makati City",
         "121.014101",
         "14.553708",
         "Japanese",
         "1200",
         "Botswana Pula(P)",
         "Yes",
         "No",
         "No",
         "No",
         "3",
         "4.5",
         "Dark Green",
         "Excellent",
         "591"
        ],
        [
         "2",
         "6300002",
         "Heat - Edsa Shangri-La",
         "162",
         "Mandaluyong City",
         "Edsa Shangri-La, 1 Garden Way, Ortigas, Mandaluyong City",
         "Edsa Shangri-La, Ortigas, Mandaluyong City",
         "Edsa Shangri-La, Ortigas, Mandaluyong City, Mandaluyong City",
         "121.056831",
         "14.581404",
         "Seafood, Asian, Filipino, Indian",
         "4000",
         "Botswana Pula(P)",
         "Yes",
         "No",
         "No",
         "No",
         "4",
         "4.4",
         "Green",
         "Very Good",
         "270"
        ],
        [
         "3",
         "6318506",
         "Ooma",
         "162",
         "Mandaluyong City",
         "Third Floor, Mega Fashion Hall, SM Megamall, Ortigas, Mandaluyong City",
         "SM Megamall, Ortigas, Mandaluyong City",
         "SM Megamall, Ortigas, Mandaluyong City, Mandaluyong City",
         "121.056475",
         "14.585318",
         "Japanese, Sushi",
         "1500",
         "Botswana Pula(P)",
         "No",
         "No",
         "No",
         "No",
         "4",
         "4.9",
         "Dark Green",
         "Excellent",
         "365"
        ],
        [
         "4",
         "6314302",
         "Sambo Kojin",
         "162",
         "Mandaluyong City",
         "Third Floor, Mega Atrium, SM Megamall, Ortigas, Mandaluyong City",
         "SM Megamall, Ortigas, Mandaluyong City",
         "SM Megamall, Ortigas, Mandaluyong City, Mandaluyong City",
         "121.057508",
         "14.58445",
         "Japanese, Korean",
         "1500",
         "Botswana Pula(P)",
         "Yes",
         "No",
         "No",
         "No",
         "4",
         "4.8",
         "Dark Green",
         "Excellent",
         "229"
        ],
        [
         "5",
         "18189371",
         "Din Tai Fung",
         "162",
         "Mandaluyong City",
         "Ground Floor, Mega Fashion Hall, SM Megamall, Ortigas, Mandaluyong City",
         "SM Megamall, Ortigas, Mandaluyong City",
         "SM Megamall, Ortigas, Mandaluyong City, Mandaluyong City",
         "121.056314",
         "14.583764",
         "Chinese",
         "1000",
         "Botswana Pula(P)",
         "No",
         "No",
         "No",
         "No",
         "3",
         "4.4",
         "Green",
         "Very Good",
         "336"
        ],
        [
         "6",
         "6300781",
         "Buffet 101",
         "162",
         "Pasay City",
         "Building K, SM By The Bay, Sunset Boulevard, Mall of Asia Complex (MOA), Pasay City",
         "SM by the Bay, Mall of Asia Complex, Pasay City",
         "SM by the Bay, Mall of Asia Complex, Pasay City, Pasay City",
         "120.9796667",
         "14.53133333",
         "Asian, European",
         "2000",
         "Botswana Pula(P)",
         "Yes",
         "No",
         "No",
         "No",
         "4",
         "4.0",
         "Green",
         "Very Good",
         "520"
        ],
        [
         "7",
         "6301290",
         "Vikings",
         "162",
         "Pasay City",
         "Building B, By The Bay, Seaside Boulevard, Mall of Asia Complex (MOA), Pasay City",
         "SM by the Bay, Mall of Asia Complex, Pasay City",
         "SM by the Bay, Mall of Asia Complex, Pasay City, Pasay City",
         "120.9793333",
         "14.54",
         "Seafood, Filipino, Asian, European",
         "2000",
         "Botswana Pula(P)",
         "Yes",
         "No",
         "No",
         "No",
         "4",
         "4.2",
         "Green",
         "Very Good",
         "677"
        ],
        [
         "8",
         "6300010",
         "Spiral - Sofitel Philippine Plaza Manila",
         "162",
         "Pasay City",
         "Plaza Level, Sofitel Philippine Plaza Manila, CCP Complex, Pasay City",
         "Sofitel Philippine Plaza Manila, Pasay City",
         "Sofitel Philippine Plaza Manila, Pasay City, Pasay City",
         "120.98009",
         "14.55299",
         "European, Asian, Indian",
         "6000",
         "Botswana Pula(P)",
         "Yes",
         "No",
         "No",
         "No",
         "4",
         "4.9",
         "Dark Green",
         "Excellent",
         "621"
        ],
        [
         "9",
         "6314987",
         "Locavore",
         "162",
         "Pasig City",
         "Brixton Technology Center, 10 Brixton Street, Kapitolyo, Pasig City",
         "Kapitolyo",
         "Kapitolyo, Pasig City",
         "121.056532",
         "14.572041",
         "Filipino",
         "1100",
         "Botswana Pula(P)",
         "Yes",
         "No",
         "No",
         "No",
         "3",
         "4.8",
         "Dark Green",
         "Excellent",
         "532"
        ],
        [
         "10",
         "6309903",
         "Silantro Fil-Mex",
         "162",
         "Pasig City",
         "75 East Capitol Drive, Kapitolyo, Pasig City",
         "Kapitolyo",
         "Kapitolyo, Pasig City",
         "121.057916",
         "14.567689",
         "Filipino, Mexican",
         "800",
         "Botswana Pula(P)",
         "No",
         "No",
         "No",
         "No",
         "3",
         "4.9",
         "Dark Green",
         "Excellent",
         "1070"
        ],
        [
         "11",
         "6309455",
         "Mad Mark's Creamery & Good Eats",
         "162",
         "Pasig City",
         "23 East Capitol Drive, Kapitolyo, Pasig City",
         "Kapitolyo",
         "Kapitolyo, Pasig City",
         "121.06082",
         "14.570849",
         "American, Ice Cream, Desserts",
         "900",
         "Botswana Pula(P)",
         "Yes",
         "No",
         "No",
         "No",
         "3",
         "4.2",
         "Green",
         "Very Good",
         "488"
        ],
        [
         "12",
         "6318433",
         "Silantro Fil-Mex",
         "162",
         "Quezon City",
         "Second Floor, UP Town Center, Katipunan Avenue, Diliman, Quezon City",
         "UP Town Center, Diliman, Quezon City",
         "UP Town Center, Diliman, Quezon City, Quezon City",
         "121.075419",
         "14.649503",
         "Filipino, Mexican",
         "800",
         "Botswana Pula(P)",
         "No",
         "No",
         "No",
         "No",
         "3",
         "4.8",
         "Dark Green",
         "Excellent",
         "294"
        ],
        [
         "13",
         "6310470",
         "Guevarra's",
         "162",
         "San Juan City",
         "387 P. Guevarra Corner Argonne Street, Addition Hills, San Juan City",
         "Addition Hills",
         "Addition Hills, San Juan City",
         "121.0335917",
         "14.59345",
         "Filipino",
         "1000",
         "Botswana Pula(P)",
         "Yes",
         "No",
         "No",
         "No",
         "3",
         "4.2",
         "Green",
         "Very Good",
         "458"
        ],
        [
         "14",
         "6314605",
         "Sodam Korean Restaurant",
         "162",
         "San Juan City",
         "17 J. Abad Santos Drive, Little Baguio, San Juan City",
         "Little Baguio",
         "Little Baguio, San Juan City",
         "121.03811",
         "14.59889",
         "Korean",
         "700",
         "Botswana Pula(P)",
         "No",
         "No",
         "No",
         "No",
         "3",
         "4.3",
         "Green",
         "Very Good",
         "223"
        ],
        [
         "15",
         "18185059",
         "Cafe Arabelle",
         "162",
         "Santa Rosa",
         "Ayala Mall, Solenad, Nuvali, Santa Rosa - Tagaytay Road, Don Jose, Santa Rosa",
         "Nuvali, Don Jose, Santa Rosa",
         "Nuvali, Don Jose, Santa Rosa, Santa Rosa",
         "121.05704",
         "14.237082",
         "Cafe, American, Italian, Filipino",
         "800",
         "Botswana Pula(P)",
         "No",
         "No",
         "No",
         "No",
         "3",
         "3.6",
         "Yellow",
         "Good",
         "29"
        ],
        [
         "16",
         "18182702",
         "Nonna's Pasta & Pizzeria",
         "162",
         "Santa Rosa",
         "Ground Floor, Building G, Solenad 3, Nuvali, Don Jose, Santa Rosa",
         "Solenad 3, Don Jose, Santa Rosa",
         "Solenad 3, Don Jose, Santa Rosa, Santa Rosa",
         "121.0565874",
         "14.23767897",
         "Italian, Pizza",
         "850",
         "Botswana Pula(P)",
         "No",
         "No",
         "No",
         "No",
         "3",
         "4.0",
         "Green",
         "Very Good",
         "72"
        ],
        [
         "17",
         "6318213",
         "Balay Dako",
         "162",
         "Tagaytay City",
         "Aguinaldo Highway, Tagaytay City",
         "Tagaytay City",
         "Tagaytay City, Tagaytay City",
         "120.951589",
         "14.101834",
         "Filipino",
         "1200",
         "Botswana Pula(P)",
         "Yes",
         "No",
         "No",
         "No",
         "3",
         "4.5",
         "Dark Green",
         "Excellent",
         "211"
        ],
        [
         "19",
         "6308205",
         "Wildflour Cafe + Bakery",
         "162",
         "Taguig City",
         "Ground Floor, Netlima Building, 4th Avenue Corner 26th Street, Bonifacio Global City, Taguig City",
         "Bonifacio Global City",
         "Bonifacio Global City, Taguig City",
         "121.04622",
         "14.549337",
         "Cafe, Bakery, American, Italian",
         "1500",
         "Botswana Pula(P)",
         "Yes",
         "No",
         "No",
         "No",
         "4",
         "4.4",
         "Green",
         "Very Good",
         "392"
        ],
        [
         "20",
         "6315438",
         "NIU by Vikings",
         "162",
         "Taguig City",
         "Sixth Floor, SM Aura Premier, C5 Road Corner 26th Street, Bonifacio Global City, Taguig City",
         "SM Aura Premier, Bonifacio Global City, Taguig City",
         "SM Aura Premier, Bonifacio Global City, Taguig City, Taguig City",
         "121.053725",
         "14.545858",
         "Seafood, American, Mediterranean, Japanese",
         "3000",
         "Botswana Pula(P)",
         "Yes",
         "No",
         "No",
         "No",
         "4",
         "4.7",
         "Dark Green",
         "Excellent",
         "535"
        ],
        [
         "21",
         "6310406",
         "The Food Hall by Todd English",
         "162",
         "Taguig City",
         "Fifth Floor, SM Aura Premier, C5 Corner 26th Street, Bonifacio Global City, Taguig City",
         "SM Aura Premier, Bonifacio Global City, Taguig City",
         "SM Aura Premier, Bonifacio Global City, Taguig City, Taguig City",
         "121.0534998",
         "14.54565535",
         "American, Asian, Italian, Seafood",
         "1800",
         "Botswana Pula(P)",
         "Yes",
         "No",
         "No",
         "No",
         "4",
         "4.5",
         "Dark Green",
         "Excellent",
         "618"
        ],
        [
         "25",
         "6600441",
         "Maori",
         "30",
         "Bras�_lia",
         "CLN 110, Bloco D, Loja 28, Asa Norte, Bras�_lia",
         "Asa Norte",
         "Asa Norte, Bras�_lia",
         "-47.88816667",
         "-15.75883333",
         "Brazilian",
         "60",
         "Brazilian Real(R$)",
         "No",
         "No",
         "No",
         "No",
         "3",
         "3.8",
         "Yellow",
         "Good",
         "11"
        ],
        [
         "27",
         "6600379",
         "Sushi Loko",
         "30",
         "Bras�_lia",
         "SCS 213, Bloco C, Loja 35, Asa Sul, Bras�_lia",
         "Asa Sul",
         "Asa Sul, Bras�_lia",
         "-47.91566667",
         "-15.831",
         "Japanese",
         "80",
         "Brazilian Real(R$)",
         "No",
         "No",
         "No",
         "No",
         "3",
         "3.1",
         "Orange",
         "Average",
         "10"
        ],
        [
         "28",
         "6600214",
         "Beirute",
         "30",
         "Bras�_lia",
         "CLS 109, Bloco A, Loja 2/6, Asa Sul, Bras�_lia",
         "Asa Sul",
         "Asa Sul, Bras�_lia",
         "-47.9075",
         "-15.82",
         "Arabian",
         "90",
         "Brazilian Real(R$)",
         "No",
         "No",
         "No",
         "No",
         "3",
         "3.7",
         "Yellow",
         "Good",
         "8"
        ],
        [
         "29",
         "6601218",
         "New Koto",
         "30",
         "Bras�_lia",
         "SCS 212, Bloco B, Loja 26, Asa Sul, Bras�_lia",
         "Asa Sul",
         "Asa Sul, Bras�_lia",
         "-47.91016667",
         "-15.82733333",
         "Japanese",
         "200",
         "Brazilian Real(R$)",
         "No",
         "No",
         "No",
         "No",
         "4",
         "3.7",
         "Yellow",
         "Good",
         "5"
        ],
        [
         "31",
         "6600083",
         "Villa Tevere",
         "30",
         "Bras�_lia",
         "CLS 115, Bloco A, Loja 2, Asa Sul, Bras�_lia",
         "Asa Sul",
         "Asa Sul, Bras�_lia",
         "-47.92366667",
         "-15.83133333",
         "Italian",
         "150",
         "Brazilian Real(R$)",
         "No",
         "No",
         "No",
         "No",
         "4",
         "4.1",
         "Green",
         "Very Good",
         "12"
        ],
        [
         "32",
         "6601515",
         "Rovereto",
         "30",
         "Bras�_lia",
         "Rua 13 Norte, Lote 4, �guas Claras, Bras�_lia",
         "�guas Claras",
         "�guas Claras, Bras�_lia",
         "-48.019",
         "-15.83716667",
         "Pizza",
         "100",
         "Brazilian Real(R$)",
         "No",
         "No",
         "No",
         "No",
         "4",
         "3.1",
         "Orange",
         "Average",
         "9"
        ],
        [
         "33",
         "6601361",
         "Buena Carne",
         "30",
         "Bras�_lia",
         "Avenida Arauc��rias, 1325, Loja 19, �guas Claras, Bras�_lia",
         "�guas Claras",
         "�guas Claras, Bras�_lia",
         "-48.01909167",
         "-15.839775",
         "Bar Food, Brazilian",
         "60",
         "Brazilian Real(R$)",
         "No",
         "No",
         "No",
         "No",
         "3",
         "3.6",
         "Yellow",
         "Good",
         "9"
        ],
        [
         "34",
         "6601602",
         "Taco Pep",
         "30",
         "Bras�_lia",
         "Vila Malls, Avenida das Castanheiras, Lote 1060, �guas Claras, Bras�_lia",
         "�guas Claras",
         "�guas Claras, Bras�_lia",
         "-48.01666667",
         "-15.83483333",
         "Mexican, Grill",
         "100",
         "Brazilian Real(R$)",
         "No",
         "No",
         "No",
         "No",
         "4",
         "4.3",
         "Green",
         "Very Good",
         "29"
        ],
        [
         "35",
         "6601589",
         "Coco Bambu",
         "30",
         "Bras�_lia",
         "Bras�_lia Shopping - Piso 2, SCN 5, Bloco A, Asa Norte, Bras�_lia",
         "Bras�_lia Shopping, Asa Norte",
         "Bras�_lia Shopping, Asa Norte, Bras�_lia",
         "-47.889",
         "-15.7865",
         "International",
         "230",
         "Brazilian Real(R$)",
         "No",
         "No",
         "No",
         "No",
         "4",
         "4.2",
         "Green",
         "Very Good",
         "17"
        ],
        [
         "36",
         "6601862",
         "Tayp��",
         "30",
         "Bras�_lia",
         "Fashion Park, Shis Ql 17, Bloco G, Loja 208, Lago Sul, Bras�_lia",
         "Lago Sul",
         "Lago Sul, Bras�_lia",
         "-47.872359",
         "-15.860621",
         "Peruvian, Latin American",
         "100",
         "Brazilian Real(R$)",
         "No",
         "No",
         "No",
         "No",
         "4",
         "3.6",
         "Yellow",
         "Good",
         "5"
        ],
        [
         "37",
         "6601595",
         "Outback Steakhouse",
         "30",
         "Bras�_lia",
         "ParkShopping - Piso 2, SAI/SO, �rea 6580, Guar�� I, Bras�_lia",
         "ParkShopping, Guar�� I",
         "ParkShopping, Guar�� I, Bras�_lia",
         "-47.95628333",
         "-15.83451389",
         "American, Grill",
         "150",
         "Brazilian Real(R$)",
         "No",
         "No",
         "No",
         "No",
         "4",
         "4.0",
         "Green",
         "Very Good",
         "10"
        ],
        [
         "38",
         "6601158",
         "Manzu��",
         "30",
         "Bras�_lia",
         "Pont��o Lago Sul, SHIS 10, Lote 9, Lago Sul, Bras�_lia",
         "Pont��o Lago Sul, Lago Sul",
         "Pont��o Lago Sul, Lago Sul, Bras�_lia",
         "-47.87283333",
         "-15.82566667",
         "Seafood",
         "240",
         "Brazilian Real(R$)",
         "No",
         "No",
         "No",
         "No",
         "4",
         "3.2",
         "Orange",
         "Average",
         "6"
        ],
        [
         "39",
         "6600427",
         "Coco Bambu",
         "30",
         "Bras�_lia",
         "SCES, Trecho 2, Conjunto 13/36, Setor de Clubes Esportivos Sul, Bras�_lia",
         "Setor De Clubes Esportivos Sul",
         "Setor De Clubes Esportivos Sul, Bras�_lia",
         "-47.8685",
         "-15.819",
         "International",
         "230",
         "Brazilian Real(R$)",
         "No",
         "No",
         "No",
         "No",
         "4",
         "4.9",
         "Dark Green",
         "Excellent",
         "30"
        ],
        [
         "40",
         "6600116",
         "Gero",
         "30",
         "Bras�_lia",
         "Shopping Iguatemi - piso 1, SHIN CA 4, Lote A, Lago Norte, Bras�_lia",
         "Shopping Iguatemi, Lago Norte",
         "Shopping Iguatemi, Lago Norte, Bras�_lia",
         "-47.885812",
         "-15.720118",
         "Italian",
         "350",
         "Brazilian Real(R$)",
         "No",
         "No",
         "No",
         "No",
         "4",
         "3.3",
         "Orange",
         "Average",
         "8"
        ],
        [
         "42",
         "7303219",
         "Pesqueiro Eco Gourmet",
         "30",
         "Rio de Janeiro",
         "Praia da Barra da Tijuca, Avenida L�_cio Costa, Ilha 25, Barra da Tijuca, Rio de Janeiro",
         "Barra da Tijuca",
         "Barra da Tijuca, Rio de Janeiro",
         "-43.377",
         "-23.0115",
         "Seafood, Bar Food, Brazilian",
         "140",
         "Brazilian Real(R$)",
         "No",
         "No",
         "No",
         "No",
         "4",
         "4.0",
         "Green",
         "Very Good",
         "7"
        ],
        [
         "43",
         "7304307",
         "Confeitaria Colombo",
         "30",
         "Rio de Janeiro",
         "Rua Gon�_alves Dias, 32, Centro, Rio de Janeiro",
         "Centro",
         "Centro, Rio de Janeiro",
         "-43.178826",
         "-22.905293",
         "Desserts, Cafe",
         "100",
         "Brazilian Real(R$)",
         "No",
         "No",
         "No",
         "No",
         "4",
         "4.8",
         "Dark Green",
         "Excellent",
         "29"
        ],
        [
         "44",
         "7301215",
         "Bibi",
         "30",
         "Rio de Janeiro",
         "Rua Santa Clara, 36, Copabana, Rio de Janeiro",
         "Copacabana",
         "Copacabana, Rio de Janeiro",
         "-43.18669167",
         "-22.97207222",
         "Juices, Healthy Food",
         "60",
         "Brazilian Real(R$)",
         "No",
         "No",
         "No",
         "No",
         "3",
         "4.7",
         "Dark Green",
         "Excellent",
         "24"
        ],
        [
         "45",
         "7300596",
         "Cervantes",
         "30",
         "Rio de Janeiro",
         "Avenida Prado Junior, 335 B, Copacabana, Rio de Janeiro",
         "Copacabana",
         "Copacabana, Rio de Janeiro",
         "-43.17583333",
         "-22.96216667",
         "Beverages, Bar Food, Fast Food",
         "90",
         "Brazilian Real(R$)",
         "No",
         "No",
         "No",
         "No",
         "3",
         "4.5",
         "Dark Green",
         "Excellent",
         "29"
        ],
        [
         "46",
         "7300612",
         "Amir",
         "30",
         "Rio de Janeiro",
         "Rua Ronald de Carvalho, 55, Copacabana, Rio de Janeiro",
         "Copacabana",
         "Copacabana, Rio de Janeiro",
         "-43.176",
         "-22.96516667",
         "Lebanese",
         "170",
         "Brazilian Real(R$)",
         "No",
         "No",
         "No",
         "No",
         "4",
         "4.2",
         "Green",
         "Very Good",
         "11"
        ],
        [
         "47",
         "7300704",
         "TT Burger",
         "30",
         "Rio de Janeiro",
         "Galeria River, Rua Francisco Otaviano, 67, Copacabana, Rio de Janeiro",
         "Galeria River, Copacabana",
         "Galeria River, Copacabana, Rio de Janeiro",
         "-43.191",
         "-22.98683333",
         "Burger",
         "60",
         "Brazilian Real(R$)",
         "No",
         "No",
         "No",
         "No",
         "3",
         "4.8",
         "Dark Green",
         "Excellent",
         "19"
        ],
        [
         "48",
         "7300955",
         "Braseiro da G��vea",
         "30",
         "Rio de Janeiro",
         "Pra�_a Santos Dumont, 116, G��vea, Rio de Janeiro",
         "G��vea",
         "G��vea, Rio de Janeiro",
         "-43.227042",
         "-22.973507",
         "Brazilian, Bar Food",
         "100",
         "Brazilian Real(R$)",
         "No",
         "No",
         "No",
         "No",
         "4",
         "4.9",
         "Dark Green",
         "Excellent",
         "40"
        ],
        [
         "49",
         "7300521",
         "Balada Mix",
         "30",
         "Rio de Janeiro",
         "Rua An�_bal de Mendon�_a, 37, Ipanema, Rio de Janeiro",
         "Ipanema",
         "Ipanema, Rio de Janeiro",
         "-43.211425",
         "-22.98520833",
         "Brazilian, Healthy Food, Juices, Pizza",
         "90",
         "Brazilian Real(R$)",
         "No",
         "No",
         "No",
         "No",
         "3",
         "4.6",
         "Dark Green",
         "Excellent",
         "21"
        ],
        [
         "50",
         "7300515",
         "Garota de Ipanema",
         "30",
         "Rio de Janeiro",
         "Rua Vinicius de Moraes, 49, Ipanema, Rio de Janeiro",
         "Ipanema",
         "Ipanema, Rio de Janeiro",
         "-43.203",
         "-22.98533333",
         "Brazilian, Bar Food",
         "120",
         "Brazilian Real(R$)",
         "No",
         "No",
         "No",
         "No",
         "4",
         "4.9",
         "Dark Green",
         "Excellent",
         "49"
        ],
        [
         "51",
         "7300483",
         "Zaz�� Bistr�� Tropical",
         "30",
         "Rio de Janeiro",
         "Rua Joana Ang��lica, 40, Ipanema, Rio de Janeiro",
         "Ipanema",
         "Ipanema, Rio de Janeiro",
         "-43.20520833",
         "-22.98531944",
         "Brazilian",
         "170",
         "Brazilian Real(R$)",
         "No",
         "No",
         "No",
         "No",
         "4",
         "4.6",
         "Dark Green",
         "Excellent",
         "21"
        ],
        [
         "52",
         "7301064",
         "Fil�� de Ouro",
         "30",
         "Rio de Janeiro",
         "Rua Jardim Bot��nico, 731, Jardim Bot��nico, Lagoa, Rio de Janeiro",
         "Lagoa",
         "Lagoa, Rio de Janeiro",
         "-43.219563",
         "-22.966647",
         "Brazilian",
         "90",
         "Brazilian Real(R$)",
         "No",
         "No",
         "No",
         "No",
         "3",
         "4.3",
         "Green",
         "Very Good",
         "14"
        ],
        [
         "53",
         "7304312",
         "D.O.C Ristorante",
         "30",
         "Rio de Janeiro",
         "Le Monde, Bloco 3, Lojas A/B, Avenida das Am��ricas, 3500, Barra da Tijuca, Rio de Janeiro",
         "Le Monde, Barra da Tijuca",
         "Le Monde, Barra da Tijuca, Rio de Janeiro",
         "-43.34879167",
         "-22.99991111",
         "Italian",
         "150",
         "Brazilian Real(R$)",
         "No",
         "No",
         "No",
         "No",
         "4",
         "4.0",
         "Green",
         "Very Good",
         "5"
        ],
        [
         "54",
         "7300004",
         "Sushi Leblon",
         "30",
         "Rio de Janeiro",
         "Rua Dias Ferreira, 256, Leblon, Rio de Janeiro",
         "Leblon",
         "Leblon, Rio de Janeiro",
         "-43.227",
         "-22.98416667",
         "Japanese",
         "250",
         "Brazilian Real(R$)",
         "No",
         "No",
         "No",
         "No",
         "4",
         "4.6",
         "Dark Green",
         "Excellent",
         "25"
        ],
        [
         "55",
         "7300868",
         "Talho Capixaba",
         "30",
         "Rio de Janeiro",
         "Avenida Ataulfo de Paiva, 1022, Lojas A e B, Leblon, Rio de Janeiro",
         "Leblon",
         "Leblon, Rio de Janeiro",
         "-43.22566667",
         "-22.98516667",
         "Bakery, Sandwich, Brazilian",
         "120",
         "Brazilian Real(R$)",
         "No",
         "No",
         "No",
         "No",
         "4",
         "4.4",
         "Green",
         "Very Good",
         "13"
        ],
        [
         "57",
         "7302140",
         "Shirley",
         "30",
         "Rio de Janeiro",
         "Rua Gustavo Sampaio, 610, Leme, Rio de Janeiro",
         "Leme",
         "Leme, Rio de Janeiro",
         "-43.17126389",
         "-22.96337222",
         "Brazilian, Seafood",
         "250",
         "Brazilian Real(R$)",
         "No",
         "No",
         "No",
         "No",
         "4",
         "4.2",
         "Green",
         "Very Good",
         "8"
        ]
       ],
       "shape": {
        "columns": 21,
        "rows": 1994
       }
      },
      "text/html": [
       "<div>\n",
       "<style scoped>\n",
       "    .dataframe tbody tr th:only-of-type {\n",
       "        vertical-align: middle;\n",
       "    }\n",
       "\n",
       "    .dataframe tbody tr th {\n",
       "        vertical-align: top;\n",
       "    }\n",
       "\n",
       "    .dataframe thead th {\n",
       "        text-align: right;\n",
       "    }\n",
       "</style>\n",
       "<table border=\"1\" class=\"dataframe\">\n",
       "  <thead>\n",
       "    <tr style=\"text-align: right;\">\n",
       "      <th></th>\n",
       "      <th>Restaurant ID</th>\n",
       "      <th>Restaurant Name</th>\n",
       "      <th>Country Code</th>\n",
       "      <th>City</th>\n",
       "      <th>Address</th>\n",
       "      <th>Locality</th>\n",
       "      <th>Locality Verbose</th>\n",
       "      <th>Longitude</th>\n",
       "      <th>Latitude</th>\n",
       "      <th>Cuisines</th>\n",
       "      <th>...</th>\n",
       "      <th>Currency</th>\n",
       "      <th>Has Table booking</th>\n",
       "      <th>Has Online delivery</th>\n",
       "      <th>Is delivering now</th>\n",
       "      <th>Switch to order menu</th>\n",
       "      <th>Price range</th>\n",
       "      <th>Aggregate rating</th>\n",
       "      <th>Rating color</th>\n",
       "      <th>Rating text</th>\n",
       "      <th>Votes</th>\n",
       "    </tr>\n",
       "  </thead>\n",
       "  <tbody>\n",
       "    <tr>\n",
       "      <th>0</th>\n",
       "      <td>6317637</td>\n",
       "      <td>Le Petit Souffle</td>\n",
       "      <td>162</td>\n",
       "      <td>Makati City</td>\n",
       "      <td>Third Floor, Century City Mall, Kalayaan Avenu...</td>\n",
       "      <td>Century City Mall, Poblacion, Makati City</td>\n",
       "      <td>Century City Mall, Poblacion, Makati City, Mak...</td>\n",
       "      <td>121.027535</td>\n",
       "      <td>14.565443</td>\n",
       "      <td>French, Japanese, Desserts</td>\n",
       "      <td>...</td>\n",
       "      <td>Botswana Pula(P)</td>\n",
       "      <td>Yes</td>\n",
       "      <td>No</td>\n",
       "      <td>No</td>\n",
       "      <td>No</td>\n",
       "      <td>3</td>\n",
       "      <td>4.8</td>\n",
       "      <td>Dark Green</td>\n",
       "      <td>Excellent</td>\n",
       "      <td>314</td>\n",
       "    </tr>\n",
       "    <tr>\n",
       "      <th>1</th>\n",
       "      <td>6304287</td>\n",
       "      <td>Izakaya Kikufuji</td>\n",
       "      <td>162</td>\n",
       "      <td>Makati City</td>\n",
       "      <td>Little Tokyo, 2277 Chino Roces Avenue, Legaspi...</td>\n",
       "      <td>Little Tokyo, Legaspi Village, Makati City</td>\n",
       "      <td>Little Tokyo, Legaspi Village, Makati City, Ma...</td>\n",
       "      <td>121.014101</td>\n",
       "      <td>14.553708</td>\n",
       "      <td>Japanese</td>\n",
       "      <td>...</td>\n",
       "      <td>Botswana Pula(P)</td>\n",
       "      <td>Yes</td>\n",
       "      <td>No</td>\n",
       "      <td>No</td>\n",
       "      <td>No</td>\n",
       "      <td>3</td>\n",
       "      <td>4.5</td>\n",
       "      <td>Dark Green</td>\n",
       "      <td>Excellent</td>\n",
       "      <td>591</td>\n",
       "    </tr>\n",
       "    <tr>\n",
       "      <th>2</th>\n",
       "      <td>6300002</td>\n",
       "      <td>Heat - Edsa Shangri-La</td>\n",
       "      <td>162</td>\n",
       "      <td>Mandaluyong City</td>\n",
       "      <td>Edsa Shangri-La, 1 Garden Way, Ortigas, Mandal...</td>\n",
       "      <td>Edsa Shangri-La, Ortigas, Mandaluyong City</td>\n",
       "      <td>Edsa Shangri-La, Ortigas, Mandaluyong City, Ma...</td>\n",
       "      <td>121.056831</td>\n",
       "      <td>14.581404</td>\n",
       "      <td>Seafood, Asian, Filipino, Indian</td>\n",
       "      <td>...</td>\n",
       "      <td>Botswana Pula(P)</td>\n",
       "      <td>Yes</td>\n",
       "      <td>No</td>\n",
       "      <td>No</td>\n",
       "      <td>No</td>\n",
       "      <td>4</td>\n",
       "      <td>4.4</td>\n",
       "      <td>Green</td>\n",
       "      <td>Very Good</td>\n",
       "      <td>270</td>\n",
       "    </tr>\n",
       "    <tr>\n",
       "      <th>3</th>\n",
       "      <td>6318506</td>\n",
       "      <td>Ooma</td>\n",
       "      <td>162</td>\n",
       "      <td>Mandaluyong City</td>\n",
       "      <td>Third Floor, Mega Fashion Hall, SM Megamall, O...</td>\n",
       "      <td>SM Megamall, Ortigas, Mandaluyong City</td>\n",
       "      <td>SM Megamall, Ortigas, Mandaluyong City, Mandal...</td>\n",
       "      <td>121.056475</td>\n",
       "      <td>14.585318</td>\n",
       "      <td>Japanese, Sushi</td>\n",
       "      <td>...</td>\n",
       "      <td>Botswana Pula(P)</td>\n",
       "      <td>No</td>\n",
       "      <td>No</td>\n",
       "      <td>No</td>\n",
       "      <td>No</td>\n",
       "      <td>4</td>\n",
       "      <td>4.9</td>\n",
       "      <td>Dark Green</td>\n",
       "      <td>Excellent</td>\n",
       "      <td>365</td>\n",
       "    </tr>\n",
       "    <tr>\n",
       "      <th>4</th>\n",
       "      <td>6314302</td>\n",
       "      <td>Sambo Kojin</td>\n",
       "      <td>162</td>\n",
       "      <td>Mandaluyong City</td>\n",
       "      <td>Third Floor, Mega Atrium, SM Megamall, Ortigas...</td>\n",
       "      <td>SM Megamall, Ortigas, Mandaluyong City</td>\n",
       "      <td>SM Megamall, Ortigas, Mandaluyong City, Mandal...</td>\n",
       "      <td>121.057508</td>\n",
       "      <td>14.584450</td>\n",
       "      <td>Japanese, Korean</td>\n",
       "      <td>...</td>\n",
       "      <td>Botswana Pula(P)</td>\n",
       "      <td>Yes</td>\n",
       "      <td>No</td>\n",
       "      <td>No</td>\n",
       "      <td>No</td>\n",
       "      <td>4</td>\n",
       "      <td>4.8</td>\n",
       "      <td>Dark Green</td>\n",
       "      <td>Excellent</td>\n",
       "      <td>229</td>\n",
       "    </tr>\n",
       "    <tr>\n",
       "      <th>...</th>\n",
       "      <td>...</td>\n",
       "      <td>...</td>\n",
       "      <td>...</td>\n",
       "      <td>...</td>\n",
       "      <td>...</td>\n",
       "      <td>...</td>\n",
       "      <td>...</td>\n",
       "      <td>...</td>\n",
       "      <td>...</td>\n",
       "      <td>...</td>\n",
       "      <td>...</td>\n",
       "      <td>...</td>\n",
       "      <td>...</td>\n",
       "      <td>...</td>\n",
       "      <td>...</td>\n",
       "      <td>...</td>\n",
       "      <td>...</td>\n",
       "      <td>...</td>\n",
       "      <td>...</td>\n",
       "      <td>...</td>\n",
       "      <td>...</td>\n",
       "    </tr>\n",
       "    <tr>\n",
       "      <th>9545</th>\n",
       "      <td>5915054</td>\n",
       "      <td>Baltazar</td>\n",
       "      <td>208</td>\n",
       "      <td>��stanbul</td>\n",
       "      <td>Kemanke�� Karamustafa Pa��a Mahallesi, K۱l۱�_ ...</td>\n",
       "      <td>Karak�_y</td>\n",
       "      <td>Karak�_y, ��stanbul</td>\n",
       "      <td>28.981103</td>\n",
       "      <td>41.025785</td>\n",
       "      <td>Burger, Izgara</td>\n",
       "      <td>...</td>\n",
       "      <td>Turkish Lira(TL)</td>\n",
       "      <td>No</td>\n",
       "      <td>No</td>\n",
       "      <td>No</td>\n",
       "      <td>No</td>\n",
       "      <td>3</td>\n",
       "      <td>4.3</td>\n",
       "      <td>Green</td>\n",
       "      <td>Very Good</td>\n",
       "      <td>870</td>\n",
       "    </tr>\n",
       "    <tr>\n",
       "      <th>9546</th>\n",
       "      <td>5915730</td>\n",
       "      <td>Naml۱ Gurme</td>\n",
       "      <td>208</td>\n",
       "      <td>��stanbul</td>\n",
       "      <td>Kemanke�� Karamustafa Pa��a Mahallesi, R۱ht۱m ...</td>\n",
       "      <td>Karak�_y</td>\n",
       "      <td>Karak�_y, ��stanbul</td>\n",
       "      <td>28.977392</td>\n",
       "      <td>41.022793</td>\n",
       "      <td>Turkish</td>\n",
       "      <td>...</td>\n",
       "      <td>Turkish Lira(TL)</td>\n",
       "      <td>No</td>\n",
       "      <td>No</td>\n",
       "      <td>No</td>\n",
       "      <td>No</td>\n",
       "      <td>3</td>\n",
       "      <td>4.1</td>\n",
       "      <td>Green</td>\n",
       "      <td>Very Good</td>\n",
       "      <td>788</td>\n",
       "    </tr>\n",
       "    <tr>\n",
       "      <th>9547</th>\n",
       "      <td>5908749</td>\n",
       "      <td>Ceviz A��ac۱</td>\n",
       "      <td>208</td>\n",
       "      <td>��stanbul</td>\n",
       "      <td>Ko��uyolu Mahallesi, Muhittin ��st�_nda�� Cadd...</td>\n",
       "      <td>Ko��uyolu</td>\n",
       "      <td>Ko��uyolu, ��stanbul</td>\n",
       "      <td>29.041297</td>\n",
       "      <td>41.009847</td>\n",
       "      <td>World Cuisine, Patisserie, Cafe</td>\n",
       "      <td>...</td>\n",
       "      <td>Turkish Lira(TL)</td>\n",
       "      <td>No</td>\n",
       "      <td>No</td>\n",
       "      <td>No</td>\n",
       "      <td>No</td>\n",
       "      <td>3</td>\n",
       "      <td>4.2</td>\n",
       "      <td>Green</td>\n",
       "      <td>Very Good</td>\n",
       "      <td>1034</td>\n",
       "    </tr>\n",
       "    <tr>\n",
       "      <th>9548</th>\n",
       "      <td>5915807</td>\n",
       "      <td>Huqqa</td>\n",
       "      <td>208</td>\n",
       "      <td>��stanbul</td>\n",
       "      <td>Kuru�_e��me Mahallesi, Muallim Naci Caddesi, N...</td>\n",
       "      <td>Kuru�_e��me</td>\n",
       "      <td>Kuru�_e��me, ��stanbul</td>\n",
       "      <td>29.034640</td>\n",
       "      <td>41.055817</td>\n",
       "      <td>Italian, World Cuisine</td>\n",
       "      <td>...</td>\n",
       "      <td>Turkish Lira(TL)</td>\n",
       "      <td>No</td>\n",
       "      <td>No</td>\n",
       "      <td>No</td>\n",
       "      <td>No</td>\n",
       "      <td>4</td>\n",
       "      <td>3.7</td>\n",
       "      <td>Yellow</td>\n",
       "      <td>Good</td>\n",
       "      <td>661</td>\n",
       "    </tr>\n",
       "    <tr>\n",
       "      <th>9549</th>\n",
       "      <td>5916112</td>\n",
       "      <td>A���k Kahve</td>\n",
       "      <td>208</td>\n",
       "      <td>��stanbul</td>\n",
       "      <td>Kuru�_e��me Mahallesi, Muallim Naci Caddesi, N...</td>\n",
       "      <td>Kuru�_e��me</td>\n",
       "      <td>Kuru�_e��me, ��stanbul</td>\n",
       "      <td>29.036019</td>\n",
       "      <td>41.057979</td>\n",
       "      <td>Restaurant Cafe</td>\n",
       "      <td>...</td>\n",
       "      <td>Turkish Lira(TL)</td>\n",
       "      <td>No</td>\n",
       "      <td>No</td>\n",
       "      <td>No</td>\n",
       "      <td>No</td>\n",
       "      <td>4</td>\n",
       "      <td>4.0</td>\n",
       "      <td>Green</td>\n",
       "      <td>Very Good</td>\n",
       "      <td>901</td>\n",
       "    </tr>\n",
       "  </tbody>\n",
       "</table>\n",
       "<p>1994 rows × 21 columns</p>\n",
       "</div>"
      ],
      "text/plain": [
       "      Restaurant ID         Restaurant Name  Country Code              City  \\\n",
       "0           6317637        Le Petit Souffle           162       Makati City   \n",
       "1           6304287        Izakaya Kikufuji           162       Makati City   \n",
       "2           6300002  Heat - Edsa Shangri-La           162  Mandaluyong City   \n",
       "3           6318506                    Ooma           162  Mandaluyong City   \n",
       "4           6314302             Sambo Kojin           162  Mandaluyong City   \n",
       "...             ...                     ...           ...               ...   \n",
       "9545        5915054                Baltazar           208         ��stanbul   \n",
       "9546        5915730             Naml۱ Gurme           208         ��stanbul   \n",
       "9547        5908749            Ceviz A��ac۱           208         ��stanbul   \n",
       "9548        5915807                   Huqqa           208         ��stanbul   \n",
       "9549        5916112             A���k Kahve           208         ��stanbul   \n",
       "\n",
       "                                                Address  \\\n",
       "0     Third Floor, Century City Mall, Kalayaan Avenu...   \n",
       "1     Little Tokyo, 2277 Chino Roces Avenue, Legaspi...   \n",
       "2     Edsa Shangri-La, 1 Garden Way, Ortigas, Mandal...   \n",
       "3     Third Floor, Mega Fashion Hall, SM Megamall, O...   \n",
       "4     Third Floor, Mega Atrium, SM Megamall, Ortigas...   \n",
       "...                                                 ...   \n",
       "9545  Kemanke�� Karamustafa Pa��a Mahallesi, K۱l۱�_ ...   \n",
       "9546  Kemanke�� Karamustafa Pa��a Mahallesi, R۱ht۱m ...   \n",
       "9547  Ko��uyolu Mahallesi, Muhittin ��st�_nda�� Cadd...   \n",
       "9548  Kuru�_e��me Mahallesi, Muallim Naci Caddesi, N...   \n",
       "9549  Kuru�_e��me Mahallesi, Muallim Naci Caddesi, N...   \n",
       "\n",
       "                                        Locality  \\\n",
       "0      Century City Mall, Poblacion, Makati City   \n",
       "1     Little Tokyo, Legaspi Village, Makati City   \n",
       "2     Edsa Shangri-La, Ortigas, Mandaluyong City   \n",
       "3         SM Megamall, Ortigas, Mandaluyong City   \n",
       "4         SM Megamall, Ortigas, Mandaluyong City   \n",
       "...                                          ...   \n",
       "9545                                    Karak�_y   \n",
       "9546                                    Karak�_y   \n",
       "9547                                   Ko��uyolu   \n",
       "9548                                 Kuru�_e��me   \n",
       "9549                                 Kuru�_e��me   \n",
       "\n",
       "                                       Locality Verbose   Longitude  \\\n",
       "0     Century City Mall, Poblacion, Makati City, Mak...  121.027535   \n",
       "1     Little Tokyo, Legaspi Village, Makati City, Ma...  121.014101   \n",
       "2     Edsa Shangri-La, Ortigas, Mandaluyong City, Ma...  121.056831   \n",
       "3     SM Megamall, Ortigas, Mandaluyong City, Mandal...  121.056475   \n",
       "4     SM Megamall, Ortigas, Mandaluyong City, Mandal...  121.057508   \n",
       "...                                                 ...         ...   \n",
       "9545                                Karak�_y, ��stanbul   28.981103   \n",
       "9546                                Karak�_y, ��stanbul   28.977392   \n",
       "9547                               Ko��uyolu, ��stanbul   29.041297   \n",
       "9548                             Kuru�_e��me, ��stanbul   29.034640   \n",
       "9549                             Kuru�_e��me, ��stanbul   29.036019   \n",
       "\n",
       "       Latitude                          Cuisines  ...          Currency  \\\n",
       "0     14.565443        French, Japanese, Desserts  ...  Botswana Pula(P)   \n",
       "1     14.553708                          Japanese  ...  Botswana Pula(P)   \n",
       "2     14.581404  Seafood, Asian, Filipino, Indian  ...  Botswana Pula(P)   \n",
       "3     14.585318                   Japanese, Sushi  ...  Botswana Pula(P)   \n",
       "4     14.584450                  Japanese, Korean  ...  Botswana Pula(P)   \n",
       "...         ...                               ...  ...               ...   \n",
       "9545  41.025785                    Burger, Izgara  ...  Turkish Lira(TL)   \n",
       "9546  41.022793                           Turkish  ...  Turkish Lira(TL)   \n",
       "9547  41.009847   World Cuisine, Patisserie, Cafe  ...  Turkish Lira(TL)   \n",
       "9548  41.055817            Italian, World Cuisine  ...  Turkish Lira(TL)   \n",
       "9549  41.057979                   Restaurant Cafe  ...  Turkish Lira(TL)   \n",
       "\n",
       "     Has Table booking Has Online delivery Is delivering now  \\\n",
       "0                  Yes                  No                No   \n",
       "1                  Yes                  No                No   \n",
       "2                  Yes                  No                No   \n",
       "3                   No                  No                No   \n",
       "4                  Yes                  No                No   \n",
       "...                ...                 ...               ...   \n",
       "9545                No                  No                No   \n",
       "9546                No                  No                No   \n",
       "9547                No                  No                No   \n",
       "9548                No                  No                No   \n",
       "9549                No                  No                No   \n",
       "\n",
       "     Switch to order menu Price range  Aggregate rating  Rating color  \\\n",
       "0                      No           3               4.8    Dark Green   \n",
       "1                      No           3               4.5    Dark Green   \n",
       "2                      No           4               4.4         Green   \n",
       "3                      No           4               4.9    Dark Green   \n",
       "4                      No           4               4.8    Dark Green   \n",
       "...                   ...         ...               ...           ...   \n",
       "9545                   No           3               4.3         Green   \n",
       "9546                   No           3               4.1         Green   \n",
       "9547                   No           3               4.2         Green   \n",
       "9548                   No           4               3.7        Yellow   \n",
       "9549                   No           4               4.0         Green   \n",
       "\n",
       "     Rating text Votes  \n",
       "0      Excellent   314  \n",
       "1      Excellent   591  \n",
       "2      Very Good   270  \n",
       "3      Excellent   365  \n",
       "4      Excellent   229  \n",
       "...          ...   ...  \n",
       "9545   Very Good   870  \n",
       "9546   Very Good   788  \n",
       "9547   Very Good  1034  \n",
       "9548        Good   661  \n",
       "9549   Very Good   901  \n",
       "\n",
       "[1994 rows x 21 columns]"
      ]
     },
     "execution_count": 39,
     "metadata": {},
     "output_type": "execute_result"
    }
   ],
   "source": [
    "high_price = df[df['Price range'] >= 3]\n",
    "high_price"
   ]
  },
  {
   "cell_type": "code",
   "execution_count": 43,
   "id": "b3e95c9f",
   "metadata": {},
   "outputs": [
    {
     "data": {
      "text/plain": [
       "np.float64(46.038114343029086)"
      ]
     },
     "execution_count": 43,
     "metadata": {},
     "output_type": "execute_result"
    }
   ],
   "source": [
    "tb = (high_price['Has Table booking'].value_counts(normalize=True)['Yes'])*100\n",
    "tb"
   ]
  },
  {
   "cell_type": "code",
   "execution_count": 44,
   "id": "6300e050",
   "metadata": {},
   "outputs": [
    {
     "data": {
      "text/plain": [
       "np.float64(23.269809428284855)"
      ]
     },
     "execution_count": 44,
     "metadata": {},
     "output_type": "execute_result"
    }
   ],
   "source": [
    "od =  (high_price['Has Online delivery'].value_counts(normalize=True)['Yes'])*100\n",
    "od"
   ]
  },
  {
   "cell_type": "markdown",
   "id": "a423ad19",
   "metadata": {},
   "source": [
    "# Hence the conclusion is \n",
    "# The % of restaurant which offer the table booking service and there price is also high is: 46.03%\n",
    "# The % of restaurant which offer the Online delivery and there price is also high is: 23.26%"
   ]
  },
  {
   "cell_type": "markdown",
   "id": "8caafbf2",
   "metadata": {},
   "source": [
    "# LEVEL 3 TASK 3 COMPLETED SUCCESSFULLY "
   ]
  },
  {
   "cell_type": "markdown",
   "id": "d7e01cfc",
   "metadata": {},
   "source": [
    "# *COMPLETED ALL THE LEVELS AND ALL THE TASKS SUCCESSFULLY*"
   ]
  }
 ],
 "metadata": {
  "kernelspec": {
   "display_name": "Python 3",
   "language": "python",
   "name": "python3"
  },
  "language_info": {
   "codemirror_mode": {
    "name": "ipython",
    "version": 3
   },
   "file_extension": ".py",
   "mimetype": "text/x-python",
   "name": "python",
   "nbconvert_exporter": "python",
   "pygments_lexer": "ipython3",
   "version": "3.13.2"
  }
 },
 "nbformat": 4,
 "nbformat_minor": 5
}
